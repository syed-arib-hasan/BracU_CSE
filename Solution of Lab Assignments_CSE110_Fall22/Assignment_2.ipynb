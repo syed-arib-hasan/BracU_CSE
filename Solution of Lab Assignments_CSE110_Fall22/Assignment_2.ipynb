{
  "nbformat": 4,
  "nbformat_minor": 0,
  "metadata": {
    "colab": {
      "provenance": []
    },
    "kernelspec": {
      "name": "python3",
      "display_name": "Python 3"
    },
    "language_info": {
      "name": "python"
    }
  },
  "cells": [
    {
      "cell_type": "code",
      "execution_count": null,
      "metadata": {
        "colab": {
          "base_uri": "https://localhost:8080/"
        },
        "id": "TThLWWCQTyfa",
        "outputId": "8dcecca3-313f-4ba9-d64e-2de7112de7ed"
      },
      "outputs": [
        {
          "output_type": "stream",
          "name": "stdout",
          "text": [
            "Enter 1st Number: 4\n",
            "Enter 2nd Number: 5\n",
            "Sum = 9\n",
            "Product = 20\n",
            "Difference = -1\n"
          ]
        }
      ],
      "source": [
        "#task 1\n",
        "first_number = int (input(\"Enter 1st Number: \"))\n",
        "second_number = int (input(\"Enter 2nd Number: \"))\n",
        "sum= first_number+second_number\n",
        "product= first_number*second_number\n",
        "diff=first_number-second_number\n",
        "print(\"Sum =\",sum) \n",
        "print(\"Product =\",product)\n",
        "print(\"Difference =\",diff)"
      ]
    },
    {
      "cell_type": "code",
      "source": [
        "#task 2\n",
        "import math\n",
        "r= float(input(\"Enter the radius of the circle: \"))\n",
        "area= math.pi* math.pow(r,2) \n",
        "cir= 2*math.pi*r\n",
        "print(\"Area is\",area)\n",
        "print(\"Circumference is\",cir)"
      ],
      "metadata": {
        "colab": {
          "base_uri": "https://localhost:8080/"
        },
        "id": "BNdPWf6BWkax",
        "outputId": "2e48f08b-1622-4f5a-9116-ea5fc98f9e58"
      },
      "execution_count": null,
      "outputs": [
        {
          "output_type": "stream",
          "name": "stdout",
          "text": [
            "Enter the radius of the circle: 4\n",
            "Area is 50.26548245743669\n",
            "Circumference is 25.132741228718345\n"
          ]
        }
      ]
    },
    {
      "cell_type": "code",
      "source": [
        "#task 3\n",
        "x=int(input(\"Enter 1st number: \"))\n",
        "y=int(input(\"Enter 2nd number: \"))\n",
        "if x>y:\n",
        "  print(\"First is greater\")\n",
        "elif y>x:\n",
        "  print(\"Second is greater\")\n",
        "else:\n",
        "  print(\"The numbers are equal\")"
      ],
      "metadata": {
        "colab": {
          "base_uri": "https://localhost:8080/"
        },
        "id": "6OEKfVldYddt",
        "outputId": "9a62679b-7cd5-4249-8025-7d2057de0469"
      },
      "execution_count": null,
      "outputs": [
        {
          "output_type": "stream",
          "name": "stdout",
          "text": [
            "Enter 1st number: 11\n",
            "Enter 2nd number: 11\n",
            "The numbers are equal\n"
          ]
        }
      ]
    },
    {
      "cell_type": "code",
      "source": [
        " #task 4\n",
        "x=int(input(\"Enter 1st number: \"))\n",
        "y=int(input(\"Enter 2nd number: \"))\n",
        "diff=0\n",
        "if x>y:\n",
        "  diff=x-y\n",
        "elif y>x:\n",
        "  diff= y-x\n",
        "print(diff)"
      ],
      "metadata": {
        "colab": {
          "base_uri": "https://localhost:8080/"
        },
        "id": "ANtbiaiAZa6N",
        "outputId": "44794078-e7d6-4afd-fca2-d56650ba7450"
      },
      "execution_count": null,
      "outputs": [
        {
          "output_type": "stream",
          "name": "stdout",
          "text": [
            "Enter 1st number: 0\n",
            "Enter 2nd number: 0\n",
            "0\n"
          ]
        }
      ]
    },
    {
      "cell_type": "code",
      "source": [
        "#task 5\n",
        "x=int(input(\"Enter an integer: \"))\n",
        "if x%2==0:\n",
        "  print(\"The number is even\")\n",
        "else:\n",
        "  print(\"The number is odd\")"
      ],
      "metadata": {
        "colab": {
          "base_uri": "https://localhost:8080/"
        },
        "id": "7-zEyY6pb2ba",
        "outputId": "f065b212-7742-4057-f7bc-b49b1bdab51a"
      },
      "execution_count": null,
      "outputs": [
        {
          "output_type": "stream",
          "name": "stdout",
          "text": [
            "Enter an integer: 0\n",
            "The number is even\n"
          ]
        }
      ]
    },
    {
      "cell_type": "code",
      "source": [
        "#task 6\n",
        "x= int(input(\"Enter an integer: \"))\n",
        "if x%2==0 or x%5==0:\n",
        "  print(x)\n",
        "else:\n",
        "  print(\"Not a multiple of 2 OR 5\")"
      ],
      "metadata": {
        "colab": {
          "base_uri": "https://localhost:8080/"
        },
        "id": "A9vWOAGRcyq6",
        "outputId": "1055566e-407d-4ed3-d2db-67754af12c00"
      },
      "execution_count": null,
      "outputs": [
        {
          "output_type": "stream",
          "name": "stdout",
          "text": [
            "Enter an integer: 3\n",
            "Not a multiple of 2 OR 5\n"
          ]
        }
      ]
    },
    {
      "cell_type": "code",
      "source": [
        "#task 7\n",
        "x= int(input(\"Enter an integer: \"))\n",
        "if (x%2==0 and x%5!=0) or (x%5==0 and x%2!=0):\n",
        "  print(x)\n",
        "elif x%2==0 and x%5==0:\n",
        "  print(\"Multiple of 2 and 5 both\")\n",
        "else:\n",
        "  print(\"Not a multiple we want\")"
      ],
      "metadata": {
        "colab": {
          "base_uri": "https://localhost:8080/"
        },
        "id": "FAAepeztdWkZ",
        "outputId": "beca32c7-6532-486a-ff0e-95af6fd3607a"
      },
      "execution_count": null,
      "outputs": [
        {
          "output_type": "stream",
          "name": "stdout",
          "text": [
            "Enter an integer: 17\n",
            "Not a multiple we want\n"
          ]
        }
      ]
    },
    {
      "cell_type": "code",
      "source": [
        "#task 8\n",
        "x= int(input(\"Enter an integer: \"))\n",
        "if x%2==0 and x%5==0: \n",
        "  print(x)\n",
        "else:\n",
        "  print(\"Not multiple of 2 and 5 both\")"
      ],
      "metadata": {
        "colab": {
          "base_uri": "https://localhost:8080/"
        },
        "id": "b_M_ZsiCev-6",
        "outputId": "8bf13c60-b225-4e05-9235-3c2ac5f117c3"
      },
      "execution_count": null,
      "outputs": [
        {
          "output_type": "stream",
          "name": "stdout",
          "text": [
            "Enter an integer: 15\n",
            "Not multiple of 2 and 5 both\n"
          ]
        }
      ]
    },
    {
      "cell_type": "code",
      "source": [
        "#task 9\n",
        "sec=int(input(\"Enter your seconds: \"))\n",
        "h=sec//3600\n",
        "s= sec%3600\n",
        "m= s//60\n",
        "s=s%60\n",
        "print(f\"Hours: {h} Minutes: {m} Seconds: {s}\")"
      ],
      "metadata": {
        "colab": {
          "base_uri": "https://localhost:8080/"
        },
        "id": "OOCh5QnXgdAr",
        "outputId": "273ef328-e3d6-4f02-ee1d-1ee63a53695e"
      },
      "execution_count": null,
      "outputs": [
        {
          "output_type": "stream",
          "name": "stdout",
          "text": [
            "Enter your seconds: 10000\n",
            "Hours: 2 Minutes: 46 Seconds: 40\n"
          ]
        }
      ]
    },
    {
      "cell_type": "code",
      "source": [
        "#task 10\n",
        "x=int(input(\"Enter working hours: \"))\n",
        "s=0\n",
        "if 0<=x<=168:\n",
        "  if x<=40:\n",
        "    s= 200*x\n",
        "  else:\n",
        "    extra=x-40\n",
        "    s=8000+(300*extra)\n",
        "  print(s)\n",
        "elif x<0:\n",
        "  print(\"Hour cannot be negative\")\n",
        "elif x> 168:\n",
        "  print(\"Impossible to work more than 168 hours weekly\")"
      ],
      "metadata": {
        "colab": {
          "base_uri": "https://localhost:8080/"
        },
        "id": "jALsTO9KirkK",
        "outputId": "59d9be9f-c864-4b16-8318-287abf538e4a"
      },
      "execution_count": null,
      "outputs": [
        {
          "output_type": "stream",
          "name": "stdout",
          "text": [
            "Enter working hours: 170\n",
            "Impossible to work more than 168 hours weekly\n"
          ]
        }
      ]
    },
    {
      "cell_type": "code",
      "source": [
        "#task 11\n",
        "import math\n",
        "s=int(input(\"Enter an integer: \"))\n",
        "if s<100:\n",
        "  L= 3000- 125*pow(s,2)\n",
        "  print(L)\n",
        "elif s>=100:\n",
        "  L=12000/(4+pow(s,2)/14900)\n",
        "  print(L)"
      ],
      "metadata": {
        "colab": {
          "base_uri": "https://localhost:8080/"
        },
        "id": "7yrVa1xtlzn_",
        "outputId": "0c5fca46-884b-4723-dc53-1be7afa6088a"
      },
      "execution_count": null,
      "outputs": [
        {
          "output_type": "stream",
          "name": "stdout",
          "text": [
            "Enter an integer: 3\n",
            "1875\n"
          ]
        }
      ]
    },
    {
      "cell_type": "code",
      "source": [
        "#task 12\n",
        "h=int(input(\"Enter your hour: \"))\n",
        "if 4<=h<=6:\n",
        "  print(\"Breakfast\")\n",
        "elif 12<=h<=13:\n",
        "  print(\"Lunch\")\n",
        "elif 16<=h<=17:\n",
        "  print(\"Snacks\")\n",
        "elif 19<=h<=20:\n",
        "  print (\"Dinner\")\n",
        "elif h<0 or h>=24:\n",
        "  print(\"Wrong Time\")\n",
        "else:\n",
        "  print(\"Patience is a virtue\")"
      ],
      "metadata": {
        "colab": {
          "base_uri": "https://localhost:8080/"
        },
        "id": "A_MdElK2n2Yl",
        "outputId": "c6dbe9f7-3e27-410b-9af0-d2696297ca6e"
      },
      "execution_count": null,
      "outputs": [
        {
          "output_type": "stream",
          "name": "stdout",
          "text": [
            "Enter your hour: 4\n",
            "Breakfast\n"
          ]
        }
      ]
    },
    {
      "cell_type": "code",
      "source": [
        "#task 13\n",
        "x=int(input(\"Enter your mark: \"))\n",
        "if 0<x<50:\n",
        "  print(\"F\")\n",
        "elif 50<=x<=59:\n",
        "  print(\"E\")\n",
        "elif 60<=x<=69:\n",
        "  print(\"D\")\n",
        "elif 70<=x<=79:\n",
        "  print(\"c\")\n",
        "elif 80<=x<=89:\n",
        "  print(\"B\")\n",
        "elif 90<=x<=100:\n",
        "  print(\"A\")\n",
        "else:\n",
        "  print(\"Invalid Input\")"
      ],
      "metadata": {
        "colab": {
          "base_uri": "https://localhost:8080/"
        },
        "id": "ME-d04HVskEg",
        "outputId": "be1d844e-ea79-4692-ba72-3a1fad69ac28"
      },
      "execution_count": null,
      "outputs": [
        {
          "output_type": "stream",
          "name": "stdout",
          "text": [
            "Enter your mark: 57\n",
            "E\n"
          ]
        }
      ]
    },
    {
      "cell_type": "code",
      "source": [
        "#task 14\n",
        "d=float (input(\"Enter distance in meter: \"))\n",
        "t=int(input(\"Enter Time in seconds: \"))\n",
        "s= (d/1000)/(t/3600)\n",
        "if s<60:\n",
        "  print (s,\"km/h\",\"\\nToo slow. Needs more changes.\")\n",
        "elif 60<=s<=90:\n",
        "  print (s,\"km/h\",\"\\nVelocity is okay. The car is ready!\")\n",
        "elif s>90:\n",
        "  print(s,\"km/h\", \"\\nToo fast. Only a few changes should suffice.\")"
      ],
      "metadata": {
        "colab": {
          "base_uri": "https://localhost:8080/"
        },
        "id": "4Dja8ySVuVzD",
        "outputId": "9d0390c3-ae60-4665-eb84-fc50a71ed967"
      },
      "execution_count": null,
      "outputs": [
        {
          "output_type": "stream",
          "name": "stdout",
          "text": [
            "Enter distance in meter: 25400\n",
            "Enter Time in seconds: 3600\n",
            "25.4 km/h \n",
            "Too slow. Needs more changes.\n"
          ]
        }
      ]
    },
    {
      "cell_type": "code",
      "source": [
        "#task 15\n",
        "cg= float(input(\"Enter CGPA: \"))\n",
        "c= int(input(\"Enter number of completed credit: \"))\n",
        "if c>=30 and cg>=3.80:\n",
        "  if 3.80<=cg<=3.89:\n",
        "    print(\"The student is eligible for a waiver of 25 percent.\")\n",
        "  elif 3.90<=cg<=3.94:\n",
        "    print(\"The student is eligible for a waiver of 50 percent.\")\n",
        "  elif 3.95<=cg<=3.99:\n",
        "    print(\"The student is eligible for a waiver of 75 percent.\")\n",
        "  elif cg==4.00:\n",
        "    print(\"The student is eligible for a waiver of 100 percent.\")\n",
        "else:\n",
        "  print(\"The student is not eligible for a waiver\")"
      ],
      "metadata": {
        "id": "hO8JRzIRzRYj",
        "colab": {
          "base_uri": "https://localhost:8080/"
        },
        "outputId": "79727b85-136f-4abb-8f04-15577d3922b6"
      },
      "execution_count": null,
      "outputs": [
        {
          "output_type": "stream",
          "name": "stdout",
          "text": [
            "Enter CGPA: 3.93\n",
            "Enter number of completed credit: 78\n",
            "The student is eligible for a waiver of 50 percent.\n"
          ]
        }
      ]
    },
    {
      "cell_type": "code",
      "source": [
        "#task 20\n",
        "x=int(input(\"Enter an integer: \"))\n",
        "if x%2!=0 and x%5!=0:\n",
        "  print(x)\n",
        "else:\n",
        "  print(\"No\") "
      ],
      "metadata": {
        "colab": {
          "base_uri": "https://localhost:8080/"
        },
        "id": "gtLfEth6OHAw",
        "outputId": "caa2c6f7-608b-4de3-956a-8f2f1f93cdef"
      },
      "execution_count": null,
      "outputs": [
        {
          "output_type": "stream",
          "name": "stdout",
          "text": [
            "Enter an integer: 12\n",
            "No\n"
          ]
        }
      ]
    },
    {
      "cell_type": "code",
      "source": [
        "#task 21\n",
        "x=int(input(\"Enter an integer: \"))\n",
        "if x%2!=0 or x%5!=0:\n",
        "  print(x)\n",
        "else:\n",
        "  print(\"No\") "
      ],
      "metadata": {
        "colab": {
          "base_uri": "https://localhost:8080/"
        },
        "id": "olmGKNoZWjss",
        "outputId": "d15aec0c-920f-436f-a9ad-b4a24a2ad700"
      },
      "execution_count": null,
      "outputs": [
        {
          "output_type": "stream",
          "name": "stdout",
          "text": [
            "Enter an integer: 14\n",
            "14\n"
          ]
        }
      ]
    },
    {
      "cell_type": "code",
      "source": [
        "#task 22\n",
        "x=int(input(\"number of canvases: \"))\n",
        "y= int(input(\"number of paint tubes: \"))\n",
        "s= x*120+y*75\n",
        "d=0\n",
        "if 300<s<=499:\n",
        "  d= 10\n",
        "elif 500<=s<=749:\n",
        "  d=20\n",
        "elif 750<=s<=999:\n",
        "  d=50\n",
        "elif s>=1000:\n",
        "  d=150\n",
        "print (f\"Previous total: {s}\\nNew total after discount: {s-d}\")"
      ],
      "metadata": {
        "colab": {
          "base_uri": "https://localhost:8080/"
        },
        "id": "vfQPyj4LYf4S",
        "outputId": "3a3a692c-3c05-4941-af8a-59a3c48f9a2d"
      },
      "execution_count": null,
      "outputs": [
        {
          "output_type": "stream",
          "name": "stdout",
          "text": [
            "number of canvases: 0\n",
            "number of paint tubes: 1\n",
            "Previous total: 75\n",
            "New total after discount: 75\n"
          ]
        }
      ]
    },
    {
      "cell_type": "code",
      "source": [
        "#task 23\n",
        "temp = int(input(\"Enter your age: \"))\n",
        "celsius = (temp - 32) * 5/9\n",
        "print(f\"{celsius} degrees C\")\n",
        "if celsius<20:\n",
        "  print(\"Winter\")\n",
        "elif 20<=celsius<=25:\n",
        "  print(\"Autumn\")\n",
        "elif 25<celsius<30:\n",
        "  print(\"Spring\")\n",
        "elif celsius>=30:\n",
        "  print(\"Summer\")"
      ],
      "metadata": {
        "colab": {
          "base_uri": "https://localhost:8080/"
        },
        "id": "LUY_13i3kOzB",
        "outputId": "6dd4915e-6a10-4c0e-b6bf-c3daac957a3f"
      },
      "execution_count": null,
      "outputs": [
        {
          "output_type": "stream",
          "name": "stdout",
          "text": [
            "Enter your age: 32\n",
            "0.0 degrees C\n",
            "Winter\n"
          ]
        }
      ]
    }
  ]
}