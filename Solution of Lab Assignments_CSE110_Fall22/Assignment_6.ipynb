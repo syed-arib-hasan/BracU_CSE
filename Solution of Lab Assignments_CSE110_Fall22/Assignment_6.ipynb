{
  "nbformat": 4,
  "nbformat_minor": 0,
  "metadata": {
    "colab": {
      "provenance": []
    },
    "kernelspec": {
      "name": "python3",
      "display_name": "Python 3"
    },
    "language_info": {
      "name": "python"
    }
  },
  "cells": [
    {
      "cell_type": "code",
      "execution_count": null,
      "metadata": {
        "colab": {
          "base_uri": "https://localhost:8080/"
        },
        "id": "7IJz6sZVuIAd",
        "outputId": "1c2ec484-e870-4f10-a33a-e49504254b27"
      },
      "outputs": [
        {
          "output_type": "stream",
          "name": "stdout",
          "text": [
            "400\n"
          ]
        }
      ],
      "source": [
        "#task 1\n",
        "print( (\"The Institute\", (\"Best Mystery & Thriller\", \"The Silent Patient\", 68821), 75717,\n",
        "[1, 2, 3, 400, 5, 6, 7], (\"Best Fiction\", \"The Testaments\", 98291))[3][3])"
      ]
    },
    {
      "cell_type": "code",
      "source": [
        "#task 2\n",
        "x= (10, 20, 24, 25, 26, 35, 70)\n",
        "l=len(x)\n",
        "x=x[2:len(x)-2]\n",
        "print(x)"
      ],
      "metadata": {
        "colab": {
          "base_uri": "https://localhost:8080/"
        },
        "id": "cGswSkV7vaKE",
        "outputId": "8acd9f94-b5fb-4ce6-e142-4364d04bf47b"
      },
      "execution_count": null,
      "outputs": [
        {
          "output_type": "stream",
          "name": "stdout",
          "text": [
            "(24, 25, 26)\n"
          ]
        }
      ]
    },
    {
      "cell_type": "code",
      "source": [
        "#task 3\n",
        "book_info = (\n",
        "(\"Best Mystery & Thriller\",\"The Silent Patient\",68,821),\n",
        "(\"Best Horror\",\"The Institute\",75,717),\n",
        "(\"Best History & Biography\",\"The five\",31,783 ),\n",
        "(\"Best Fiction\",\"The Testaments\",98,291)\n",
        ")\n",
        "print(f\"Size of the tuple is: {len(book_info)}\")\n",
        "for i in book_info:\n",
        "  print(i)"
      ],
      "metadata": {
        "colab": {
          "base_uri": "https://localhost:8080/"
        },
        "id": "UN_N42RcwXMt",
        "outputId": "03586253-ddfb-4528-94af-887c121056f5"
      },
      "execution_count": null,
      "outputs": [
        {
          "output_type": "stream",
          "name": "stdout",
          "text": [
            "Size of the tuple is: 4\n",
            "('Best Mystery & Thriller', 'The Silent Patient', 68, 821)\n",
            "('Best Horror', 'The Institute', 75, 717)\n",
            "('Best History & Biography', 'The five', 31, 783)\n",
            "('Best Fiction', 'The Testaments', 98, 291)\n"
          ]
        }
      ]
    },
    {
      "cell_type": "code",
      "source": [
        "#task 4\n",
        "book_info = (\n",
        "(\"Best Mystery & Thriller\",\"The Silent Patient\",68821),\n",
        "(\"Best Horror\",\"The Institute\",75717),\n",
        "(\"Best History & Biography\",\"The five\",31783 ),\n",
        "(\"Best Fiction\",\"The Testaments\",98291)\n",
        ") \n",
        "for i in book_info:\n",
        "  category,name,votes=i\n",
        "  print(f\"{name} won the '{category}' with {votes} votes\")"
      ],
      "metadata": {
        "colab": {
          "base_uri": "https://localhost:8080/"
        },
        "id": "qESkOS4Lxdpu",
        "outputId": "bf0852dc-77a9-495a-ea8c-80fd169daa36"
      },
      "execution_count": null,
      "outputs": [
        {
          "output_type": "stream",
          "name": "stdout",
          "text": [
            "The Silent Patient won the 'Best Mystery & Thriller' with 68821 votes\n",
            "The Institute won the 'Best Horror' with 75717 votes\n",
            "The five won the 'Best History & Biography' with 31783 votes\n",
            "The Testaments won the 'Best Fiction' with 98291 votes\n"
          ]
        }
      ]
    },
    {
      "cell_type": "code",
      "source": [
        "#task 5\n",
        "x= (10, 8, 5, 2, 10, 15, 10, 8, 5, 8, 8, 2)\n",
        "i=int(input())\n",
        "count=0\n",
        "for j in x:\n",
        "  if j==i:\n",
        "    count+=1\n",
        "print(f\"{i} appears {count} times in the tuple\")"
      ],
      "metadata": {
        "colab": {
          "base_uri": "https://localhost:8080/"
        },
        "id": "e4S6c9ZgziJl",
        "outputId": "8930858e-ae34-4084-b120-aae824c01386"
      },
      "execution_count": null,
      "outputs": [
        {
          "output_type": "stream",
          "name": "stdout",
          "text": [
            "8\n",
            "8 appears 4 times in the tuple\n"
          ]
        }
      ]
    },
    {
      "cell_type": "code",
      "source": [
        "#task 6\n",
        "x=('a', 'b', 'c', 'd', 'e', 'f', 'g', 'h')\n",
        "a=()\n",
        "l=len(x)\n",
        "for i in range (-1,-(l+1),-1):\n",
        "  a+=x[i],\n",
        "print(a)"
      ],
      "metadata": {
        "colab": {
          "base_uri": "https://localhost:8080/"
        },
        "id": "J2HB1BAQ01cF",
        "outputId": "ba9fb2b8-ebd2-4831-fb3b-c4496b4db749"
      },
      "execution_count": null,
      "outputs": [
        {
          "output_type": "stream",
          "name": "stdout",
          "text": [
            "('h', 'g', 'f', 'e', 'd', 'c', 'b', 'a')\n"
          ]
        }
      ]
    },
    {
      "cell_type": "code",
      "source": [
        "#task 7\n",
        "d1={'Harry':15, 'Draco':8, 'Nevil':19}\n",
        "d2={'Ginie':18, 'Luna': 14}\n",
        "d={}\n",
        "for key,values in d1.items():\n",
        "  d[key]=values\n",
        "for key, values in d2.items():\n",
        "  d[key]=values\n",
        "print(d)"
      ],
      "metadata": {
        "colab": {
          "base_uri": "https://localhost:8080/"
        },
        "id": "X_sFiN-s7_jP",
        "outputId": "156d10be-6fa2-464c-f10a-feae49754e6a"
      },
      "execution_count": null,
      "outputs": [
        {
          "output_type": "stream",
          "name": "stdout",
          "text": [
            "{'Harry': 15, 'Draco': 8, 'Nevil': 19, 'Ginie': 18, 'Luna': 14}\n"
          ]
        }
      ]
    },
    {
      "cell_type": "code",
      "source": [
        "#task 8\n",
        "dit={}\n",
        "sum=0\n",
        "counter=0\n",
        "while True:\n",
        "  key=input()\n",
        "  if key==\"End\":\n",
        "    break\n",
        "  val=int(input())\n",
        "  dit[key]=val\n",
        "for i,j in dit.items():\n",
        "  sum+=j\n",
        "  counter+=1\n",
        "print(f\"Average is {int(sum/counter)}.\")"
      ],
      "metadata": {
        "colab": {
          "base_uri": "https://localhost:8080/"
        },
        "id": "y9077w3qBeng",
        "outputId": "d4e83b3b-a29d-465f-c8d2-540c0ce55e4f"
      },
      "execution_count": null,
      "outputs": [
        {
          "output_type": "stream",
          "name": "stdout",
          "text": [
            "jon\n",
            "100\n",
            "arib\n",
            "100\n",
            "ayan\n",
            "100\n",
            "End\n",
            "Average is 100.\n"
          ]
        }
      ]
    },
    {
      "cell_type": "code",
      "source": [
        "#task 9\n",
        "x=int(input())\n",
        "exam_marks = {'Cierra Vega': 175, 'Alden Cantrell': 200, 'Kierra Gentry': 165, 'Pierre Cox': 190}\n",
        "dit={}\n",
        "for key,value in exam_marks.items():\n",
        "  if value >= x:\n",
        "    dit[key]=value\n",
        "print(dit)"
      ],
      "metadata": {
        "colab": {
          "base_uri": "https://localhost:8080/"
        },
        "id": "tQd3YDsUlcOE",
        "outputId": "d12a95b7-07f4-4b2e-d409-583d6e478b44"
      },
      "execution_count": null,
      "outputs": [
        {
          "output_type": "stream",
          "name": "stdout",
          "text": [
            "190\n",
            "{'Alden Cantrell': 200, 'Pierre Cox': 190}\n"
          ]
        }
      ]
    },
    {
      "cell_type": "code",
      "source": [
        "#task 10\n",
        "dit={'sci fi': 12, 'mystery': 15, 'horror': 8, 'mythology': 10, 'young_adult': 4, 'adventure':14}\n",
        "max=0\n",
        "j=0\n",
        "for key, value in dit.items():\n",
        "  if value>max:\n",
        "    max=value\n",
        "    j=key\n",
        "    #continue\n",
        "print(f\"The highest selling book genre is {j} and the number of books sold are {max}.\") \n"
      ],
      "metadata": {
        "colab": {
          "base_uri": "https://localhost:8080/"
        },
        "id": "-N1XAbz-ms5l",
        "outputId": "dfb71be9-31a2-4a53-ec71-f1521d4321c4"
      },
      "execution_count": null,
      "outputs": [
        {
          "output_type": "stream",
          "name": "stdout",
          "text": [
            "The highest selling book genre is mystery and the number of books sold are 15.\n"
          ]
        }
      ]
    },
    {
      "cell_type": "code",
      "source": [
        "#task 11\n",
        "x=input()\n",
        "dit={}\n",
        "for i in x:\n",
        "  if i==\" \":\n",
        "    continue\n",
        "  count=0\n",
        "  for j in x:\n",
        "    if i==j:\n",
        "      count+=1\n",
        "  dit[i]=count\n",
        "print(dit)"
      ],
      "metadata": {
        "id": "Z_iYcWxmn7f2",
        "colab": {
          "base_uri": "https://localhost:8080/"
        },
        "outputId": "506b0d69-4a77-4337-cb5d-a756c9ca59b6"
      },
      "execution_count": null,
      "outputs": [
        {
          "output_type": "stream",
          "name": "stdout",
          "text": [
            "python programming is fun\n",
            "{'p': 2, 'y': 1, 't': 1, 'h': 1, 'o': 2, 'n': 3, 'r': 2, 'g': 2, 'a': 1, 'm': 2, 'i': 2, 's': 1, 'f': 1, 'u': 1}\n"
          ]
        }
      ]
    },
    {
      "cell_type": "code",
      "source": [
        "#task 12\n",
        "dict_1 = {'A': [1, 2, 3], 'b': ['1', '2'], \"c\": [4, 5, 6, 7]}\n",
        "count=0\n",
        "for key,values in dict_1.items():\n",
        "  for i in values:\n",
        "    count+=1\n",
        "print(count)"
      ],
      "metadata": {
        "colab": {
          "base_uri": "https://localhost:8080/"
        },
        "id": "2qcRNFZjmDQk",
        "outputId": "1b233d53-4cb7-4740-db08-a5b843187c87"
      },
      "execution_count": null,
      "outputs": [
        {
          "output_type": "stream",
          "name": "stdout",
          "text": [
            "9\n"
          ]
        }
      ]
    },
    {
      "cell_type": "code",
      "source": [
        "#task 13\n",
        "list_1 = [(\"a\", 1), (\"b\", 2), (\"a\", 3), (\"b\", 1), (\"a\", 2), (\"c\", 1)]\n",
        "dic={}\n",
        "for i,j in list_1:\n",
        "    dic[i]=[]\n",
        "for i,j in list_1:\n",
        "    dic[i].append(j)\n",
        "print(dic)"
      ],
      "metadata": {
        "colab": {
          "base_uri": "https://localhost:8080/"
        },
        "id": "q5YfupndoJvr",
        "outputId": "35fb87eb-b271-4bb1-8800-d0fa0e756a7e"
      },
      "execution_count": null,
      "outputs": [
        {
          "output_type": "stream",
          "name": "stdout",
          "text": [
            "{'a': [1, 3, 2], 'b': [2, 1], 'c': [1]}\n"
          ]
        }
      ]
    },
    {
      "cell_type": "code",
      "source": [
        "t=[(11, 22), (33, 55), (55, 77), (11, 44)]\n",
        "l=[]\n",
        "for i in t:\n",
        "  a,b=i\n",
        "  l.append(a*b)\n",
        "print(l)\n"
      ],
      "metadata": {
        "id": "NoIxWO1_YN3t",
        "colab": {
          "base_uri": "https://localhost:8080/"
        },
        "outputId": "236430ac-29cc-4c1e-f4fe-ba84219aeda2"
      },
      "execution_count": null,
      "outputs": [
        {
          "output_type": "stream",
          "name": "stdout",
          "text": [
            "[242, 1815, 4235, 484]\n"
          ]
        }
      ]
    },
    {
      "cell_type": "code",
      "source": [
        "x= input()\n",
        "t= ( [1, 2, 3], [4, 5, 6], [7, 8, 9], [10, 11, 12])\n",
        "for i in t:\n",
        "  i[-1]=x\n",
        "print(t)"
      ],
      "metadata": {
        "id": "a0nO_wBSmEqK",
        "colab": {
          "base_uri": "https://localhost:8080/"
        },
        "outputId": "55510a5d-7223-407e-f894-b2dc352d36d6"
      },
      "execution_count": null,
      "outputs": [
        {
          "output_type": "stream",
          "name": "stdout",
          "text": [
            "abc\n",
            "([1, 2, 'abc'], [4, 5, 'abc'], [7, 8, 'abc'], [10, 11, 'abc'])\n"
          ]
        }
      ]
    },
    {
      "cell_type": "code",
      "source": [
        "#task 17\n",
        "d={'c1':'Red','c2':'Green','c3':None, 'd4':'Blue', 'a5':None}\n",
        "n={}\n",
        "for i,j in d.items():\n",
        "  if d[i]==None:\n",
        "    continue\n",
        "  else:\n",
        "    n[i]=j\n",
        "print(n)"
      ],
      "metadata": {
        "colab": {
          "base_uri": "https://localhost:8080/"
        },
        "id": "qD8yf-rWrB8j",
        "outputId": "7b53caa4-816f-4d41-b38a-f637bbc578bd"
      },
      "execution_count": null,
      "outputs": [
        {
          "output_type": "stream",
          "name": "stdout",
          "text": [
            "{'c1': 'Red', 'c2': 'Green', 'd4': 'Blue'}\n"
          ]
        }
      ]
    },
    {
      "cell_type": "code",
      "source": [
        "#task 18\n",
        "a,b=(input().split(\", \"))\n",
        "d={'a' : 6, 'b' : 7, 'c' : 9, 'd' : 8, 'e' : 11, 'f' : 12, 'g' : 13}\n",
        "d1={}\n",
        "for i,j in d.items():\n",
        "  if j in range (int(a),int(b)):\n",
        "    d1[i]=j\n",
        "print(d1) "
      ],
      "metadata": {
        "colab": {
          "base_uri": "https://localhost:8080/"
        },
        "id": "v89iF52HsZT-",
        "outputId": "ce151be9-70fa-4b88-bb71-4c485fd03969"
      },
      "execution_count": null,
      "outputs": [
        {
          "output_type": "stream",
          "name": "stdout",
          "text": [
            "20, 30\n",
            "{}\n"
          ]
        }
      ]
    },
    {
      "cell_type": "code",
      "source": [
        "#task 19\n",
        "t=[(20, 80), (31, 80), (1, 22), (88, 11), (27, 11)]\n",
        "d={}\n",
        "for i,j in t:\n",
        "  if j not in d:\n",
        "    d[j]=[]\n",
        "  d[j].append((i,j))\n",
        "print(d)\n"
      ],
      "metadata": {
        "colab": {
          "base_uri": "https://localhost:8080/"
        },
        "id": "C1hhcTfOuFDU",
        "outputId": "b1b65ef9-7dcc-4818-807b-7a0dc6130880"
      },
      "execution_count": null,
      "outputs": [
        {
          "output_type": "stream",
          "name": "stdout",
          "text": [
            "{80: [(20, 80), (31, 80)], 22: [(1, 22)], 11: [(88, 11), (27, 11)]}\n"
          ]
        }
      ]
    },
    {
      "cell_type": "code",
      "source": [
        "#task 20\n",
        "x='I love Programming. Python is love.'\n",
        "y=\"\"\n",
        "c=['-', '=', '+', '*', '%']\n",
        "a={}\n",
        "for i in x:\n",
        "  if i==\".\":\n",
        "    continue\n",
        "  else:\n",
        "    y+=i\n",
        "z=y.split(\" \")\n",
        "print(f\"Words in the given String: {z}\")\n",
        "l=[]\n",
        "for i in z:\n",
        "  if i not in l:\n",
        "    l.append(i)\n",
        "for i in l:\n",
        "  s=0\n",
        "  for j in i:\n",
        "    s+=ord(j)\n",
        "  k=int(s%len(c))\n",
        "  if c[k] not in a:\n",
        "    a[c[k]]=[]\n",
        "  a[c[k]].append(i)\n",
        "print(a)"
      ],
      "metadata": {
        "colab": {
          "base_uri": "https://localhost:8080/"
        },
        "id": "KuXcchY4VirR",
        "outputId": "753b69fd-0f20-4360-ab51-d0d13370c63e"
      },
      "execution_count": null,
      "outputs": [
        {
          "output_type": "stream",
          "name": "stdout",
          "text": [
            "Words in the given String: ['I', 'love', 'Programming', 'Python', 'is', 'love']\n",
            "{'*': ['I', 'love'], '-': ['Programming', 'is'], '+': ['Python']}\n"
          ]
        }
      ]
    }
  ]
}