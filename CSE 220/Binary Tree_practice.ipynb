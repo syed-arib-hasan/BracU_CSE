{
 "cells": [
  {
   "cell_type": "code",
   "execution_count": 2,
   "metadata": {},
   "outputs": [],
   "source": [
    "class BTNode:\n",
    "  def __init__(self, elem):\n",
    "    self.elem = elem\n",
    "    self.right = None\n",
    "    self.left = None\n",
    "\n",
    "def inorder(root):\n",
    "  if root == None:\n",
    "    return\n",
    "\n",
    "  inorder(root.left)\n",
    "  print(root.elem, end = ' ')\n",
    "  inorder(root.right)\n",
    "\n",
    "def tree_construction(arr, i = 1):\n",
    "  if i>=len(arr) or arr[i] == None:\n",
    "    return None\n",
    "  p = BTNode(arr[i])\n",
    "  p.left = tree_construction(arr, 2*i)\n",
    "  p.right = tree_construction(arr, 2*i+1)\n",
    "  return p"
   ]
  },
  {
   "cell_type": "code",
   "execution_count": 3,
   "metadata": {},
   "outputs": [
    {
     "name": "stdout",
     "output_type": "stream",
     "text": [
      "False\n"
     ]
    }
   ],
   "source": [
    "#identical\n",
    "def iden(root1,root2):\n",
    "    if not root1 and not root2:\n",
    "        return True\n",
    "    if not root1 or not root2:\n",
    "        return False\n",
    "    if root1.elem!=root2.elem:\n",
    "        return False\n",
    "\n",
    "    \n",
    "    lh=iden(root1.left,root2.left)\n",
    "    rh=iden(root1.right,root2.right)\n",
    "\n",
    "    return lh and rh\n",
    "root1 = tree_construction([None,1,2,3])\n",
    "root2 =tree_construction([None,1,2,2])\n",
    "\n",
    "print(iden(root1,root2))"
   ]
  },
  {
   "cell_type": "code",
   "execution_count": 4,
   "metadata": {},
   "outputs": [
    {
     "name": "stdout",
     "output_type": "stream",
     "text": [
      "3 1 2 "
     ]
    }
   ],
   "source": [
    "#mirror\n",
    "def mirror(root):\n",
    "    x=None\n",
    "    if root!=None:\n",
    "        x=BTNode(root.elem)\n",
    "        x.left=(root.right)\n",
    "        x.right=(root.left)\n",
    "    return x\n",
    "\n",
    "root1 = tree_construction([None,1,2,3])\n",
    "\n",
    "inorder((mirror(root1)))\n",
    "    "
   ]
  },
  {
   "cell_type": "code",
   "execution_count": 5,
   "metadata": {},
   "outputs": [
    {
     "name": "stdout",
     "output_type": "stream",
     "text": [
      "0\n"
     ]
    }
   ],
   "source": [
    "#sum child\n",
    "class TreeNode:\n",
    "    def __init__(self, value):\n",
    "        self.elem = value\n",
    "        self.left = None\n",
    "        self.right = None\n",
    "def ssum(root):\n",
    "    if root!=None:\n",
    "        lh=ssum(root.left)\n",
    "        rh=ssum(root.right)\n",
    "\n",
    "        if root.elem==lh+rh:\n",
    "            return root.value\n",
    "        \n",
    "    return 0\n",
    "\n",
    "root = TreeNode(10)\n",
    "root.left = TreeNode(3)\n",
    "root.right = TreeNode(7)\n",
    "root.left.left = TreeNode(1)\n",
    "root.left.right = TreeNode(2)\n",
    "root.right.right = TreeNode(5)\n",
    "\n",
    "# Check if the tree satisfies the condition\n",
    "result = ssum(root)\n",
    "print(result)"
   ]
  },
  {
   "cell_type": "code",
   "execution_count": 6,
   "metadata": {},
   "outputs": [
    {
     "name": "stdout",
     "output_type": "stream",
     "text": [
      "False\n"
     ]
    }
   ],
   "source": [
    "def height(root):\n",
    "    if root is None:\n",
    "        return 0\n",
    "    return max (height(root.left),height(root.right))+1\n",
    "\n",
    "def balance(root):\n",
    "    if root is None:\n",
    "        return True\n",
    "    lh=height(root.left)\n",
    "    rh=height(root.right)\n",
    "    if abs(lh-rh)<=1: #and balance(root.left) and balance(root.right):\n",
    "        return True\n",
    "    return False\n",
    "\n",
    "\n",
    "root = TreeNode(10)\n",
    "root.left = TreeNode(3)\n",
    "root.right = TreeNode(7)\n",
    "root.left.left = TreeNode(1)\n",
    "root.left.right = TreeNode(2)\n",
    "root.right.right = TreeNode(5)\n",
    "root.left.right.left=TreeNode(9)\n",
    "root.left.right.left.left=TreeNode(6)\n",
    "\n",
    "print(balance(root))"
   ]
  },
  {
   "cell_type": "code",
   "execution_count": 7,
   "metadata": {},
   "outputs": [
    {
     "name": "stdout",
     "output_type": "stream",
     "text": [
      "False\n"
     ]
    }
   ],
   "source": [
    "#child nodes\n",
    "\n",
    "def sum(root):\n",
    "    if root.left or root.right:\n",
    "        return (root.left.elem if root.left else 0) + (root.right.elem if root.right else 0) == root.elem\n",
    "    return True\n",
    "\n",
    "\n",
    "def checksum(root):\n",
    "    if root==None:\n",
    "        return True\n",
    "    return sum(root)and checksum(root.left)and checksum(root.right)\n",
    "    \n",
    "root1 = tree_construction([None,1,4,3,5])\n",
    "print(checksum(root1))"
   ]
  },
  {
   "cell_type": "code",
   "execution_count": 8,
   "metadata": {},
   "outputs": [
    {
     "name": "stdout",
     "output_type": "stream",
     "text": [
      "{0: 1, 1: 3, 2: 6, 3: 8}\n"
     ]
    }
   ],
   "source": [
    "#max of every lvl\n",
    "def max_of_lvl(root,lvl=0,d={}):\n",
    "    if root!=None:\n",
    "        if lvl not in d:\n",
    "            d[lvl]=root.elem\n",
    "        else:\n",
    "            d[lvl]=max(d[lvl],root.elem)\n",
    "\n",
    "        max_of_lvl(root.left,lvl+1,d)\n",
    "        max_of_lvl(root.right,lvl+1,d)\n",
    "\n",
    "    return d\n",
    "\n",
    "r=tree_construction([None,1,2,3,4,5,6,None,None,None,8])\n",
    "print(max_of_lvl(r))"
   ]
  },
  {
   "cell_type": "code",
   "execution_count": 9,
   "metadata": {},
   "outputs": [
    {
     "name": "stdout",
     "output_type": "stream",
     "text": [
      "4\n",
      "5\n",
      "6\n"
     ]
    }
   ],
   "source": [
    "#fixed distance\\\n",
    "def checkDis(root,k):\n",
    "    if root==None:\n",
    "        return None\n",
    "    if k==0:\n",
    "        print(root.elem)\n",
    "\n",
    "    checkDis(root.left,k-1)\n",
    "    checkDis(root.right,k-1)\n",
    "\n",
    "r=tree_construction([None,1,2,3,4,5,6,None,None,None,8])\n",
    "checkDis(r,2)"
   ]
  },
  {
   "cell_type": "code",
   "execution_count": 10,
   "metadata": {},
   "outputs": [
    {
     "name": "stdout",
     "output_type": "stream",
     "text": [
      "5\n",
      "2\n",
      "1\n"
     ]
    },
    {
     "data": {
      "text/plain": [
       "True"
      ]
     },
     "execution_count": 10,
     "metadata": {},
     "output_type": "execute_result"
    }
   ],
   "source": [
    "#ancestor\n",
    "def ancestor(root,k):\n",
    "    if root==None:\n",
    "        return False\n",
    "    if root.elem==k:\n",
    "        return True\n",
    "    \n",
    "    if ancestor(root.left,k)or ancestor(root.right,k):\n",
    "        print(root.elem)\n",
    "        return True \n",
    "    \n",
    "r=tree_construction([None,1,2,3,4,5,6,None,None,None,8])\n",
    "ancestor(r,8)"
   ]
  },
  {
   "cell_type": "code",
   "execution_count": 11,
   "metadata": {},
   "outputs": [
    {
     "name": "stdout",
     "output_type": "stream",
     "text": [
      "5\n",
      "3\n",
      "None\n"
     ]
    }
   ],
   "source": [
    "#one child\n",
    "def onechild(root):\n",
    "\n",
    "    if root==None:\n",
    "        return\n",
    "    if (root.left and not root.right) or (not root.left and root.right):\n",
    "        flag=1\n",
    "        print(root.elem)\n",
    "        \n",
    "\n",
    "    onechild(root.left)\n",
    "    onechild(root.right)\n",
    "    \n",
    "\n",
    "    \n",
    "\n",
    "r=tree_construction([None,1,2,3,4,5,6,None,None,None,8])\n",
    "print(onechild(r))"
   ]
  },
  {
   "cell_type": "code",
   "execution_count": 12,
   "metadata": {},
   "outputs": [
    {
     "name": "stdout",
     "output_type": "stream",
     "text": [
      "True\n"
     ]
    }
   ],
   "source": [
    "#skewed\n",
    "def skewed(root):\n",
    "    if root==None:\n",
    "        return True\n",
    "    if root.left and root.right:\n",
    "        return False\n",
    "    return skewed(root.left) and skewed(root.right)\n",
    "r=tree_construction([None,1,2,None,4,None,None,None,None,None,None])\n",
    "print(skewed(r))"
   ]
  },
  {
   "cell_type": "code",
   "execution_count": 13,
   "metadata": {},
   "outputs": [
    {
     "name": "stdout",
     "output_type": "stream",
     "text": [
      "1\n",
      "2\n",
      "3\n"
     ]
    }
   ],
   "source": [
    "#full nodes\n",
    "def fillnode(root):\n",
    "    if root==None:\n",
    "        return None\n",
    "    elif root.left!=None and root.right!=None:\n",
    "        print(root.elem)\n",
    "    lh=fillnode(root.left)\n",
    "    rh=fillnode(root.right)\n",
    "    \n",
    "r=tree_construction([None,1,2,3,4,5,6,7,None,None,8])\n",
    "\n",
    "\n",
    "fillnode(r)"
   ]
  },
  {
   "cell_type": "code",
   "execution_count": 14,
   "metadata": {},
   "outputs": [
    {
     "name": "stdout",
     "output_type": "stream",
     "text": [
      "3\n"
     ]
    }
   ],
   "source": [
    "#minimum depth\n",
    "def minimumDepth(root):\n",
    "    if root is None:\n",
    "        return 0\n",
    "    if root.left is None and root.right is None:\n",
    "        return 1\n",
    "    if root.left is None:\n",
    "        return minimumDepth(root.right) + 1\n",
    "    if root.right is None:\n",
    "        return minimumDepth(root.left) + 1\n",
    "    return min(minimumDepth(root.left), minimumDepth(root.right)) + 1\n",
    "\n",
    "r=tree_construction([None,1,2,3,4,5,6,7,None,None,8])\n",
    "print(minimumDepth(r))\n"
   ]
  },
  {
   "cell_type": "code",
   "execution_count": 15,
   "metadata": {},
   "outputs": [
    {
     "name": "stdout",
     "output_type": "stream",
     "text": [
      "True\n"
     ]
    }
   ],
   "source": [
    "#1 BST\n",
    "def checkbst(root):\n",
    "    if root!=None and root.left!=None and root.right!=None:\n",
    "        if root.elem<=root.left.elem and root.right.elem<=root.elem:\n",
    "            return False\n",
    "\n",
    "        lh=checkbst(root.left)\n",
    "        rh=checkbst(root.right)\n",
    "        return lh and rh\n",
    "    return True\n",
    "r=tree_construction([None,1,2,3,4,5,6,7,None,None,None])\n",
    "print(checkbst(r))"
   ]
  },
  {
   "cell_type": "code",
   "execution_count": 16,
   "metadata": {},
   "outputs": [
    {
     "name": "stdout",
     "output_type": "stream",
     "text": [
      "1 2 3 4 5 6 7 "
     ]
    }
   ],
   "source": [
    "#2\n",
    "def createbst(arr):\n",
    "    x=BTNode(arr[len(arr)//2])\n",
    "    if len(arr)>2:\n",
    "        x.left=createbst(arr[:len(arr)//2])\n",
    "        x.right=createbst(arr[len(arr)//2:])\n",
    "    \n",
    "    return x\n",
    "\n",
    "inorder(createbst([1,2,3,4,5,6,7]))"
   ]
  },
  {
   "cell_type": "code",
   "execution_count": 17,
   "metadata": {},
   "outputs": [
    {
     "name": "stdout",
     "output_type": "stream",
     "text": [
      "None\n"
     ]
    }
   ],
   "source": [
    "#3\n",
    "def goleft(root):\n",
    "    if root.left==None:\n",
    "        return (root.elem)\n",
    "        \n",
    "    return goleft(root.left)\n",
    "    \n",
    "def succ(root,k):\n",
    "    if root==None:\n",
    "        return None\n",
    "    if root.elem==k:\n",
    "        return goleft(root.right)\n",
    "    \n",
    "    succ(root.left,k)\n",
    "    succ(root.right,k)\n",
    "\n",
    "r=tree_construction([None,1,2,3,4,5,6,7,None,None,8])\n",
    "print(succ(r,2))"
   ]
  }
 ],
 "metadata": {
  "kernelspec": {
   "display_name": "Python 3",
   "language": "python",
   "name": "python3"
  },
  "language_info": {
   "codemirror_mode": {
    "name": "ipython",
    "version": 3
   },
   "file_extension": ".py",
   "mimetype": "text/x-python",
   "name": "python",
   "nbconvert_exporter": "python",
   "pygments_lexer": "ipython3",
   "version": "3.10.7"
  }
 },
 "nbformat": 4,
 "nbformat_minor": 2
}
