{
  "nbformat": 4,
  "nbformat_minor": 0,
  "metadata": {
    "colab": {
      "provenance": []
    },
    "kernelspec": {
      "name": "python3",
      "display_name": "Python 3"
    },
    "language_info": {
      "name": "python"
    }
  },
  "cells": [
    {
      "cell_type": "code",
      "source": [
        "#task1\n",
        "def even_checker(a):\n",
        "  if a%2==0:\n",
        "    print(\"Even!!\")\n",
        "  else:\n",
        "    print(\"Odd!!\")\n",
        "even_checker(5)"
      ],
      "metadata": {
        "colab": {
          "base_uri": "https://localhost:8080/"
        },
        "id": "U9trHJauWlN7",
        "outputId": "130e6000-56d4-4d33-be52-9fac6d3cc70d"
      },
      "execution_count": null,
      "outputs": [
        {
          "output_type": "stream",
          "name": "stdout",
          "text": [
            "Odd!!\n"
          ]
        }
      ]
    },
    {
      "cell_type": "code",
      "execution_count": null,
      "metadata": {
        "colab": {
          "base_uri": "https://localhost:8080/"
        },
        "id": "QM9teUiTsPMn",
        "outputId": "3fac415a-819c-456b-c1b4-0a20a91d8589"
      },
      "outputs": [
        {
          "output_type": "stream",
          "name": "stdout",
          "text": [
            "0 1 1 2 3 5 8 "
          ]
        }
      ],
      "source": [
        "#task 2\n",
        "def fib(a):\n",
        "  i=0\n",
        "  j=1\n",
        "  sum=0\n",
        "  while sum<=a:\n",
        "    print (sum, end=\" \")\n",
        "    i=j\n",
        "    j=sum\n",
        "    sum=i+j\n",
        "fib(10)"
      ]
    },
    {
      "cell_type": "code",
      "source": [
        "#task 3\n",
        "def foo_moo(a):\n",
        "  if a%2==0 and a%3==0:\n",
        "    print(\"FooMoo\")\n",
        "  elif a%3==0:\n",
        "    print(\"Moo\")\n",
        "  elif a%2==0:\n",
        "    print(\"Foo\")\n",
        "  else:\n",
        "    print(\"Boo\")\n",
        "foo_moo(6)"
      ],
      "metadata": {
        "colab": {
          "base_uri": "https://localhost:8080/"
        },
        "id": "jWexBjxUXkKj",
        "outputId": "37359097-643d-4311-9860-8df7eab6c003"
      },
      "execution_count": null,
      "outputs": [
        {
          "output_type": "stream",
          "name": "stdout",
          "text": [
            "FooMoo\n"
          ]
        }
      ]
    },
    {
      "cell_type": "code",
      "source": [
        "#task 4\n",
        "def function_name(a):\n",
        "  cap=0\n",
        "  sml=0\n",
        "  for i in a:\n",
        "    if 97<=ord(i)<=122:\n",
        "      sml+=1\n",
        "    elif 65<=ord(i)<=90:\n",
        "      cap+=1\n",
        "  print(f\"No. of Uppercase characters: {cap}\\nNo. of Lowercase Characters: {sml}\")\n",
        "function_name('HaRRy PotteR')"
      ],
      "metadata": {
        "colab": {
          "base_uri": "https://localhost:8080/"
        },
        "id": "SKqMnUxcYiKI",
        "outputId": "7f9829e3-dfab-4650-9914-c5021c3d7872"
      },
      "execution_count": null,
      "outputs": [
        {
          "output_type": "stream",
          "name": "stdout",
          "text": [
            "No. of Uppercase characters: 5\n",
            "No. of Lowercase Characters: 6\n"
          ]
        }
      ]
    },
    {
      "cell_type": "code",
      "source": [
        "#task 5\n",
        "x=int(input(\"Age: \"))\n",
        "y=int(input(\"Salary: \"))\n",
        "z=input(\"Current Job:\").lower()\n",
        "def calculate_tax(age,salary,job):\n",
        "  if age<18 or job==\"president\" or salary<10000:\n",
        "    tax=0\n",
        "  elif 10000<salary<20000:\n",
        "    tax=salary*.05\n",
        "  elif salary>20000:\n",
        "    tax=salary*.1\n",
        "  return(tax)\n",
        "print(calculate_tax(x,y,z))"
      ],
      "metadata": {
        "colab": {
          "base_uri": "https://localhost:8080/"
        },
        "id": "SX14w8nAcuVg",
        "outputId": "4f5daefe-0012-4b46-c36e-9f693143520e"
      },
      "execution_count": null,
      "outputs": [
        {
          "output_type": "stream",
          "name": "stdout",
          "text": [
            "Age: 20\n",
            "Salary: 18000\n",
            "Current Job:assistant manager\n",
            "900.0\n"
          ]
        }
      ]
    },
    {
      "cell_type": "code",
      "source": [
        "#task 6\n",
        "def cal(a):\n",
        "  year=a//365\n",
        "  month=(a%365)//30\n",
        "  day= (a%365)%30\n",
        "  print(f\"{year} years, {month} months and {day} days\")\n",
        "cal(int(input()))"
      ],
      "metadata": {
        "colab": {
          "base_uri": "https://localhost:8080/"
        },
        "id": "HEfHs8Ik2VIj",
        "outputId": "0b7ed492-6b33-44f1-f25b-3a10b87c9b9e"
      },
      "execution_count": null,
      "outputs": [
        {
          "output_type": "stream",
          "name": "stdout",
          "text": [
            "2250\n",
            "6 years, 2 months and 0 days\n"
          ]
        }
      ]
    },
    {
      "cell_type": "code",
      "source": [
        "#task 7\n",
        "def show_palindrome(a):\n",
        "  z=\"\"\n",
        "  for i in range (1,a):\n",
        "    z+=str(i)\n",
        "  for i in range (a,0,-1):\n",
        "    z+=str(i)\n",
        "  return(z)\n",
        "print(show_palindrome(int(input())))"
      ],
      "metadata": {
        "colab": {
          "base_uri": "https://localhost:8080/"
        },
        "id": "4yK_Yq9c4_1T",
        "outputId": "baafc0b1-f23f-4fba-9c68-c203fe147127"
      },
      "execution_count": null,
      "outputs": [
        {
          "output_type": "stream",
          "name": "stdout",
          "text": [
            "5\n",
            "123454321\n"
          ]
        }
      ]
    },
    {
      "cell_type": "code",
      "source": [
        "#task 8\n",
        "def show_palindrome(a):\n",
        "  z=\"\"\n",
        "  for i in range (1,a):\n",
        "    z+=str(i)+\" \"\n",
        "  for i in range (a,0,-1):\n",
        "    z+=str(i)+\" \"\n",
        "  return(z)\n",
        "x=int(input())\n",
        "z=x\n",
        "y=\"\"\n",
        "for i in range(1,x+1):\n",
        "    y=\"\"\n",
        "    for spc in range((x-i)*2):\n",
        "        y+=\" \"\n",
        "    y+=show_palindrome(i)\n",
        "    print(y)"
      ],
      "metadata": {
        "colab": {
          "base_uri": "https://localhost:8080/"
        },
        "id": "s0Pp01ntMrxx",
        "outputId": "fb16558d-98ab-49b7-a409-cb99a1e6f68e"
      },
      "execution_count": null,
      "outputs": [
        {
          "output_type": "stream",
          "name": "stdout",
          "text": [
            "5\n",
            "        1 \n",
            "      1 2 1 \n",
            "    1 2 3 2 1 \n",
            "  1 2 3 4 3 2 1 \n",
            "1 2 3 4 5 4 3 2 1 \n"
          ]
        }
      ]
    },
    {
      "cell_type": "code",
      "source": [
        "#task 9\n",
        "def area_circumference_generator(r):\n",
        "  import math\n",
        "  area=math.pi*pow(r,2)\n",
        "  cir=2*math.pi*r\n",
        "  return area,cir\n",
        "x= area_circumference_generator(1)\n",
        "print(x)\n",
        "print(f\"Area of the circle is {x[0]} and circumference is {x[1]}\")"
      ],
      "metadata": {
        "colab": {
          "base_uri": "https://localhost:8080/"
        },
        "id": "Xi1Hz-kUEuDt",
        "outputId": "ad14a2fc-bf0d-4501-efd8-81c2ba962646"
      },
      "execution_count": null,
      "outputs": [
        {
          "output_type": "stream",
          "name": "stdout",
          "text": [
            "(3.141592653589793, 6.283185307179586)\n",
            "Area of the circle is 3.141592653589793 and circumference is 6.283185307179586\n"
          ]
        }
      ]
    },
    {
      "cell_type": "code",
      "source": [
        "#task 10\n",
        "def make_square(A):\n",
        "  a,b=A\n",
        "  dit={}\n",
        "  for i in range(a,b+1):\n",
        "    dit[i]=i**2\n",
        "  return(dit)\n",
        "print(make_square((5,9)))"
      ],
      "metadata": {
        "colab": {
          "base_uri": "https://localhost:8080/"
        },
        "id": "Z3L_BXNeKbpC",
        "outputId": "8fa05bcd-afda-4680-b72d-13d3fc0bf5f7"
      },
      "execution_count": null,
      "outputs": [
        {
          "output_type": "stream",
          "name": "stdout",
          "text": [
            "{5: 25, 6: 36, 7: 49, 8: 64, 9: 81}\n"
          ]
        }
      ]
    },
    {
      "cell_type": "code",
      "source": [
        "#task11\n",
        "def rem_duplicate(a):\n",
        "  lst=[]\n",
        "  for i in a:\n",
        "    if i not in lst:\n",
        "      lst.append(i)\n",
        "  return(tuple(lst))\n",
        "print(rem_duplicate((\"Hi\", 1, 2, 3, 3, \"Hi\",'a', 'a', [1,2])))"
      ],
      "metadata": {
        "colab": {
          "base_uri": "https://localhost:8080/"
        },
        "id": "dinElZZFfngd",
        "outputId": "bc0878d4-0dd7-4cc9-aedb-be9cf48b773a"
      },
      "execution_count": null,
      "outputs": [
        {
          "output_type": "stream",
          "name": "stdout",
          "text": [
            "('Hi', 1, 2, 3, 'a', [1, 2])\n"
          ]
        }
      ]
    },
    {
      "cell_type": "code",
      "source": [
        "#task 12\n",
        "def function_name(a):\n",
        "  lst=[]\n",
        "  for i in a:\n",
        "    if lst.count(i)<2:\n",
        "      lst.append(i)\n",
        "  rvm=len(a)-len(lst)\n",
        "  print(f\"Removed: {rvm}\")\n",
        "  return(lst)\n",
        "print(function_name(([1, 2, 3, 3, 3, 3, 4, 5, 8, 8])))"
      ],
      "metadata": {
        "colab": {
          "base_uri": "https://localhost:8080/"
        },
        "id": "PtWze4RJiDAa",
        "outputId": "375eff7f-d951-43da-8ab3-451eb5a4fa5f"
      },
      "execution_count": null,
      "outputs": [
        {
          "output_type": "stream",
          "name": "stdout",
          "text": [
            "Removed: 2\n",
            "[1, 2, 3, 3, 4, 5, 8, 8]\n"
          ]
        }
      ]
    },
    {
      "cell_type": "code",
      "source": [
        "#task 13"
      ],
      "metadata": {
        "id": "krmQBHQJjs1A"
      },
      "execution_count": null,
      "outputs": []
    },
    {
      "cell_type": "code",
      "source": [
        "#task 14\n",
        "setn=input()\n",
        "posi=int(input())\n",
        "def foo(s,p):\n",
        "  x=s[0]\n",
        "  for i in range (1,len(s)):\n",
        "    if i%p!=0:\n",
        "      x+=s[i]\n",
        "  for i in range (1,len(s)):\n",
        "    if i%p==0:\n",
        "      x+=s[i]\n",
        "  return(x)\n",
        "print(foo(setn,posi))"
      ],
      "metadata": {
        "id": "SYhAZAvMTUUB",
        "colab": {
          "base_uri": "https://localhost:8080/"
        },
        "outputId": "800621af-3c29-4810-f75b-692186e2e5e0"
      },
      "execution_count": null,
      "outputs": [
        {
          "output_type": "stream",
          "name": "stdout",
          "text": [
            "I love programming.\n",
            "3\n",
            "I lveprgrmmngo oai.\n"
          ]
        }
      ]
    },
    {
      "cell_type": "code",
      "source": [
        "#task 15\n",
        "def food (a,b):\n",
        "  dit={\"Rice\":105,\"Potato\":20, \"Chicken\": 250, \"Beef\": 510, \"Oil\":85}\n",
        "  sum=0\n",
        "  for i in a:\n",
        "    sum+=dit[i]\n",
        "  if b==\"Dhanmondi\":\n",
        "    sum+=30\n",
        "  else:\n",
        "    sum+=70\n",
        "  return(sum)\n",
        "print(food([\"Rice\", \"Beef\", \"Rice\"], \"Mohakhali\"))"
      ],
      "metadata": {
        "colab": {
          "base_uri": "https://localhost:8080/"
        },
        "id": "9QkbbvChTWrs",
        "outputId": "f3136159-0856-492c-d112-df490c273fc1"
      },
      "execution_count": null,
      "outputs": [
        {
          "output_type": "stream",
          "name": "stdout",
          "text": [
            "790\n"
          ]
        }
      ]
    },
    {
      "cell_type": "code",
      "source": [
        "#task 16\n",
        "#def spm(a):\n",
        "m=1234\n",
        "n=m"
      ],
      "metadata": {
        "id": "OUgAF9wGavNF"
      },
      "execution_count": null,
      "outputs": []
    },
    {
      "cell_type": "code",
      "source": [
        "#task 18\n",
        "def sum(a,b,c,d):\n",
        "  s=0\n",
        "  for i in range (a,b):\n",
        "    if (i%c==0 and i%d!=0) or (i%c!=0 and i%d==0):\n",
        "      s+=i\n",
        "  return s\n",
        "x=int(input())\n",
        "y=int(input())\n",
        "p=int(input())\n",
        "q=int(input())\n",
        "print(sum(x,y,p,q))"
      ],
      "metadata": {
        "colab": {
          "base_uri": "https://localhost:8080/"
        },
        "id": "EAj-IFdUMc-7",
        "outputId": "d15ac75b-2432-437d-dd81-33cda2afa189"
      },
      "execution_count": null,
      "outputs": [
        {
          "output_type": "stream",
          "name": "stdout",
          "text": [
            "10\n",
            "40\n",
            "4\n",
            "7\n",
            "210\n"
          ]
        }
      ]
    },
    {
      "cell_type": "code",
      "source": [
        "#task 19\n",
        "x=input().lower()\n",
        "def fun(a):\n",
        "  flag=0\n",
        "  l=[\"a\",\"b\",\"c\",\"d\",\"e\",\"f\",\"g\",\"h\",\"i\",\"j\"]\n",
        "  for i in l:\n",
        "    if i in a:\n",
        "      continue\n",
        "    else:\n",
        "      flag=1\n",
        "      break\n",
        "  r=0\n",
        "  if flag==0:\n",
        "    r=5\n",
        "  elif flag==1:\n",
        "    r=6\n",
        "  return (r)\n",
        "for i in range(0,fun(x)):\n",
        "  print(\"PSG will win the Champions League this season\")"
      ],
      "metadata": {
        "colab": {
          "base_uri": "https://localhost:8080/"
        },
        "id": "dDCvn9IrzHXR",
        "outputId": "65bdcbe3-fa3a-4dc1-9ff2-1037591faa53"
      },
      "execution_count": null,
      "outputs": [
        {
          "output_type": "stream",
          "name": "stdout",
          "text": [
            "ABBCDEFEFGHI\n",
            "abbcdefefghi\n",
            "6\n",
            "PSG will win the Champions League this season\n",
            "PSG will win the Champions League this season\n",
            "PSG will win the Champions League this season\n",
            "PSG will win the Champions League this season\n",
            "PSG will win the Champions League this season\n",
            "PSG will win the Champions League this season\n"
          ]
        }
      ]
    },
    {
      "cell_type": "code",
      "source": [
        "#task 20\n"
      ],
      "metadata": {
        "id": "7PXygXTH5l7Z"
      },
      "execution_count": null,
      "outputs": []
    }
  ]
}