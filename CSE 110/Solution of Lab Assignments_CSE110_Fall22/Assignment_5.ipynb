{
  "nbformat": 4,
  "nbformat_minor": 0,
  "metadata": {
    "colab": {
      "provenance": []
    },
    "kernelspec": {
      "name": "python3",
      "display_name": "Python 3"
    },
    "language_info": {
      "name": "python"
    }
  },
  "cells": [
    {
      "cell_type": "code",
      "execution_count": 1,
      "metadata": {
        "colab": {
          "base_uri": "https://localhost:8080/"
        },
        "id": "8q8qUBQM2lJC",
        "outputId": "816b53ba-1b66-4641-fb33-29700e6a69f2"
      },
      "outputs": [
        {
          "output_type": "stream",
          "name": "stdout",
          "text": [
            "3\n",
            "4\n",
            "0\n",
            "0\n",
            "3\n",
            "[3, 4, 0, 0, 3]\n"
          ]
        }
      ],
      "source": [
        "#task 1\n",
        "list=[]\n",
        "count=0\n",
        "while count<5:\n",
        "  x=input()\n",
        "  list.append(int(x))\n",
        "  count+=1\n",
        "print(list)"
      ]
    },
    {
      "cell_type": "code",
      "source": [
        "#task 2\n",
        "lst=(input().split(\", \"))\n",
        "new_list=[]\n",
        "l=len(lst)\n",
        "if l>3:\n",
        "  for i in range (2,l-2):\n",
        "    new_list.append(int(lst[i]))\n",
        "  print(new_list)\n",
        "else:\n",
        "  print(\"Not possible\")"
      ],
      "metadata": {
        "colab": {
          "base_uri": "https://localhost:8080/"
        },
        "id": "Sh22iqM-42xB",
        "outputId": "7b8d05cd-4663-4b43-8356-b7f2f5794484"
      },
      "execution_count": null,
      "outputs": [
        {
          "output_type": "stream",
          "name": "stdout",
          "text": [
            "10, 20, 24\n",
            "Not possible\n"
          ]
        }
      ]
    },
    {
      "cell_type": "code",
      "source": [
        "#task 3\n",
        "count=0\n",
        "lst=[]\n",
        "while count<5:\n",
        "  x=int(input())\n",
        "  lst.append(x)\n",
        "  count+=1\n",
        "print(\"Printing values from the list in reverse order:\")\n",
        "for i in range(len(lst)-1,-1,-1):\n",
        "  print(lst[i])"
      ],
      "metadata": {
        "colab": {
          "base_uri": "https://localhost:8080/"
        },
        "id": "yK25ZubrxXNp",
        "outputId": "333802ac-e020-415b-eb37-b6d3f58fd2a8"
      },
      "execution_count": null,
      "outputs": [
        {
          "output_type": "stream",
          "name": "stdout",
          "text": [
            "5\n",
            "-5\n",
            "100\n",
            "1\n",
            "0\n",
            "[5, -5, 100, 1, 0]\n",
            "Printing values from the list in reverse order:\n",
            "0\n",
            "1\n",
            "100\n",
            "-5\n",
            "5\n"
          ]
        }
      ]
    },
    {
      "cell_type": "code",
      "source": [
        "#task 4\n",
        "lst=[1, 2, 3, 4, 5, 6, 7]\n",
        "new_list=[]\n",
        "for i in lst: #i=2\n",
        "  i=i**2\n",
        "  new_list.append(i)\n",
        "print(new_list)"
      ],
      "metadata": {
        "colab": {
          "base_uri": "https://localhost:8080/"
        },
        "id": "0eBGT8zgzHJq",
        "outputId": "d41ace52-c703-4112-ad11-17a46328eb67"
      },
      "execution_count": null,
      "outputs": [
        {
          "output_type": "stream",
          "name": "stdout",
          "text": [
            "[1, 4, 9, 16, 25, 36, 49]\n"
          ]
        }
      ]
    },
    {
      "cell_type": "code",
      "source": [
        "#task 5\n",
        "lst=[\"hey\", \"there\", \"\", \"whats\", \"\", \"up\", \"\", \"?\"]\n",
        "new_list=[]\n",
        "for i in lst:\n",
        "  if i==\"\":\n",
        "    continue\n",
        "  else:\n",
        "    new_list.append(i)\n",
        "print(f'Original List: {lst}\\nModified List: {new_list}')"
      ],
      "metadata": {
        "colab": {
          "base_uri": "https://localhost:8080/"
        },
        "id": "OcMW1mu20tD-",
        "outputId": "9ed1408d-1694-49dc-d1dd-186fc438b9c9"
      },
      "execution_count": null,
      "outputs": [
        {
          "output_type": "stream",
          "name": "stdout",
          "text": [
            "Original List: ['hey', 'there', '', \"what's\", '', 'up', '', '?']\n",
            "Modified List: ['hey', 'there', \"what's\", 'up', '?']\n"
          ]
        }
      ]
    },
    {
      "cell_type": "code",
      "source": [
        "#task 6\n",
        "lst=input().split(\",\")\n",
        "lst1=[]\n",
        "max=None\n",
        "max_idx=0\n",
        "for i in lst:\n",
        "  lst1.append(int(i))\n",
        "for i in range (len(lst1)):\n",
        "  if max==None:\n",
        "    max=i\n",
        "  elif lst1[i]>max:\n",
        "    max=lst1[i]\n",
        "    max_idx=i\n",
        "print(f'My list: {lst1}\\nLargest number in the list is {max} which was found at index {max_idx}.')"
      ],
      "metadata": {
        "colab": {
          "base_uri": "https://localhost:8080/"
        },
        "id": "5oj13sr73y4M",
        "outputId": "2f8df978-07cf-480a-c0c2-1556bc54715a"
      },
      "execution_count": null,
      "outputs": [
        {
          "output_type": "stream",
          "name": "stdout",
          "text": [
            "0,7,13,14,15,-11\n",
            "My list: [0, 7, 13, 14, 15, -11]\n",
            "Largest number in the list is 15 which was found at index 4.\n"
          ]
        }
      ]
    },
    {
      "cell_type": "code",
      "source": [
        "#task 7\n",
        "List_one=[1, 3, 5, 7, 9, 10]\n",
        "List_two=[2, 4, 6, 8]\n",
        "List_one.pop((len(List_one)-1))\n",
        "List_one.extend(List_two)\n",
        "print(List_one)"
      ],
      "metadata": {
        "colab": {
          "base_uri": "https://localhost:8080/"
        },
        "id": "6ClbvxZd7cm5",
        "outputId": "83b2da2a-beb9-47cf-ddce-286bca407100"
      },
      "execution_count": null,
      "outputs": [
        {
          "output_type": "stream",
          "name": "stdout",
          "text": [
            "[1, 3, 5, 7, 9, 2, 4, 6, 8]\n"
          ]
        }
      ]
    },
    {
      "cell_type": "code",
      "source": [
        "#task 8\n",
        "l1 = [1, 2, 3, 4, 5, 6, 7, 8, 9]\n",
        "l2= [10, 11, 12, -13, -14, -15, -16]\n",
        "l=[]\n",
        "for i in l1:\n",
        "  if i%2==0:\n",
        "    l.append(i)\n",
        "for i in l2:\n",
        "  if i%2==0:\n",
        "    l.append(i)\n",
        "print(l)"
      ],
      "metadata": {
        "colab": {
          "base_uri": "https://localhost:8080/"
        },
        "id": "sUVpJe9h8NLT",
        "outputId": "9537f0af-c444-48cf-a1d3-211664dbfcf9"
      },
      "execution_count": null,
      "outputs": [
        {
          "output_type": "stream",
          "name": "stdout",
          "text": [
            "[2, 4, 6, 8, 10, 12, -14, -16]\n"
          ]
        }
      ]
    },
    {
      "cell_type": "code",
      "source": [
        "#task 9\n",
        "lst=input()\n",
        "#lst+=\" \"\n",
        "l=[]\n",
        "l1=[]\n",
        "temp=\"\"\n",
        "for i in lst:\n",
        "  if i==\" \":\n",
        "    l.append(int(temp))\n",
        "    temp=\"\"\n",
        "  else:\n",
        "    temp+=i\n",
        "l.append(int(temp))\n",
        "for i in l:\n",
        "  if i%2!=0:\n",
        "    l1.append(i)\n",
        "print(f\"Original list: {l}\\nModified list: {l1}\")"
      ],
      "metadata": {
        "colab": {
          "base_uri": "https://localhost:8080/"
        },
        "id": "1vtsiK1j898v",
        "outputId": "2b89b2d3-f824-4809-e0f1-68154822e740"
      },
      "execution_count": null,
      "outputs": [
        {
          "output_type": "stream",
          "name": "stdout",
          "text": [
            "7 12 4 55 96 2 11 61 33 42\n",
            "Original list: [7, 12, 4, 55, 96, 2, 11, 61, 33, 42]\n",
            "Modified list: [7, 55, 11, 61, 33]\n"
          ]
        }
      ]
    },
    {
      "cell_type": "code",
      "source": [
        "#task 10\n",
        "lst=input().split(\", \")\n",
        "l1=[]\n",
        "l2=[]\n",
        "for i in lst:\n",
        "  i=int(i)\n",
        "  l2.append(i)\n",
        "  if i not in l1:\n",
        "    l1.append(int(i))\n",
        "print(f\"Input list: {l2}\\nModified list:{l1}\")"
      ],
      "metadata": {
        "colab": {
          "base_uri": "https://localhost:8080/"
        },
        "id": "uh1htZu0CJV7",
        "outputId": "213ddce6-cca1-4526-cbc7-bd6aa806921c"
      },
      "execution_count": null,
      "outputs": [
        {
          "output_type": "stream",
          "name": "stdout",
          "text": [
            "0, 0, 1, 2, 3, 4, 4, 5, 6, 6, 6, 7, 8, 9, 4, 4\n",
            "Input list: [0, 0, 1, 2, 3, 4, 4, 5, 6, 6, 6, 7, 8, 9, 4, 4]\n",
            "Modified list:[0, 1, 2, 3, 4, 5, 6, 7, 8, 9]\n"
          ]
        }
      ]
    },
    {
      "cell_type": "code",
      "source": [
        "#task 11\n",
        "l1= [1, 4, 3, 2, 5]\n",
        "l2= [8, 7, 6, 9]\n",
        "flag=0\n",
        "for i in l1:\n",
        "  if i in l2:\n",
        "    flag=1\n",
        "    break\n",
        "if flag==0:\n",
        "  print(\"Flase\")\n",
        "else:\n",
        "  print(\"True\")"
      ],
      "metadata": {
        "colab": {
          "base_uri": "https://localhost:8080/"
        },
        "id": "HTzQgBmwEQ6S",
        "outputId": "b70f09a8-1294-4abb-fd88-354784b2fce9"
      },
      "execution_count": null,
      "outputs": [
        {
          "output_type": "stream",
          "name": "stdout",
          "text": [
            "Flase\n"
          ]
        }
      ]
    },
    {
      "cell_type": "code",
      "source": [
        "#task 16\n",
        "lst=input().split(\", \")\n",
        "l=[]\n",
        "max_1=0\n",
        "max_2=0\n",
        "count=0\n",
        "for i in lst:\n",
        "  l.append(int(i))\n",
        "for i in l:\n",
        "  if max_1==max_2:\n",
        "    max_1=i\n",
        "  elif i>max_1:\n",
        "    max_2=max_1\n",
        "    max_1=i\n",
        "  #elif i>max_2:\n",
        "    #max_2=i\n",
        "for j in l:\n",
        "  if j==max_2:\n",
        "    break\n",
        "  count+=1\n",
        "print(f\"My list: {l}\\nSecond largest number in the list is {max_2} which was found at index {count}\")"
      ],
      "metadata": {
        "id": "fZ6qTUZyFMEK"
      },
      "execution_count": null,
      "outputs": []
    },
    {
      "cell_type": "code",
      "source": [
        "#task 17\n",
        "lst=input().split(\", \")\n",
        "l=[]\n",
        "max=None\n",
        "min=None\n",
        "for i in lst:\n",
        "  l.append(int(i))\n",
        "for j in l:\n",
        "  if max is None:\n",
        "   max=j\n",
        "   min=j\n",
        "  elif j>max:\n",
        "    max=j\n",
        "  elif j<min:\n",
        "    min=j\n",
        "max_idx=0\n",
        "min_idx=0\n",
        "for k in l:\n",
        "  if k==max:\n",
        "    break\n",
        "  max_idx+=1\n",
        "for k in l:\n",
        "  if k==min:\n",
        "    break\n",
        "  min_idx+=1\n",
        "print(f\"Smallest number in the list is {min} which was found at index {min_idx}\\nLargest number in the list is {max} which was found at index {max_idx}\")\n"
      ],
      "metadata": {
        "colab": {
          "base_uri": "https://localhost:8080/"
        },
        "id": "cBrt7pJRg84g",
        "outputId": "3ffd625e-2bb4-4b8d-86dc-845eab3672d2"
      },
      "execution_count": null,
      "outputs": [
        {
          "output_type": "stream",
          "name": "stdout",
          "text": [
            "7, 13, -5, 10, 6\n",
            "Smallest number in the list is -5 which was found at index 2\n",
            "Largest number in the list is 13 which was found at index 1\n"
          ]
        }
      ]
    },
    {
      "cell_type": "code",
      "source": [
        "#task 18\n",
        "lst1=input().split(\", \")\n",
        "lst2=input().split(\", \")\n",
        "l=[]\n",
        "for i in lst1:\n",
        "  if i in lst2 and i not in l:\n",
        "    l.append(i)\n",
        "print(l)"
      ],
      "metadata": {
        "colab": {
          "base_uri": "https://localhost:8080/"
        },
        "id": "7ZVc-GKtlKUF",
        "outputId": "d20c6973-c232-46c2-8e38-ac122598b47a"
      },
      "execution_count": null,
      "outputs": [
        {
          "output_type": "stream",
          "name": "stdout",
          "text": [
            "A, B, C, D\n",
            "C, E, F, B\n",
            "['B', 'C']\n"
          ]
        }
      ]
    },
    {
      "cell_type": "code",
      "source": [
        "#task 19\n",
        "list_one = [1, 2, 2, 4, 5, 5, 7, 99, 200, 303, 70]\n",
        "list_two = [1, 1, 2, 3, 3, 3, 4, 5, 200, 500, -5]\n",
        "l=[]\n",
        "for i in list_one:\n",
        "  if i not in l:\n",
        "    l.append(i)\n",
        "for i in list_two:\n",
        "  if i not in l:\n",
        "    l.append(i)\n",
        "print(l)"
      ],
      "metadata": {
        "colab": {
          "base_uri": "https://localhost:8080/"
        },
        "id": "iIChscWJnmIZ",
        "outputId": "5cce69bb-d363-49ee-d308-ee2a81fd3321"
      },
      "execution_count": null,
      "outputs": [
        {
          "output_type": "stream",
          "name": "stdout",
          "text": [
            "[1, 2, 4, 5, 7, 99, 200, 303, 70, 3, 500, -5]\n"
          ]
        }
      ]
    },
    {
      "cell_type": "code",
      "source": [
        "#task 20\n",
        "y=input().strip()\n",
        "print(f\"Original data: {y}\")\n",
        "x=y\n",
        "nlst=[]\n",
        "if x[0]==\"[\":\n",
        "  x=x[1:]\n",
        "if x[-1]==\"]\":\n",
        "  x=x[:len(x)-1]\n",
        "print(f\"After removing square brackets: {x}\")\n",
        "x.split(\",\")\n",
        "temp=\"\"\n",
        "for i in x:\n",
        "  if i==\",\":\n",
        "    continue\n",
        "  elif i==\" \":\n",
        "      temp+=i\n",
        "      continue\n",
        "  else:\n",
        "      temp+=i\n",
        "      nlst.append(str(temp))\n",
        "      temp=\"\"\n",
        "print(f\"Numbers in string format with extra white spaces: {nlst}\")"
      ],
      "metadata": {
        "id": "e_PkzdAbpR9Y",
        "colab": {
          "base_uri": "https://localhost:8080/"
        },
        "outputId": "719369c0-7584-43dc-d5ff-c88bd45d61da"
      },
      "execution_count": 5,
      "outputs": [
        {
          "output_type": "stream",
          "name": "stdout",
          "text": [
            "      [1,   2   ,         3,   50,   4]         \n",
            "Original data: [1,   2   ,         3,   50,   4]\n",
            "After removing square brackets: 1,   2   ,         3,   50,   4\n",
            "Numbers in string format with extra white spaces: ['1', '   2', '            3', '   5', '0', '   4']\n",
            "[1, 2, 3, 5, 0, 4]\n"
          ]
        }
      ]
    }
  ]
}