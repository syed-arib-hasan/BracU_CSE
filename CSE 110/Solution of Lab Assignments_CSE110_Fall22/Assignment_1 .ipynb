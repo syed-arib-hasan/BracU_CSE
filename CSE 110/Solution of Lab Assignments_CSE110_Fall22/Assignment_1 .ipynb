{
  "nbformat": 4,
  "nbformat_minor": 0,
  "metadata": {
    "colab": {
      "provenance": []
    },
    "kernelspec": {
      "name": "python3",
      "display_name": "Python 3"
    },
    "language_info": {
      "name": "python"
    }
  },
  "cells": [
    {
      "cell_type": "code",
      "execution_count": null,
      "metadata": {
        "colab": {
          "base_uri": "https://localhost:8080/"
        },
        "id": "bGV-k5_5YfkI",
        "outputId": "064cd8ac-d015-49ed-b986-4092829b45da"
      },
      "outputs": [
        {
          "output_type": "stream",
          "name": "stdout",
          "text": [
            "hello world\n"
          ]
        }
      ],
      "source": [
        "#task 1\n",
        "print(\"hello world\")"
      ]
    },
    {
      "cell_type": "code",
      "source": [
        "#task 2\n",
        "print(54+56)"
      ],
      "metadata": {
        "colab": {
          "base_uri": "https://localhost:8080/"
        },
        "id": "BEHOmf5Dggbo",
        "outputId": "99f49430-beae-4558-9367-e0820f87727a"
      },
      "execution_count": null,
      "outputs": [
        {
          "output_type": "stream",
          "name": "stdout",
          "text": [
            "110\n"
          ]
        }
      ]
    },
    {
      "cell_type": "code",
      "source": [
        "#task 3\n",
        "season= \"Fall\"\n",
        "year=2022\n",
        "print(season)\n",
        "print(year)"
      ],
      "metadata": {
        "colab": {
          "base_uri": "https://localhost:8080/"
        },
        "id": "01WCSUq3imFk",
        "outputId": "5a513eb9-c3a1-47fb-f68b-92cf5ff0e562"
      },
      "execution_count": null,
      "outputs": [
        {
          "output_type": "stream",
          "name": "stdout",
          "text": [
            "Fall\n",
            "2022\n"
          ]
        }
      ]
    },
    {
      "cell_type": "code",
      "source": [
        "#task 4\n",
        "user_name= input(\"Enter your name: \")\n",
        "print(\"Your name is\",user_name)"
      ],
      "metadata": {
        "colab": {
          "base_uri": "https://localhost:8080/"
        },
        "id": "f0dW6uwLjn-1",
        "outputId": "8b0e5f96-f8e6-4fcf-d349-c37ffb3e211a"
      },
      "execution_count": null,
      "outputs": [
        {
          "output_type": "stream",
          "name": "stdout",
          "text": [
            "Enter your name: Arib\n",
            "Your name is Arib\n"
          ]
        }
      ]
    },
    {
      "cell_type": "code",
      "source": [
        "#task5\n",
        "M=int(input(\"Enter a number: \"))\n",
        "N=int(input(\"Enter another number: \"))\n",
        "result= M**N\n",
        "#f is the formatted string. keep the variables in the second bracket and strings normally\n",
        "print(f\"{M}^{N}: {result}\")"
      ],
      "metadata": {
        "colab": {
          "base_uri": "https://localhost:8080/"
        },
        "id": "whSnjNC9k1zW",
        "outputId": "fb93eb6c-a2b9-474b-c1fa-b62887284a70"
      },
      "execution_count": null,
      "outputs": [
        {
          "output_type": "stream",
          "name": "stdout",
          "text": [
            "Enter a number: 2\n",
            "Enter another number: 3\n",
            "2^3: 8\n"
          ]
        }
      ]
    },
    {
      "cell_type": "code",
      "source": [
        "#task 6\n",
        "weight= int(input(\"Total weight of shipment: \"))\n",
        "p=weight//4\n",
        "max_amount_of_weight=4*p\n",
        "print(max_amount_of_weight)"
      ],
      "metadata": {
        "colab": {
          "base_uri": "https://localhost:8080/"
        },
        "id": "gDo-jSIknj2g",
        "outputId": "88e1d2df-bea4-48da-98f2-9c6c2e58c02b"
      },
      "execution_count": null,
      "outputs": [
        {
          "output_type": "stream",
          "name": "stdout",
          "text": [
            "Total weight of shipment: 23\n",
            "20\n"
          ]
        }
      ]
    },
    {
      "cell_type": "code",
      "source": [
        "#task7\n",
        "M=input(\"Enter your 1st value: \")\n",
        "N= input (\"Enter your 2nd value: \")\n",
        "print(N+M)"
      ],
      "metadata": {
        "colab": {
          "base_uri": "https://localhost:8080/"
        },
        "id": "Hj34LtcHqT2z",
        "outputId": "9ffc8d69-0e98-46ae-da20-185555d79846"
      },
      "execution_count": null,
      "outputs": [
        {
          "output_type": "stream",
          "name": "stdout",
          "text": [
            "enter your 1st value: 5\n",
            "enter your 2nd value: 2\n",
            "25\n"
          ]
        }
      ]
    },
    {
      "cell_type": "code",
      "source": [
        "#task 8\n",
        "line= input(\"Enter your line: \")\n",
        "print(line[0])"
      ],
      "metadata": {
        "colab": {
          "base_uri": "https://localhost:8080/"
        },
        "id": "r6TPxULirItY",
        "outputId": "a9571d14-27d3-418c-e23c-7a9279c17032"
      },
      "execution_count": null,
      "outputs": [
        {
          "output_type": "stream",
          "name": "stdout",
          "text": [
            "Enter your line: The quick brown fox jumps\n",
            "T\n"
          ]
        }
      ]
    },
    {
      "cell_type": "code",
      "source": [
        "#task 9\n",
        "number=int(input(\"Enter your numnber: \"))\n",
        "if number%2==0:\n",
        "  print(\"True\")\n",
        "else:\n",
        "  print(\"False\")"
      ],
      "metadata": {
        "colab": {
          "base_uri": "https://localhost:8080/"
        },
        "id": "VXROJz-xr7eb",
        "outputId": "4b02d891-dbad-40b9-add3-4fdebc307efd"
      },
      "execution_count": null,
      "outputs": [
        {
          "output_type": "stream",
          "name": "stdout",
          "text": [
            "Enter your numnber: 23\n",
            "False\n"
          ]
        }
      ]
    },
    {
      "cell_type": "code",
      "source": [
        "#task 10\n",
        "A=int(input(\"Enter A integer: \"))\n",
        "B=int(input(\"Enter B integer: \"))\n",
        "C=int(input(\"Enter C integer: \"))\n",
        "D=float(input(\"Enter D float: \"))\n",
        "print(int(A**C+B*A-D/3))"
      ],
      "metadata": {
        "colab": {
          "base_uri": "https://localhost:8080/"
        },
        "id": "o88TVLeHsnen",
        "outputId": "937a2703-3813-44d7-acf2-c2939c11bb4e"
      },
      "execution_count": null,
      "outputs": [
        {
          "output_type": "stream",
          "name": "stdout",
          "text": [
            "Enter 1st integer: 2\n",
            "Enter 1st integer: 6\n",
            "Enter 1st integer: 8\n",
            "Enter 1st integer: 1.3\n",
            "267\n"
          ]
        }
      ]
    },
    {
      "cell_type": "code",
      "source": [
        "#task 11\n",
        "user_chocolate_no = int(input(\"Total amount of chocolates: \"))\n",
        "each_will_get = user_chocolate_no //3\n",
        "remaining = user_chocolate_no %3\n",
        "print(\"Each friend will receive\",each_will_get,\"chocolates\")\n",
        "print(\"The number of remaining chocolates is\",remaining)"
      ],
      "metadata": {
        "colab": {
          "base_uri": "https://localhost:8080/"
        },
        "id": "fir7cbLYteEh",
        "outputId": "e797d743-c941-45da-b372-32578eaf82f8"
      },
      "execution_count": null,
      "outputs": [
        {
          "output_type": "stream",
          "name": "stdout",
          "text": [
            "Total amount of chocolates: 50\n",
            "Each friend will receive 16 chocolates\n",
            "The number of remaining chocolates is 2\n"
          ]
        }
      ]
    }
  ]
}