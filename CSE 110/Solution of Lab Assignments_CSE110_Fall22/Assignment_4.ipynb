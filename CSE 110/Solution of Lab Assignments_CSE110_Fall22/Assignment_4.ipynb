{
  "nbformat": 4,
  "nbformat_minor": 0,
  "metadata": {
    "colab": {
      "provenance": []
    },
    "kernelspec": {
      "name": "python3",
      "display_name": "Python 3"
    },
    "language_info": {
      "name": "python"
    }
  },
  "cells": [
    {
      "cell_type": "code",
      "source": [
        "#task 1\n",
        "x=input(\"Enter your input: \")\n",
        "y=x[: :-1]\n",
        "print(y)"
      ],
      "metadata": {
        "colab": {
          "base_uri": "https://localhost:8080/"
        },
        "id": "jQ_JZ5-oh5IU",
        "outputId": "2d144565-c1a1-4dbe-adc8-9c1a6c4571da"
      },
      "execution_count": null,
      "outputs": [
        {
          "output_type": "stream",
          "name": "stdout",
          "text": [
            "Enter your inpuitCSE110\n",
            "011ESC\n"
          ]
        }
      ]
    },
    {
      "cell_type": "code",
      "source": [
        "#task 2\n",
        "x=input(\"Enter your input: \")\n",
        "y=int(input(\"Enter index: \"))\n",
        "i=x[y: :-1]+x[y+1:]\n",
        "print(i,end=\"\")"
      ],
      "metadata": {
        "id": "kTJax63Sijtt",
        "colab": {
          "base_uri": "https://localhost:8080/"
        },
        "outputId": "77327af0-42cd-4c6b-e418-cb02fa7a68d1"
      },
      "execution_count": null,
      "outputs": [
        {
          "output_type": "stream",
          "name": "stdout",
          "text": [
            "Enter your input: aBcd1234defg\n",
            "Enter index: 5\n",
            "21dcBa34defg"
          ]
        }
      ]
    },
    {
      "cell_type": "code",
      "source": [
        "#task 3\n",
        "x=input(\"Enter the number: \")\n",
        "flag=\"binary\"\n",
        "for i in x:\n",
        "  if i!=\"0\" and i!=\"1\":\n",
        "    flag=\"not binary\"\n",
        "    break\n",
        "if flag==\"not binary\":\n",
        "  print(\"Not a Binary Number\")\n",
        "else:\n",
        "  print(\"Binary Number\")"
      ],
      "metadata": {
        "id": "7MnS7YQ6mW4V",
        "colab": {
          "base_uri": "https://localhost:8080/"
        },
        "outputId": "3ce4a9e9-2aac-4541-e4be-ae0f94f11086"
      },
      "execution_count": null,
      "outputs": [
        {
          "output_type": "stream",
          "name": "stdout",
          "text": [
            "Enter the number: 10101011111\n",
            "Binary Number\n"
          ]
        }
      ]
    },
    {
      "cell_type": "code",
      "source": [
        "#task 4\n",
        "x=input(\"Enter: \")\n",
        "if x[-3:]==\"est\":\n",
        "  print(x)\n",
        "elif x[-2:]==\"er\":\n",
        "  s=x[:len(x)-2]\n",
        "  out=s+\"est\"\n",
        "  print(out)\n",
        "elif len(x)<4:\n",
        "  print(x)\n",
        "elif len(x)>3:\n",
        "  print(x+\"er\")"
      ],
      "metadata": {
        "colab": {
          "base_uri": "https://localhost:8080/"
        },
        "id": "3zHDycsnrpZV",
        "outputId": "928c6882-b5ed-4f69-99dc-f2baead01261"
      },
      "execution_count": null,
      "outputs": [
        {
          "output_type": "stream",
          "name": "stdout",
          "text": [
            "Enter: stronger\n",
            "strongest\n"
          ]
        }
      ]
    },
    {
      "cell_type": "code",
      "source": [
        "#task 5\n",
        "x=input(\"Enter string: \")\n",
        "count=0\n",
        "for i in range (0,len(x)+1):\n",
        "  print(x[0:count])\n",
        "  count+=1"
      ],
      "metadata": {
        "colab": {
          "base_uri": "https://localhost:8080/"
        },
        "id": "tI1akNFNvBiO",
        "outputId": "6e29419e-9099-4539-ec88-b1a6cee6984e"
      },
      "execution_count": null,
      "outputs": [
        {
          "output_type": "stream",
          "name": "stdout",
          "text": [
            "Enter string: BANGLA\n",
            "\n",
            "B\n",
            "BA\n",
            "BAN\n",
            "BANG\n",
            "BANGL\n",
            "BANGLA\n"
          ]
        }
      ]
    },
    {
      "cell_type": "code",
      "source": [
        "#taSK 6\n",
        "x=input(\"Enter a string: \")\n",
        "for i in x:\n",
        "  ascii=ord(i)\n",
        "  print(f\"{i} : {ascii}\")"
      ],
      "metadata": {
        "colab": {
          "base_uri": "https://localhost:8080/"
        },
        "id": "YQceE2N4w-VA",
        "outputId": "9ddccbbd-28fb-44f6-e1da-cf6bfd921965"
      },
      "execution_count": null,
      "outputs": [
        {
          "output_type": "stream",
          "name": "stdout",
          "text": [
            "Enter a string: Programming\n",
            "P : 80\n",
            "r : 114\n",
            "o : 111\n",
            "g : 103\n",
            "r : 114\n",
            "a : 97\n",
            "m : 109\n",
            "m : 109\n",
            "i : 105\n",
            "n : 110\n",
            "g : 103\n"
          ]
        }
      ]
    },
    {
      "cell_type": "code",
      "source": [
        "#task 7\n",
        "x=input(\"Enter: \")\n",
        "for i in x:\n",
        "  if ord(i)==122:\n",
        "    print(chr(97),end=\"\")\n",
        "  else:\n",
        "    y=chr(ord(i)+1)\n",
        "    print(y, end=\"\")"
      ],
      "metadata": {
        "colab": {
          "base_uri": "https://localhost:8080/"
        },
        "id": "f1gg3e-85gZW",
        "outputId": "d8f87d0b-b3fa-436f-d55a-c93b30ae2ae9"
      },
      "execution_count": null,
      "outputs": [
        {
          "output_type": "stream",
          "name": "stdout",
          "text": [
            "Enter: xyzabc\n",
            "yzabcd"
          ]
        }
      ]
    },
    {
      "cell_type": "code",
      "source": [
        "#task 8\n",
        "x=input()\n",
        "y=len(x)\n",
        "for i in range(1,y,2):\n",
        "  x2=chr(ord(x[i])-32)\n",
        "  print(x2,end=\"\")"
      ],
      "metadata": {
        "colab": {
          "base_uri": "https://localhost:8080/"
        },
        "id": "ZzmKG0_eqmXR",
        "outputId": "ad522679-b45f-46f1-9588-a728bf0c1a7e"
      },
      "execution_count": null,
      "outputs": [
        {
          "output_type": "stream",
          "name": "stdout",
          "text": [
            "String\n",
            "TIG"
          ]
        }
      ]
    },
    {
      "cell_type": "code",
      "source": [
        "#task 9\n",
        "x=input(\"Enter: \")\n",
        "j=\"\"\n",
        "for i in x:\n",
        "  if j==\"\":\n",
        "    print(i,end=\"\")\n",
        "    j=i\n",
        "  elif i==j:\n",
        "    continue\n",
        "  else:\n",
        "    print(i,end=\"\")\n",
        "    j=i"
      ],
      "metadata": {
        "colab": {
          "base_uri": "https://localhost:8080/"
        },
        "id": "U4cqPPxuxu_5",
        "outputId": "e42d0706-fa6f-4e6c-d137-0ba340f80058"
      },
      "execution_count": null,
      "outputs": [
        {
          "output_type": "stream",
          "name": "stdout",
          "text": [
            "Enter: ABBA\n",
            "ABA"
          ]
        }
      ]
    },
    {
      "cell_type": "code",
      "source": [
        "#task 10\n",
        "x=input(\"Enter:\")\n",
        "count=0\n",
        "out=\"\"\n",
        "for i in x:\n",
        "    if i==\",\":\n",
        "        break\n",
        "    count+=1\n",
        "first=x[:count]\n",
        "last=x[count+2:]\n",
        "#print(first)\n",
        "#print(last)\n",
        "if len(first)>len(last):\n",
        "    longer=first\n",
        "    shorter=last\n",
        "else:\n",
        "    longer=last\n",
        "    shorter= first\n",
        "for char in range(0,len(shorter)):\n",
        "    out=out+first[char]+last [char]\n",
        "for char in range(len(shorter),len(longer)): \n",
        "    out=out+longer[char]\n",
        "print(out)"
      ],
      "metadata": {
        "id": "Olil2dxy1-J2",
        "colab": {
          "base_uri": "https://localhost:8080/"
        },
        "outputId": "ec18ce01-7420-454b-8571-629e5d7a0752"
      },
      "execution_count": null,
      "outputs": [
        {
          "output_type": "stream",
          "name": "stdout",
          "text": [
            "Enter:ABCDENDFGH, ijkl\n",
            "AiBjCkDlENDFGH\n"
          ]
        }
      ]
    },
    {
      "cell_type": "code",
      "source": [
        "#task 16 \n",
        "word=input(\"Word: \")\n",
        "letter=input(\"Letter: \")\n",
        "if letter not in word and len(word)>3:\n",
        "  print(word[1:len(word)-1])\n",
        "elif letter in word:\n",
        "  temp=\"\"\n",
        "  for i in word:\n",
        "    if i==letter:\n",
        "      continue\n",
        "    temp+=i\n",
        "  print(temp)\n",
        "else:\n",
        "  print(word)"
      ],
      "metadata": {
        "colab": {
          "base_uri": "https://localhost:8080/"
        },
        "id": "0SG6DQX8dTcW",
        "outputId": "7a8f4b66-9a96-44e8-dc03-ec8dd3028aac"
      },
      "execution_count": null,
      "outputs": [
        {
          "output_type": "stream",
          "name": "stdout",
          "text": [
            "Word: eren yeager\n",
            "Letter: k\n",
            "ren yeage\n"
          ]
        }
      ]
    },
    {
      "cell_type": "code",
      "source": [
        "#task 17\n",
        "st=input(\"String: \")\n",
        "split=input(\"Split: \")\n",
        "temp=\"\"\n",
        "for i in st:\n",
        "  if i==split:\n",
        "    print(temp)\n",
        "    temp=\"\"\n",
        "    continue\n",
        "  temp+=i\n",
        "print(temp)"
      ],
      "metadata": {
        "colab": {
          "base_uri": "https://localhost:8080/"
        },
        "id": "M69CqAWrgtv2",
        "outputId": "7f57ed2b-6412-44d7-a5ed-751781ae9179"
      },
      "execution_count": null,
      "outputs": [
        {
          "output_type": "stream",
          "name": "stdout",
          "text": [
            "String: tom@gmail,harry@yahoo,bob@gmail,mary@gmail\n",
            "Split: ,\n",
            "tom@gmail\n",
            "harry@yahoo\n",
            "bob@gmail\n",
            "mary@gmail\n"
          ]
        }
      ]
    },
    {
      "cell_type": "code",
      "source": [
        "#task 18\n",
        "st=input(\"String: \")\n",
        "num=int(input())\n",
        "if num%2==0:\n",
        "  print(st*(num*2))\n",
        "elif num%2!=0:\n",
        "  print(st*(num*3))\n"
      ],
      "metadata": {
        "colab": {
          "base_uri": "https://localhost:8080/"
        },
        "id": "66L1I_Jkip4e",
        "outputId": "6b2e158c-026b-41ae-8c9b-27f560e47f9d"
      },
      "execution_count": null,
      "outputs": [
        {
          "output_type": "stream",
          "name": "stdout",
          "text": [
            "String: CSE110\n",
            "3\n",
            "CSE110CSE110CSE110CSE110CSE110CSE110CSE110CSE110CSE110\n"
          ]
        }
      ]
    }
  ]
}