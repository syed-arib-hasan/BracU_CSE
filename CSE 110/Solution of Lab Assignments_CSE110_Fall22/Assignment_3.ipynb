{
  "nbformat": 4,
  "nbformat_minor": 0,
  "metadata": {
    "colab": {
      "provenance": []
    },
    "kernelspec": {
      "name": "python3",
      "display_name": "Python 3"
    },
    "language_info": {
      "name": "python"
    }
  },
  "cells": [
    {
      "cell_type": "code",
      "execution_count": null,
      "metadata": {
        "colab": {
          "base_uri": "https://localhost:8080/"
        },
        "id": "C2tz-VAOS73Q",
        "outputId": "1f942819-b303-40c6-a33d-8f689fcc99b3"
      },
      "outputs": [
        {
          "output_type": "stream",
          "name": "stdout",
          "text": [
            "24, 18, 12, 6, 0, -6"
          ]
        }
      ],
      "source": [
        "#task 1 (a)\n",
        "counter=24\n",
        "while counter>=-6:\n",
        "  if counter==-6:\n",
        "    print(counter, end=\"\")\n",
        "  else:\n",
        "    print(counter, end=\", \")\n",
        "  counter-=6"
      ]
    },
    {
      "cell_type": "code",
      "source": [
        "#task 1 (b)\n",
        "x=-10\n",
        "while x<20:\n",
        "  print(x, end=\",\")\n",
        "  x=x+5\n",
        "  if x==20:\n",
        "    print(x)  "
      ],
      "metadata": {
        "colab": {
          "base_uri": "https://localhost:8080/"
        },
        "id": "MDZ2_W9T2uWH",
        "outputId": "a549d2b4-519a-4aa2-a4ba-e365cd78fffa"
      },
      "execution_count": null,
      "outputs": [
        {
          "output_type": "stream",
          "name": "stdout",
          "text": [
            "-10,-5,0,5,10,15,20\n"
          ]
        }
      ]
    },
    {
      "cell_type": "code",
      "source": [
        "#task 1(c)\n",
        "x=18\n",
        "while x<63:\n",
        "  print(x, end=\",\")\n",
        "  x=x+9\n",
        "  if x==63:\n",
        "    print(x)  "
      ],
      "metadata": {
        "colab": {
          "base_uri": "https://localhost:8080/"
        },
        "id": "EOec5q7b4S7W",
        "outputId": "11214c03-47a2-4f11-deeb-112a90c387dd"
      },
      "execution_count": null,
      "outputs": [
        {
          "output_type": "stream",
          "name": "stdout",
          "text": [
            "18,27,36,45,54,63\n"
          ]
        }
      ]
    },
    {
      "cell_type": "code",
      "source": [
        "#task 1 (d)\n",
        "x=18\n",
        "y=-27\n",
        "while x<=54 or y>-63:\n",
        "  print(x, end=\",\")\n",
        "  x=x+18\n",
        "  if y==-63:\n",
        "    print(y)\n",
        "    break\n",
        "  else:\n",
        "    print(y, end=\",\")\n",
        "    y=y-18"
      ],
      "metadata": {
        "colab": {
          "base_uri": "https://localhost:8080/"
        },
        "id": "-3mJEfH41-yr",
        "outputId": "bdbc895b-8710-4924-e877-68787aaadcc1"
      },
      "execution_count": null,
      "outputs": [
        {
          "output_type": "stream",
          "name": "stdout",
          "text": [
            "18,-27,36,-45,54,-63\n"
          ]
        }
      ]
    },
    {
      "cell_type": "code",
      "source": [
        "#task 2\n",
        "car= input(\"Enter the name of your favorite car: \")\n",
        "x= int(input(\"Enter a number: \"))\n",
        "y=1\n",
        "while y<=x:\n",
        "  print(car)\n",
        "  y+=1 "
      ],
      "metadata": {
        "colab": {
          "base_uri": "https://localhost:8080/"
        },
        "id": "O2zwh9PAVXkg",
        "outputId": "6f2bd787-8a6e-4569-9437-65dbc8614c17"
      },
      "execution_count": null,
      "outputs": [
        {
          "output_type": "stream",
          "name": "stdout",
          "text": [
            "Enter the name of your favorite car: toyota\n",
            "Enter a number: 3\n",
            "toyota\n",
            "toyota\n",
            "toyota\n"
          ]
        }
      ]
    },
    {
      "cell_type": "code",
      "source": [
        "#task 3\n",
        "x=1\n",
        "sum=0\n",
        "while x<=600:\n",
        "  if x%7==0 and x%9==0:\n",
        "    sum=sum+x\n",
        "  x=x+1\n",
        "print(sum)"
      ],
      "metadata": {
        "colab": {
          "base_uri": "https://localhost:8080/"
        },
        "id": "WrXyMb6sb5jO",
        "outputId": "5be25be4-25a2-42e3-e4fc-2f484f2319de"
      },
      "execution_count": null,
      "outputs": [
        {
          "output_type": "stream",
          "name": "stdout",
          "text": [
            "2835\n"
          ]
        }
      ]
    },
    {
      "cell_type": "code",
      "source": [
        "#task 4\n",
        "x=1\n",
        "sum=0\n",
        "while x<=600:\n",
        "  if (x%7==0 and x%9!=0) or (x%7!=0 and x%9==0) :\n",
        "    sum=sum+x\n",
        "  x=x+1\n",
        "print(sum)"
      ],
      "metadata": {
        "colab": {
          "base_uri": "https://localhost:8080/"
        },
        "id": "lvgIJI1Ld1bU",
        "outputId": "b9132690-32d9-42ee-d4e0-09e07cdcf6fa"
      },
      "execution_count": null,
      "outputs": [
        {
          "output_type": "stream",
          "name": "stdout",
          "text": [
            "39814\n"
          ]
        }
      ]
    },
    {
      "cell_type": "code",
      "source": [
        "#task 5\n",
        "i=10\n",
        "while i<=50:\n",
        "  if i%2!=0:\n",
        "    print (i, end=\" \")\n",
        "  i+=1"
      ],
      "metadata": {
        "colab": {
          "base_uri": "https://localhost:8080/"
        },
        "id": "iALJhqyReLQ3",
        "outputId": "7eb036c7-fb6b-4389-cc64-253a5ab87a22"
      },
      "execution_count": null,
      "outputs": [
        {
          "output_type": "stream",
          "name": "stdout",
          "text": [
            "11 13 15 17 19 21 23 25 27 29 31 33 35 37 39 41 43 45 47 49 "
          ]
        }
      ]
    },
    {
      "cell_type": "code",
      "source": [
        "#task 6\n",
        "import math\n",
        "x=int(input(\"Enter n: \"))\n",
        "i=1\n",
        "y=0\n",
        "while i<=x:\n",
        "  y=y+math.pow(-1,i+1)*math.pow(i,2)\n",
        "  i+=1\n",
        "print(int(y))"
      ],
      "metadata": {
        "colab": {
          "base_uri": "https://localhost:8080/"
        },
        "id": "8sQSLVwUeurS",
        "outputId": "04fe2fb0-8478-407e-ac47-8a25a5089fa5"
      },
      "execution_count": null,
      "outputs": [
        {
          "output_type": "stream",
          "name": "stdout",
          "text": [
            "Enter n: 5\n",
            "15\n"
          ]
        }
      ]
    },
    {
      "cell_type": "code",
      "source": [
        "#task 7\n",
        "i=0\n",
        "sum=0\n",
        "avg=0\n",
        "odd=0\n",
        "while i<10:\n",
        "  x=int(input(\"Enter number: \"))\n",
        "  i+=1\n",
        "  if x%2!=0:\n",
        "    sum=sum+x\n",
        "    odd+=1\n",
        "    avg= sum/odd\n",
        "print(f\"The total of the odd numbers is {sum} and their average is {avg}\")"
      ],
      "metadata": {
        "colab": {
          "base_uri": "https://localhost:8080/"
        },
        "id": "c3YqluSOkWqX",
        "outputId": "60c5ef43-3f98-4b72-ffdc-e41ce79241ac"
      },
      "execution_count": null,
      "outputs": [
        {
          "output_type": "stream",
          "name": "stdout",
          "text": [
            "Enter number: 1\n",
            "Enter number: 2\n",
            "Enter number: 3\n",
            "Enter number: 4\n",
            "Enter number: 5\n",
            "Enter number: 6\n",
            "Enter number: 7\n",
            "Enter number: 8\n",
            "Enter number: 9\n",
            "Enter number: 10\n",
            "The total of the odd numbers is 25 and their average is 5.0\n"
          ]
        }
      ]
    },
    {
      "cell_type": "code",
      "source": [
        "#task 8\n",
        "N=int(input(\"Enter a number: \")) \n",
        "i=1\n",
        "sum=0\n",
        "while i<=N:\n",
        "  if i%7==0:\n",
        "    sum=sum+i\n",
        "  i+=1\n",
        "print(sum)"
      ],
      "metadata": {
        "colab": {
          "base_uri": "https://localhost:8080/"
        },
        "id": "PHn7rFzLm_lG",
        "outputId": "bd868c23-6420-40ff-e863-e727068bd992"
      },
      "execution_count": null,
      "outputs": [
        {
          "output_type": "stream",
          "name": "stdout",
          "text": [
            "Enter a number: 75\n",
            "385\n"
          ]
        }
      ]
    },
    {
      "cell_type": "code",
      "source": [
        "#task 9\n",
        "i=1\n",
        "sum=0\n",
        "while i<=5:\n",
        "  x=int(input(\"Enter a num: \"))\n",
        "  sum=sum+x\n",
        "  i+=1\n",
        "  print(sum)"
      ],
      "metadata": {
        "id": "FsW8PoiKo9nX",
        "colab": {
          "base_uri": "https://localhost:8080/"
        },
        "outputId": "c98e6eea-f513-4ddb-a1d4-de8c7fd078de"
      },
      "execution_count": null,
      "outputs": [
        {
          "output_type": "stream",
          "name": "stdout",
          "text": [
            "Enter a num: 1\n",
            "1\n",
            "Enter a num: 2\n",
            "3\n",
            "Enter a num: 3\n",
            "6\n",
            "Enter a num: 4\n",
            "10\n",
            "Enter a num: 15\n",
            "25\n"
          ]
        }
      ]
    },
    {
      "cell_type": "code",
      "source": [
        "#task 10\n",
        "i = int(input(\"Please enter a number: \")) \n",
        "while i!=0:\n",
        "  if i==i%10:\n",
        "    print(i, end=\"\")\n",
        "    break\n",
        "  print(i % 10, end=\",\") \n",
        "  i //= 10"
      ],
      "metadata": {
        "colab": {
          "base_uri": "https://localhost:8080/"
        },
        "id": "codQqD5UsxNj",
        "outputId": "a474a43c-284c-4cb7-91c5-c9439704db4c"
      },
      "execution_count": null,
      "outputs": [
        {
          "output_type": "stream",
          "name": "stdout",
          "text": [
            "Please enter a number: 32678\n",
            "8,7,6,2,3"
          ]
        }
      ]
    },
    {
      "cell_type": "code",
      "source": [
        "#task11\n",
        "x=int(input(\"Enter an integer: \"))\n",
        "count=0\n",
        "while x!=0:\n",
        "  x=x//10\n",
        "  count=count+1\n",
        "print(count)"
      ],
      "metadata": {
        "id": "EcNsJEi7yy_2",
        "colab": {
          "base_uri": "https://localhost:8080/"
        },
        "outputId": "b14a977e-e22e-4ff9-e188-f413f41f4261"
      },
      "execution_count": null,
      "outputs": [
        {
          "output_type": "stream",
          "name": "stdout",
          "text": [
            "Enter an integer: 9876\n",
            "4\n"
          ]
        }
      ]
    },
    {
      "cell_type": "code",
      "source": [
        "#task 12\n",
        "x=int(input(\"Enter an integer: \"))\n",
        "y=x\n",
        "count=0\n",
        "while y!=0:\n",
        "  y=y//10\n",
        "  count=count+1\n",
        "n=pow(10,count-1)\n",
        "while x!=0:\n",
        "  z=x//n\n",
        "  print(z, end=\",\")\n",
        "  x=x%n\n",
        "  n=n//10\n",
        "  if n==1:\n",
        "    print(x, end=\" \")\n",
        "    break"
      ],
      "metadata": {
        "colab": {
          "base_uri": "https://localhost:8080/"
        },
        "id": "PpeXuzSiwHQA",
        "outputId": "494345c0-a07e-4fe3-e6e7-c48c0389cb54"
      },
      "execution_count": null,
      "outputs": [
        {
          "output_type": "stream",
          "name": "stdout",
          "text": [
            "Enter an integer: 32678\n",
            "3,2,6,7,8 8,"
          ]
        }
      ]
    },
    {
      "cell_type": "code",
      "source": [
        "#task13\n",
        "x=int(input(\"Enter an Integer: \"))\n",
        "count=0\n",
        "for i in range (1,x+1):\n",
        "  if x%i==0:\n",
        "    print(i)\n",
        "    count+=1\n",
        "print(f\"Total {count} divisors\")\n",
        "\n"
      ],
      "metadata": {
        "colab": {
          "base_uri": "https://localhost:8080/"
        },
        "id": "nDV3v8Pu-c2E",
        "outputId": "7f7cdf0b-009c-413e-debc-2575247eff39"
      },
      "execution_count": null,
      "outputs": [
        {
          "output_type": "stream",
          "name": "stdout",
          "text": [
            "Enter an Integer: 121\n",
            "1\n",
            "11\n",
            "121\n",
            "Total 3 divisors\n"
          ]
        }
      ]
    },
    {
      "cell_type": "code",
      "source": [
        "#task 14\n",
        "x=int(input(\"Enter an Integer: \"))\n",
        "sum=0\n",
        "for i in range (1,x):\n",
        "  if x%i==0:\n",
        "    sum=sum+i\n",
        "if x==sum:\n",
        "  print(f\"{x} is a perfect number\")\n",
        "else:\n",
        "   print(f\"{x} is not a perfect number\")"
      ],
      "metadata": {
        "colab": {
          "base_uri": "https://localhost:8080/"
        },
        "id": "WgsQEGMKBKaN",
        "outputId": "0236cb2f-cd7d-4324-a7cc-ec1e0e385578"
      },
      "execution_count": null,
      "outputs": [
        {
          "output_type": "stream",
          "name": "stdout",
          "text": [
            "Enter an Integer: 33\n",
            "33 is not a perfect number\n"
          ]
        }
      ]
    },
    {
      "cell_type": "code",
      "source": [
        "#task 15\n",
        "x=int(input(\"Enter a number: \"))\n",
        "count=1\n",
        "i=1\n",
        "while i<=x:\n",
        "  if x%i==0:\n",
        "    i+=1\n",
        "    count+=1\n",
        "  else:\n",
        "    i+=1\n",
        "    continue\n",
        "if count==2:\n",
        "  print(f\"{x} is a prime number\")\n",
        "else:\n",
        "  print(f\"{x} is not a prime number\")"
      ],
      "metadata": {
        "colab": {
          "base_uri": "https://localhost:8080/"
        },
        "id": "7f_j6T0-B1-e",
        "outputId": "2ab8e941-3ff0-4ecb-9b0e-c2ca5d85dde6"
      },
      "execution_count": null,
      "outputs": [
        {
          "output_type": "stream",
          "name": "stdout",
          "text": [
            "Enter a number: 11\n",
            "11 is not a prime number\n"
          ]
        }
      ]
    },
    {
      "cell_type": "code",
      "source": [
        "#task 16\n",
        "i=int(input(\"Enter Number: \"))\n",
        "sum=0\n",
        "count=1\n",
        "min= None\n",
        "max=None\n",
        "while count<=i:\n",
        "  x=int(input(\"Enter Number: \"))\n",
        "  if min is None and max is None:\n",
        "    min=x\n",
        "    max=x\n",
        "  elif x<min:\n",
        "    min=x\n",
        "  elif x>max:\n",
        "    max=x\n",
        "  sum=sum+x\n",
        "  count+=1\n",
        "print(f\"Maximum {max}\\nMinimum {min}\\nAverage is {sum/i}\")"
      ],
      "metadata": {
        "colab": {
          "base_uri": "https://localhost:8080/"
        },
        "id": "7VvCLtCtFga-",
        "outputId": "05272169-12c3-48e0-82f3-494a7e573a0f"
      },
      "execution_count": null,
      "outputs": [
        {
          "output_type": "stream",
          "name": "stdout",
          "text": [
            "Enter Number: 5\n",
            "Enter Number: 9\n",
            "Enter Number: 7\n",
            "Enter Number: 7\n",
            "Enter Number: 56\n",
            "Enter Number: 45\n",
            "Maximum 56\n",
            "Minimum 7\n",
            "Average is 24.8\n"
          ]
        }
      ]
    },
    {
      "cell_type": "code",
      "source": [
        "#task 17\n",
        "x=int(input(\"Enter a number: \"))\n",
        "for i in range (0,x):\n",
        "  for i in range(0,x):\n",
        "    print(\"+\", end=\"\")\n",
        "  print()"
      ],
      "metadata": {
        "colab": {
          "base_uri": "https://localhost:8080/"
        },
        "id": "vVPJJYiFJFAB",
        "outputId": "b70bae88-af19-4af6-ef82-66f01af4280c"
      },
      "execution_count": null,
      "outputs": [
        {
          "output_type": "stream",
          "name": "stdout",
          "text": [
            "Enter a number: 5\n",
            "+++++\n",
            "+++++\n",
            "+++++\n",
            "+++++\n",
            "+++++\n"
          ]
        }
      ]
    },
    {
      "cell_type": "code",
      "source": [
        "#task 18\n",
        "h=int(input(\"Enter height: \"))\n",
        "w=int(input(\"Enter width: \"))\n",
        "for i in range (0,h):\n",
        "  for y in range (1,w+1):\n",
        "    print(y, end=\"\")\n",
        "  print()"
      ],
      "metadata": {
        "colab": {
          "base_uri": "https://localhost:8080/"
        },
        "id": "uVo5lagdKhiZ",
        "outputId": "40843226-1c43-4023-cd5c-5fc00d94bbc2"
      },
      "execution_count": null,
      "outputs": [
        {
          "output_type": "stream",
          "name": "stdout",
          "text": [
            "Enter height: 4\n",
            "Enter width: 6\n",
            "123456\n",
            "123456\n",
            "123456\n",
            "123456\n"
          ]
        }
      ]
    },
    {
      "cell_type": "code",
      "source": [
        "#task 19\n",
        "x=int(input(\"Enter a number: \"))\n",
        "for y in range (1,x+1):\n",
        "  for i in range (1,y+1):\n",
        "    print(i, end=\"\")\n",
        "  print()"
      ],
      "metadata": {
        "colab": {
          "base_uri": "https://localhost:8080/"
        },
        "id": "9Ms83nI_LPtS",
        "outputId": "7f857390-6a0b-4811-d175-5d5a0d321f42"
      },
      "execution_count": null,
      "outputs": [
        {
          "output_type": "stream",
          "name": "stdout",
          "text": [
            "Enter a number: 4\n",
            "1\n",
            "12\n",
            "123\n",
            "1234\n"
          ]
        }
      ]
    },
    {
      "cell_type": "code",
      "source": [
        "#task 25\n",
        "N=int(input(\"Enter a number: \"))\n",
        "sum=0\n",
        "i=0\n",
        "j=1\n",
        "count=0\n",
        "while sum<=N:\n",
        "  print(sum, end=\" \")\n",
        "  count+=1\n",
        "  i=j\n",
        "  j=sum\n",
        "  sum=i+j"
      ],
      "metadata": {
        "colab": {
          "base_uri": "https://localhost:8080/"
        },
        "id": "r_iwrlx7Kq82",
        "outputId": "77557636-e572-467c-d45c-51ca0ecedf31"
      },
      "execution_count": null,
      "outputs": [
        {
          "output_type": "stream",
          "name": "stdout",
          "text": [
            "Enter a number: 15\n",
            "0 1 1 2 3 5 8 13 "
          ]
        }
      ]
    },
    {
      "cell_type": "code",
      "source": [
        "#task 26\n",
        "x=int(input(\"Enter a decimal number: \"))\n",
        "count=0\n",
        "sum=0\n",
        "while x!=0:\n",
        "  y=x%2\n",
        "  x=x//2\n",
        "  sum=sum+y*10**count\n",
        "  count+=1\n",
        "print(sum)"
      ],
      "metadata": {
        "colab": {
          "base_uri": "https://localhost:8080/"
        },
        "id": "TbjIYnZVdcHg",
        "outputId": "537f8454-09f6-4be1-8f35-ab195df05ed7"
      },
      "execution_count": null,
      "outputs": [
        {
          "output_type": "stream",
          "name": "stdout",
          "text": [
            "Enter a decimal number: 13\n",
            "1101\n"
          ]
        }
      ]
    },
    {
      "cell_type": "code",
      "source": [
        "#task 27\n",
        "x=input(\"Enter a binary number: \")\n",
        "i=(len(x))-1\n",
        "sum=0\n",
        "for j in x:\n",
        "  sum=sum+int(j)*2**i\n",
        "  i=i-1\n",
        "  if i<0:\n",
        "    break\n",
        "print(sum)"
      ],
      "metadata": {
        "colab": {
          "base_uri": "https://localhost:8080/"
        },
        "id": "vrgv7sDykohg",
        "outputId": "ceffb4d2-c7f6-4f26-8eb0-2ccbf51dbf6a"
      },
      "execution_count": null,
      "outputs": [
        {
          "output_type": "stream",
          "name": "stdout",
          "text": [
            "Enter a binary number: 1010\n",
            "10\n"
          ]
        }
      ]
    },
    {
      "cell_type": "code",
      "source": [
        "#task 28\n",
        "x=int(input(\"Starting range: \"))\n",
        "y=int(input(\"Ending range: \"))\n",
        "pri=[]\n",
        "pre=[]\n",
        "pre_count=0\n",
        "pri_count=0\n",
        "for i in range (x,y+1):\n",
        "    sum=0\n",
        "    count=0\n",
        "    for j in range(1,i):\n",
        "        if i%j==0:\n",
        "            sum=sum+j\n",
        "    if sum==i:\n",
        "        pre.append(i)\n",
        "        pre_count+=1\n",
        "    for j in range (1,i+1):\n",
        "        if i%j==0:\n",
        "            count=count+1\n",
        "    if count==2:\n",
        "        pri.append(i)\n",
        "        pri_count+=1\n",
        "print(f\"Between {x} and {y}\\nFound {pri_count} prime numbers\\nFound {pre_count} perfect numbers\")\n",
        "print(\"Prime Numbers: \" , end=\"\") \n",
        "print(*pri, sep=\",\")\n",
        "print(\"Perfect number: \", end=\"\")\n",
        "print(*pre, sep=\",\")"
      ],
      "metadata": {
        "colab": {
          "base_uri": "https://localhost:8080/"
        },
        "id": "29Xj1NXnjGmm",
        "outputId": "033f2466-5157-40f3-b67a-0ffaefc868ac"
      },
      "execution_count": null,
      "outputs": [
        {
          "output_type": "stream",
          "name": "stdout",
          "text": [
            "Starting range: 2\n",
            "Ending range: 6\n",
            "Between 2 and 6\n",
            "Found 3 prime numbers\n",
            "Found 1 perfect numbers\n",
            "Prime Numbers: 2,3,5\n",
            "Perfect number: 6\n"
          ]
        }
      ]
    },
    {
      "cell_type": "code",
      "source": [
        "#task 29\n",
        "x=int(input('Enter starting range: '))\n",
        "y=int(input('Enter ending range: '))\n",
        "check=int(input('Enter checking number: '))\n",
        "for i in range (x,y+1):\n",
        "    pro=1\n",
        "    while(i>0):\n",
        "        dig=i%10\n",
        "        pro=pro*dig\n",
        "        i=i//10\n",
        "    if pro%check==0:\n",
        "        print(pro,end=\" \")"
      ],
      "metadata": {
        "id": "9nfh2D7hyO-B",
        "colab": {
          "base_uri": "https://localhost:8080/"
        },
        "outputId": "e0fa7929-f8b2-4f1a-8439-9c2ce476d76c"
      },
      "execution_count": null,
      "outputs": [
        {
          "output_type": "stream",
          "name": "stdout",
          "text": [
            "Enter starting range: 25\n",
            "Enter ending range: 30\n",
            "Enter checking number: 4\n",
            "12 16 0 "
          ]
        }
      ]
    }
  ]
}