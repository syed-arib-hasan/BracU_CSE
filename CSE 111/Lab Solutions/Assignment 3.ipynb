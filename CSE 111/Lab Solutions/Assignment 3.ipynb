{
  "cells": [
    {
      "attachments": {},
      "cell_type": "markdown",
      "metadata": {
        "id": "th9oVyLOHFlh"
      },
      "source": [
        "# Week **3** \n"
      ]
    },
    {
      "cell_type": "code",
      "execution_count": null,
      "metadata": {
        "colab": {
          "base_uri": "https://localhost:8080/"
        },
        "id": "rbV2404aHLKQ",
        "outputId": "106ce056-d3ae-4534-e5ab-64a17184b835"
      },
      "outputs": [
        {
          "name": "stdout",
          "output_type": "stream",
          "text": [
            "Integer\n",
            "1234\n",
            "=====================\n",
            "String\n",
            "Hello\n",
            "=====================\n",
            "Float\n",
            "4.0\n"
          ]
        }
      ],
      "source": [
        "#task 1\n",
        "class DataType:\n",
        "  def __init__(self,name,value):\n",
        "    self.name=name\n",
        "    self.value=value\n",
        "\n",
        "data_type1 = DataType ('Integer', 1234)\n",
        "print(data_type1.name)\n",
        "print(data_type1.value)\n",
        "print('=====================')\n",
        "data_type2 = DataType ('String', 'Hello')\n",
        "print(data_type2.name)\n",
        "print(data_type2.value)\n",
        "print('=====================')\n",
        "data_type3 = DataType ('Float', 4.0)\n",
        "print(data_type3.name)\n",
        "print(data_type3.value)\n",
        "\n"
      ]
    },
    {
      "cell_type": "code",
      "execution_count": null,
      "metadata": {
        "colab": {
          "base_uri": "https://localhost:8080/"
        },
        "id": "ng3SVMBubGCD",
        "outputId": "031688cb-ecbc-4e3f-8f01-84f89edd2b28"
      },
      "outputs": [
        {
          "name": "stdout",
          "output_type": "stream",
          "text": [
            "Heath Ledger\n",
            "Mind Game\n",
            "False\n",
            "=====================\n",
            "Joaquin Phoenix\n",
            "Laughing out Loud\n",
            "True\n",
            "=====================\n",
            "different\n",
            "same\n"
          ]
        }
      ],
      "source": [
        "#tassk 2\n",
        "class Joker:\n",
        "  def __init__(self,name,power,is_he_psycho):\n",
        "    self.name=name\n",
        "    self.power=power\n",
        "    self.is_he_psycho=is_he_psycho\n",
        "j1 = Joker('Heath Ledger', 'Mind Game', False)\n",
        "print(j1.name)\n",
        "print(j1.power)\n",
        "print(j1.is_he_psycho)\n",
        "print('=====================')\n",
        "j2 = Joker('Joaquin Phoenix', 'Laughing out Loud', True)\n",
        "print(j2.name)\n",
        "print(j2.power)\n",
        "print(j2.is_he_psycho)\n",
        "print('=====================')\n",
        "if j1 == j2:\n",
        "    print('same')\n",
        "else: \n",
        "    print('different')\n",
        "j2.name = 'Heath Ledger'\n",
        "if j1.name == j2.name:\n",
        "    print('same')\n",
        "else:\n",
        "    print('different')\n",
        " \n",
        "\n",
        "\n"
      ]
    },
    {
      "cell_type": "code",
      "execution_count": null,
      "metadata": {
        "colab": {
          "base_uri": "https://localhost:8080/"
        },
        "id": "ZI3MCeuIc4Nh",
        "outputId": "b17e408d-5217-4095-986f-b0e42ccdf551"
      },
      "outputs": [
        {
          "name": "stdout",
          "output_type": "stream",
          "text": [
            "=======Team 1=======\n",
            "Pokemon 1: pikachu 90\n",
            "Pokemon 2: charmander 60\n",
            "Combined Power: 1500\n",
            "=======Team 2=======\n",
            "Pokemon 1: bulbasaur 80\n",
            "Pokemon 2: squirtle  70\n",
            "Combined Power: 1350\n"
          ]
        }
      ],
      "source": [
        "#tassk 3\n",
        "class Pokemon:\n",
        "  def __init__(self,pokemon1_name,pokemon2_name,pokemon1_power,pokemon2_power,damage_rate):\n",
        "    self.pokemon1_name=pokemon1_name\n",
        "    self.pokemon2_name=pokemon2_name\n",
        "    self.pokemon1_power=pokemon1_power\n",
        "    self.pokemon2_power=pokemon2_power\n",
        "    self.damage_rate=damage_rate\n",
        "\n",
        "team_pika = Pokemon('pikachu', 'charmander', 90, 60, 10)\n",
        "print('=======Team 1=======')\n",
        "print('Pokemon 1:',team_pika.pokemon1_name, team_pika.pokemon1_power)\n",
        "print('Pokemon 2:',team_pika.pokemon2_name, team_pika.pokemon2_power)\n",
        "pika_combined_power = (team_pika.pokemon1_power + team_pika.pokemon2_power) * team_pika.damage_rate\n",
        "print('Combined Power:', pika_combined_power)\n",
        "\n",
        "team_bulb = Pokemon('bulbasaur', 'squirtle ', 80, 70, 9)\n",
        "print('=======Team 2=======')\n",
        "print('Pokemon 1:',team_bulb.pokemon1_name, team_bulb.pokemon1_power)\n",
        "print('Pokemon 2:',team_bulb.pokemon2_name, team_bulb.pokemon2_power)\n",
        "bulb_combined_power = (team_bulb.pokemon1_power + team_bulb.pokemon2_power) * team_bulb.damage_rate\n",
        "print('Combined Power:', bulb_combined_power)\n"
      ]
    },
    {
      "cell_type": "code",
      "execution_count": null,
      "metadata": {
        "colab": {
          "base_uri": "https://localhost:8080/"
        },
        "id": "e0sFUIycm6Lv",
        "outputId": "70aea0d4-d29a-4faf-e05d-ba8bd7356609"
      },
      "outputs": [
        {
          "name": "stdout",
          "output_type": "stream",
          "text": [
            "Name: Bangladesh\n",
            "Continent: Asia\n",
            "Capital: Dhaka\n",
            "Fifa Ranking: 187\n",
            "===================\n",
            "Name: Belgium\n",
            "Continent: Europe\n",
            "Capital: Brussels\n",
            "Fifa Ranking: 1\n"
          ]
        }
      ],
      "source": [
        "#task 4\n",
        "class Country:\n",
        "  def __init__(self):\n",
        "    self.name=\"Bangladesh\"\n",
        "    self.continent=\"Asia\"\n",
        "    self.capital=\"Dhaka\"\n",
        "    self.fifa_ranking=187\n",
        "country = Country()\n",
        "print('Name:',country.name)\n",
        "print('Continent:',country.continent)\n",
        "print('Capital:',country.capital)\n",
        "print('Fifa Ranking:',country.fifa_ranking)\n",
        "print('===================')\n",
        "country.name = 'Belgium'\n",
        "country.continent = 'Europe'\n",
        "country.capital = 'Brussels'\n",
        "country.fifa_ranking = 1\n",
        "print('Name:',country.name)\n",
        "print('Continent:',country.continent)\n",
        "print('Capital:',country.capital)\n",
        "print('Fifa Ranking:',country.fifa_ranking)\n"
      ]
    },
    {
      "cell_type": "code",
      "execution_count": null,
      "metadata": {
        "colab": {
          "base_uri": "https://localhost:8080/"
        },
        "id": "xhHQ91p3o3UF",
        "outputId": "c5c59158-befa-46f1-b8a4-098bda0dc134"
      },
      "outputs": [
        {
          "name": "stdout",
          "output_type": "stream",
          "text": [
            "Name: Tanjiro\n",
            "Fighting Style: Water Breathing\n",
            "Knows 10 technique(s) and has killed 10 demon(s)\n",
            "===================\n",
            "Name: Zenitsu\n",
            "Fighting Style: Thunder Breathing\n",
            "Knows 1 technique(s) and has killed 4 demon(s)\n",
            "===================\n",
            "Name: Inosuke\n",
            "Fighting Style: Beast Breathing\n",
            "Knows 5 technique(s) and has killed 7 demon(s)\n",
            "===================\n",
            "Tanjiro, Zenitsu, Inosuke knows total 16 techniques\n",
            "They have killed total 21 demons\n"
          ]
        }
      ],
      "source": [
        "#task 5\n",
        "class DemonSlayer:\n",
        "  def __init__(self,a,b,c,d):\n",
        "    self.name=a\n",
        "    self.style=b\n",
        "    self.number_of_technique=c\n",
        "    self.kill=d\n",
        "\n",
        "\n",
        "tanjiro = DemonSlayer(\"Tanjiro\", \"Water Breathing\", 10, 10)\n",
        "print('Name:',tanjiro.name)\n",
        "print('Fighting Style:',tanjiro.style)\n",
        "print(f'Knows {tanjiro.number_of_technique} technique(s) and has killed {tanjiro.kill} demon(s)')\n",
        "print('===================')\n",
        "zenitsu = DemonSlayer(\"Zenitsu\", \"Thunder Breathing\", 1, 4)\n",
        "print('Name:',zenitsu.name)\n",
        "print('Fighting Style:',zenitsu.style)\n",
        "print(f'Knows {zenitsu.number_of_technique} technique(s) and has killed {zenitsu.kill} demon(s)')\n",
        "print('===================')\n",
        "inosuke = DemonSlayer(\"Inosuke\", \"Beast Breathing\", 5, 7)\n",
        "print('Name:',inosuke.name)\n",
        "print('Fighting Style:',inosuke.style)\n",
        "print(f'Knows {inosuke.number_of_technique} technique(s) and has killed {inosuke.kill} demon(s)')\n",
        "print('===================')\n",
        "print(f'{tanjiro.name}, {zenitsu.name}, {inosuke.name} knows total {tanjiro.number_of_technique + zenitsu.number_of_technique + inosuke.number_of_technique} techniques')\n",
        "print(f'They have killed total {tanjiro.kill + zenitsu.kill + inosuke.kill} demons')\n"
      ]
    },
    {
      "cell_type": "code",
      "execution_count": null,
      "metadata": {
        "colab": {
          "base_uri": "https://localhost:8080/"
        },
        "id": "EfDVf0Q5y87S",
        "outputId": "2436fd1c-5e37-403d-b6b5-0d65f33fc93a"
      },
      "outputs": [
        {
          "name": "stdout",
          "output_type": "stream",
          "text": [
            "Box 1\n",
            "Creating a Box!\n",
            "Volume of the box is 1000 cubic units\n",
            "=========================\n",
            "Height: 10\n",
            "Width: 10\n",
            "Breadth: 10\n",
            "-------------------------\n",
            "Box 2\n",
            "Creating a Box!\n",
            "Volume of the box is 3000 cubic units\n",
            "=========================\n",
            "Height: 30\n",
            "Width: 10\n",
            "Breadth: 10\n",
            "Updating Box 2!\n",
            "Height: 300\n",
            "Width: 10\n",
            "Breadth: 10\n",
            "-------------------------\n",
            "Box 3\n",
            "Height: 300\n",
            "Width: 10\n",
            "Breadth: 10\n"
          ]
        }
      ],
      "source": [
        "#task 6\n",
        "class box:\n",
        "  def __init__(self,lst):\n",
        "    self.height=lst[0]\n",
        "    self.width=lst[1]\n",
        "    self.breadth=lst[2]\n",
        "    print(\"Creating a Box!\")\n",
        "    print(f\"Volume of the box is {self.height*self.width*self.breadth} cubic units\")\n",
        "\n",
        "print(\"Box 1\")\n",
        "b1 = box([10,10,10])\n",
        "print(\"=========================\")\n",
        "print(\"Height:\", b1.height)\n",
        "print(\"Width:\", b1.width)\n",
        "print(\"Breadth:\", b1.breadth)\n",
        "print(\"-------------------------\")\n",
        "print(\"Box 2\")\n",
        "b2 = box((30,10,10))\n",
        "print(\"=========================\")\n",
        "print(\"Height:\", b2.height)\n",
        "print(\"Width:\", b2.width)\n",
        "print(\"Breadth:\", b2.breadth)\n",
        "b2.height = 300\n",
        "print(\"Updating Box 2!\")\n",
        "print(\"Height:\", b2.height)\n",
        "print(\"Width:\", b2.width)\n",
        "print(\"Breadth:\", b2.breadth)\n",
        "print(\"-------------------------\")\n",
        "print(\"Box 3\")\n",
        "b3 = b2\n",
        "print(\"Height:\", b3.height)\n",
        "print(\"Width:\", b3.width)\n",
        "print(\"Breadth:\", b3.breadth)\n"
      ]
    },
    {
      "cell_type": "code",
      "execution_count": null,
      "metadata": {
        "colab": {
          "base_uri": "https://localhost:8080/"
        },
        "id": "J_p99aXy0mpX",
        "outputId": "3d58f714-6289-4d15-f4ce-4f32f5acc8e5"
      },
      "outputs": [
        {
          "name": "stdout",
          "output_type": "stream",
          "text": [
            "CANCEL Button Specifications:\n",
            "Button name: CANCEL\n",
            "Number of the border characters for the top and the bottom: 28\n",
            "Number of spaces between the left side border and the first character of the button name: 10\n",
            "Number of spaces between the right side border and the last character of the button name: 10\n",
            "Characters representing the borders: x\n",
            "\n",
            "xxxxxxxxxxxxxxxxxxxxxxxxxxxx\n",
            "x          CANCEL          x\n",
            "xxxxxxxxxxxxxxxxxxxxxxxxxxxx\n",
            "=======================================================\n",
            "CANCEL Button Specifications:\n",
            "Button name: Notify\n",
            "Number of the border characters for the top and the bottom: 14\n",
            "Number of spaces between the left side border and the first character of the button name: 3\n",
            "Number of spaces between the right side border and the last character of the button name: 3\n",
            "Characters representing the borders: !\n",
            "\n",
            "!!!!!!!!!!!!!!\n",
            "!   Notify   !\n",
            "!!!!!!!!!!!!!!\n",
            "=======================================================\n",
            "CANCEL Button Specifications:\n",
            "Button name: SAVE PROGRESS\n",
            "Number of the border characters for the top and the bottom: 25\n",
            "Number of spaces between the left side border and the first character of the button name: 5\n",
            "Number of spaces between the right side border and the last character of the button name: 5\n",
            "Characters representing the borders: $\n",
            "\n",
            "$$$$$$$$$$$$$$$$$$$$$$$$$\n",
            "$     SAVE PROGRESS     $\n",
            "$$$$$$$$$$$$$$$$$$$$$$$$$\n"
          ]
        }
      ],
      "source": [
        "#task 7  \n",
        "class buttons:\n",
        "  def __init__(self,word,space,border):\n",
        "    self.word=word\n",
        "    self.space=space\n",
        "\n",
        "    border_no=1+self.space+len(self.word)+self.space+1\n",
        "    print(\"CANCEL Button Specifications:\")\n",
        "    print(\"Button name:\",word)\n",
        "    print(\"Number of the border characters for the top and the bottom:\",border_no)\n",
        "    print(\"Number of spaces between the left side border and the first character of the button name:\",space)\n",
        "    print(\"Number of spaces between the right side border and the last character of the button name:\",space)\n",
        "    print(\"Characters representing the borders:\",border)\n",
        "    print()\n",
        "    print(border*border_no)\n",
        "    print(border+\" \"*space+word+\" \"*space+border)\n",
        "    print(border*border_no)\n",
        "\n",
        "\n",
        "word = \"CANCEL\"  \n",
        "spaces = 10\n",
        "border = 'x'\n",
        "b1 = buttons(word, spaces, border)\n",
        "print(\"=======================================================\")\n",
        "b2 = buttons(\"Notify\",3, '!')\n",
        "print(\"=======================================================\")\n",
        "b3 = buttons('SAVE PROGRESS', 5, '$')\n",
        "\n",
        "\n",
        "    "
      ]
    },
    {
      "cell_type": "code",
      "execution_count": null,
      "metadata": {
        "colab": {
          "base_uri": "https://localhost:8080/"
        },
        "id": "EHrYEssNEZV_",
        "outputId": "83f0c6cf-54f1-4247-c07a-ee970ca2ec9b"
      },
      "outputs": [
        {
          "name": "stdout",
          "output_type": "stream",
          "text": [
            "1\n",
            "+\n",
            "1\n",
            "Lets Calculate!\n",
            "Value 1: 1\n",
            "Operator +\n",
            "Value 2: 1\n",
            "Result: 2\n"
          ]
        }
      ],
      "source": [
        "#task 8\n",
        "class Calculator:\n",
        "  def __init__(self,no_1,op,no_2):\n",
        "    self.num_1=no_1\n",
        "    self.num_2=no_2\n",
        "    self.op=op\n",
        "    print(\"Lets Calculate!\")\n",
        "\n",
        "  def add(self):\n",
        "    result=self.num_1+self.num_2\n",
        "    print(\"Value 1:\",self.num_1)\n",
        "    print(\"Operator\",self.op)\n",
        "    print(\"Value 2:\",self.num_2)\n",
        "    print(\"Result:\",result)\n",
        "\n",
        "  def subtract(self):\n",
        "    result=self.num_1-self.num_2\n",
        "    print(\"Value 1:\",self.num_1)\n",
        "    print(\"Operator\",self.op)\n",
        "    print(\"Value 2:\",self.num_2)\n",
        "    print(\"Result:\",result)  \n",
        "  \n",
        "  def multipy(self):\n",
        "    result=self.num_1*self.num_2\n",
        "    print(\"Value 1:\",self.num_1)\n",
        "    print(\"Operator\",self.op)\n",
        "    print(\"Value 2:\",self.num_2)\n",
        "    print(\"Result:\",result) \n",
        "  \n",
        "  def divide(self):\n",
        "    result=self.num_1/self.num_2\n",
        "    print(\"Value 1:\",self.num_1)\n",
        "    print(\"Operator\",self.op)\n",
        "    print(\"Value 2:\",self.num_2)\n",
        "    print(\"Result:\",result)\n",
        "\n",
        "no_1=int(input())\n",
        "op=input()\n",
        "no_2=int(input())\n",
        "cal=Calculator(no_1,op,no_2)\n",
        "if op==\"+\":\n",
        "  cal.add()\n",
        "elif op==\"-\":\n",
        "  cal.subtract()\n",
        "elif op==\"*\":\n",
        "  cal.multiply()\n",
        "elif op==\"/\":\n",
        "  cal.divide()\n"
      ]
    },
    {
      "cell_type": "code",
      "execution_count": null,
      "metadata": {
        "id": "JNCxfF4qMrF3"
      },
      "outputs": [],
      "source": [
        "#task 9\n",
        "class Patient():\n",
        "  def __init__(self,name,age,weight,height):\n",
        "    self.name=name\n",
        "    self.age=age\n",
        "    self.height=height\n",
        "    self.weight=weight\n",
        "  def printDetails(self):\n",
        "      bmi=self.weight/((self.height)/100)**2\n",
        "      print(f\"Name: {self.name}\")\n",
        "      print(f\"Age: {self.age}\")\n",
        "      print(f\"weight:{self.weight}kg\")\n",
        "      print(f\"height:{self.height}cm\")\n",
        "      print(f\"BMI:{bmi}\")\n",
        "p1 = Patient(\"A\", 55, 63.0, 158.0)\n",
        "p1.printDetails()\n",
        "print(\"====================\")\n",
        "p2 = Patient(\"B\", 53, 61.0, 149.0)\n",
        "p2.printDetails()"
      ]
    },
    {
      "cell_type": "code",
      "execution_count": null,
      "metadata": {
        "colab": {
          "base_uri": "https://localhost:8080/"
        },
        "id": "jLsgyHO6NWEC",
        "outputId": "b688a5c4-7733-4ace-a123-a52540014625"
      },
      "outputs": [
        {
          "name": "stdout",
          "output_type": "stream",
          "text": [
            "(0,0)\n",
            "(0,1)\n",
            "(-1,1)\n",
            "(-1,0)\n"
          ]
        }
      ],
      "source": [
        "#task10\n",
        "class Vehicle():\n",
        "  def __init__(self):\n",
        "    self.x=0\n",
        "    self.y=0\n",
        "  def print_position(self):\n",
        "    self.x,self.y\n",
        "  def moveUp (self):\n",
        "    self.y=self.y+1\n",
        "  def moveLeft (self):\n",
        "    self.x=self.x-1\n",
        "  def moveDown (self):\n",
        "    self.y=self.y-1\n",
        "  def moveRight (self):\n",
        "    self.x=self.x+1\n",
        "  def print_position(self):\n",
        "    print(f\"({self.x},{self.y})\")\n",
        "car = Vehicle()\n",
        "car.print_position()\n",
        "car.moveUp()\n",
        "car.print_position()\n",
        "car.moveLeft()\n",
        "car.print_position()\n",
        "car.moveDown()\n",
        "car.print_position()\n",
        "car.moveRight()"
      ]
    },
    {
      "cell_type": "code",
      "execution_count": null,
      "metadata": {
        "colab": {
          "base_uri": "https://localhost:8080/"
        },
        "id": "YOhEMEtLNxQU",
        "outputId": "f8b791e2-ad8d-47b8-9b12-d9e07526d413"
      },
      "outputs": [
        {
          "name": "stdout",
          "output_type": "stream",
          "text": [
            "Area:125.0\n",
            "==========================\n",
            "Area:100\n",
            "==========================\n",
            "Area:225.0\n",
            "==========================\n",
            "Area:450\n",
            "==========================\n",
            "Area: Shape is unknown\n"
          ]
        }
      ],
      "source": [
        "#task11\n",
        "class Shape():\n",
        "  def __init__(self,x,y,z):\n",
        "    self.x=x\n",
        "    self.y=y\n",
        "    self.z=z\n",
        "  def area(self):\n",
        "    if self.x==\"Triangle\":\n",
        "      print(f\"Area:{.5*(self.y*self.z)}\")\n",
        "    elif self.x==\"Square\":\n",
        "      print(f\"Area:{self.y*self.z}\")\n",
        "    elif self.x==\"Rhombus\":\n",
        "      print(f\"Area:{.5*(self.y*self.z)}\")\n",
        "    elif self.x==\"Rectangle\":\n",
        "      print(f\"Area:{self.y*self.z}\")\n",
        "    elif self.x==\"Trapezium\":\n",
        "      print(f\"Area: Shape is unknown\")\n",
        "triangle = Shape(\"Triangle\",10,25)\n",
        "triangle.area()\n",
        "print(\"==========================\")\n",
        "square = Shape(\"Square\",10,10)\n",
        "square.area()\n",
        "print(\"==========================\")\n",
        "rhombus = Shape(\"Rhombus\",18,25)\n",
        "rhombus.area()\n",
        "print(\"==========================\")\n",
        "rectangle = Shape(\"Rectangle\",15,30)\n",
        "rectangle.area()\n",
        "print(\"==========================\")\n",
        "trapezium = Shape(\"Trapezium\",15,30)\n",
        "trapezium.area()"
      ]
    },
    {
      "cell_type": "code",
      "execution_count": null,
      "metadata": {
        "colab": {
          "base_uri": "https://localhost:8080/"
        },
        "id": "yectIr-NN5Mu",
        "outputId": "ff6f0a17-0d3a-4a66-987b-8e6b8bd1494d"
      },
      "outputs": [
        {
          "name": "stdout",
          "output_type": "stream",
          "text": [
            "Caculation ready\n",
            "==================\n",
            "Returned value: 30\n",
            "10 + 20 = 30\n",
            "==================\n",
            "Returned value: 20\n",
            "30 - 10 = 20\n",
            "==================\n",
            "Returned value: 100\n",
            "20 * 5 = 100\n",
            "==================\n",
            "Returned value: 6.25\n",
            "100 / 16 = 6.25\n"
          ]
        }
      ],
      "source": [
        "#task12\n",
        "class Calculator():\n",
        "  def __init__(self):\n",
        "    print(\"Caculation ready\")\n",
        "  def calculate (self,num1,num2,opr):\n",
        "    self.num1=num1\n",
        "    self.num2=num2\n",
        "    self.opr=opr\n",
        "    if opr==\"+\":\n",
        "      self.s=num1+num2\n",
        "      return self.s\n",
        "    elif opr==\"-\":\n",
        "      self.s=num1-num2\n",
        "      return self.s\n",
        "    elif opr==\"*\":\n",
        "      self.s=num1*num2\n",
        "      return self.s\n",
        "    elif opr==\"/\":\n",
        "      self.s=num1/num2\n",
        "      return self.s\n",
        "  def showCalculation(self):\n",
        "      print(self.num1,self.opr,self.num2,\"=\",self.s)\n",
        "c1 = Calculator()\n",
        "print(\"==================\")\n",
        "val = c1.calculate(10, 20, '+')\n",
        "print(\"Returned value:\", val)\n",
        "c1.showCalculation()\n",
        "print(\"==================\")\n",
        "val = c1.calculate(val, 10, '-')\n",
        "print(\"Returned value:\", val)\n",
        "c1.showCalculation()\n",
        "print(\"==================\")\n",
        "val = c1.calculate(val, 5, '*')\n",
        "print(\"Returned value:\", val)\n",
        "c1.showCalculation()\n",
        "print(\"==================\")\n",
        "val = c1.calculate(val, 16, '/')\n",
        "print(\"Returned value:\", val)\n",
        "c1.showCalculation()"
      ]
    },
    {
      "cell_type": "code",
      "execution_count": null,
      "metadata": {
        "colab": {
          "base_uri": "https://localhost:8080/"
        },
        "id": "q2V2lToXOBA-",
        "outputId": "205e08e3-531d-438b-8932-98abc2569f3e"
      },
      "outputs": [
        {
          "name": "stdout",
          "output_type": "stream",
          "text": [
            "Horray! A new programmer is born\n",
            "Name:Ethen Hunt\n",
            "Language: Java\n",
            "Experience: 10 years.\n",
            "--------------------------\n",
            "Horray! A new programmer is born\n",
            "Name:James Bond\n",
            "Language: C++\n",
            "Experience: 7 years.\n",
            "--------------------------\n",
            "Horray! A new programmer is born\n",
            "Name:Jon Snow\n",
            "Language: Python\n",
            "Experience: 4 years.\n",
            "Updating experience of Jon Snow\n",
            "Name:Jon Snow\n",
            "Language: Python\n",
            "Experience: 9 years.\n"
          ]
        }
      ],
      "source": [
        "#task13\n",
        "class Programmer():\n",
        "  def __init__(self,name,lang,ex):\n",
        "    self.name=name\n",
        "    self.lang=lang\n",
        "    self.experience=ex\n",
        "    print(\"Horray! A new programmer is born\")\n",
        "  def addExp(self,x):\n",
        "    print(\"Updating experience of Jon Snow\")\n",
        "    self.experience=self.experience+x\n",
        "  def printDetails(self):\n",
        "    print(f\"Name:{self.name}\")\n",
        "    print(f\"Language: {self.lang}\")\n",
        "    print(f\"Experience: {self.experience} years.\")\n",
        "\n",
        "p1 = Programmer(\"Ethen Hunt\", \"Java\", 10)\n",
        "p1.printDetails()\n",
        "print('--------------------------')\n",
        "p2 = Programmer(\"James Bond\", \"C++\", 7)\n",
        "p2.printDetails()\n",
        "print('--------------------------')\n",
        "p3 = Programmer(\"Jon Snow\", \"Python\", 4)\n",
        "p3.printDetails()\n",
        "p3.addExp(5)\n",
        "p3.printDetails()    \n"
      ]
    }
  ],
  "metadata": {
    "colab": {
      "provenance": []
    },
    "kernelspec": {
      "display_name": "Python 3",
      "name": "python3"
    },
    "language_info": {
      "name": "python"
    }
  },
  "nbformat": 4,
  "nbformat_minor": 0
}
