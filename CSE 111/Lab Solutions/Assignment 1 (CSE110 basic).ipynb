{
  "cells": [
    {
      "attachments": {},
      "cell_type": "markdown",
      "metadata": {
        "id": "bFvsvSxsM2HB"
      },
      "source": [
        "# **WEEK 1**"
      ]
    },
    {
      "cell_type": "code",
      "execution_count": null,
      "metadata": {
        "colab": {
          "base_uri": "https://localhost:8080/"
        },
        "id": "FyLFoDMjXXfR",
        "outputId": "a9a60397-ff31-4c5e-be31-2ad63b02dfb9"
      },
      "outputs": [
        {
          "name": "stdout",
          "output_type": "stream",
          "text": [
            "ApplE\n",
            "apple\n"
          ]
        }
      ],
      "source": [
        "#task 1\n",
        "string=input()\n",
        "lower_case = \"\"\n",
        "upper_case = \"\"\n",
        "for char in string:\n",
        "    if ord(char) >= 65 and ord(char) <= 90:\n",
        "        upper_case += char\n",
        "    else:                     \n",
        "        lower_case += char \n",
        "total_lower = len(lower_case)\n",
        "total_upper = len(upper_case)\n",
        "if total_upper > total_lower:\n",
        "  print(string.upper())\n",
        "else:\n",
        "  print(string.lower())"
      ]
    },
    {
      "cell_type": "code",
      "execution_count": null,
      "metadata": {
        "colab": {
          "base_uri": "https://localhost:8080/"
        },
        "id": "W5r6paH_Xm2P",
        "outputId": "8c24d30a-8278-4620-9ec9-136718fb8e92"
      },
      "outputs": [
        {
          "name": "stdout",
          "output_type": "stream",
          "text": [
            "Hello\n",
            "WORD\n"
          ]
        }
      ],
      "source": [
        "#task 2\n",
        "x=input()\n",
        "word=0\n",
        "num=0\n",
        "for i in x:\n",
        "  if 65<=ord(i)<=122:\n",
        "    word=1\n",
        "  elif 48<=ord(i)<=57:\n",
        "    num=1\n",
        "if word==1 and num!=1:\n",
        "  print(\"WORD\")\n",
        "elif word!=1 and num==1:\n",
        "  print(\"NUMBER\")\n",
        "elif word==1 and num==1:\n",
        "  print(\"MIXED\")"
      ]
    },
    {
      "cell_type": "code",
      "execution_count": null,
      "metadata": {
        "colab": {
          "base_uri": "https://localhost:8080/"
        },
        "id": "VvFTS9obZ4Ho",
        "outputId": "b1b03ca4-c5f2-41fd-d906-59a11e911907"
      },
      "outputs": [
        {
          "name": "stdout",
          "output_type": "stream",
          "text": [
            "coDIng\n",
            "BLANK\n"
          ]
        }
      ],
      "source": [
        "#task 3\n",
        "x=input()\n",
        "up=[]\n",
        "for i in x:\n",
        "  if 65<=ord(i)<=90:\n",
        "    up.append(i)\n",
        "start=x.index(up[0])\n",
        "end=x.index(up[1])\n",
        "if start-end==-1:\n",
        "  print(\"BLANK\")\n",
        "else:\n",
        "  print(x[start+1:end])"
      ]
    },
    {
      "cell_type": "code",
      "execution_count": null,
      "metadata": {
        "colab": {
          "base_uri": "https://localhost:8080/"
        },
        "id": "i2aNZ-vUdOGj",
        "outputId": "2afffadd-fb60-45a8-f3a1-f267cc6e3fda"
      },
      "outputs": [
        {
          "name": "stdout",
          "output_type": "stream",
          "text": [
            "dean, tom\n",
            "Nothing in common.\n"
          ]
        }
      ],
      "source": [
        "#task 4\n",
        "x=input().split(\", \")\n",
        "st1=x[0]\n",
        "st2=x[1]\n",
        "cm_list=[]\n",
        "flag=0\n",
        "for i in st1:\n",
        "  if i in st2:\n",
        "    cm_list.append(i)\n",
        "    flag=1\n",
        "  continue\n",
        "  flag=0\n",
        "for i in st2:\n",
        "  if i in st1:\n",
        "    cm_list.append(i)\n",
        "    flag=1\n",
        "  continue\n",
        "  flag=0\n",
        "if flag ==0:\n",
        "  print(\"Nothing in common.\")\n",
        "else:\n",
        "  y=\"\"\n",
        "  for j in cm_list:\n",
        "    y=y+j\n",
        "  print(y)"
      ]
    },
    {
      "cell_type": "code",
      "execution_count": null,
      "metadata": {
        "colab": {
          "base_uri": "https://localhost:8080/"
        },
        "id": "0dKlqnVof1hP",
        "outputId": "ffac16b5-2c47-4bf3-e171-a4b563e79982"
      },
      "outputs": [
        {
          "name": "stdout",
          "output_type": "stream",
          "text": [
            "ohmybracu\n",
            "Uppercase Missing, Digit Missing, Special Missing"
          ]
        }
      ],
      "source": [
        "#task 5\n",
        "x= input()\n",
        "lw=0\n",
        "uw=0\n",
        "d=0\n",
        "sc=0\n",
        "for i in x:\n",
        "  if 97<=ord(i)<=122:\n",
        "    lw=1\n",
        "  elif 65<=ord(i)<=90:\n",
        "    uw=1\n",
        "  elif 48<=ord(i)<=57:\n",
        "    d=1\n",
        "  elif i==\"_\" or i==\"$\" or i==\"#\" or i==\"@\":\n",
        "    sc=1\n",
        "if lw==1 and uw==1 and d==1 and sc==1:\n",
        "  print(\"OK\")\n",
        "else: \n",
        "  l=[] \n",
        "  if lw==0:\n",
        "    l.append(\"Lowercase Missing\")\n",
        "  if uw==0:\n",
        "    l.append(\"Uppercase Missing\")\n",
        "  if d==0:\n",
        "    l.append(\"Digit Missing\")\n",
        "  if sc==0:\n",
        "    l.append(\"Special Missing\")\n",
        "  for i in l :\n",
        "    if i==l[-1]:\n",
        "      print(i,end=\"\")\n",
        "    else:\n",
        "      print(i, end=\", \")"
      ]
    },
    {
      "attachments": {},
      "cell_type": "markdown",
      "metadata": {
        "id": "04yaQfcznQwy"
      },
      "source": [
        "### **LIST**\n",
        "\n"
      ]
    },
    {
      "cell_type": "code",
      "execution_count": null,
      "metadata": {
        "colab": {
          "base_uri": "https://localhost:8080/"
        },
        "id": "MlIfViQnlbUc",
        "outputId": "9897615a-99a1-49b4-c1f0-29bc471f25a8"
      },
      "outputs": [
        {
          "name": "stdout",
          "output_type": "stream",
          "text": [
            "10\n",
            "20\n",
            "0\n",
            "20\n",
            "30\n",
            "10\n",
            "50\n",
            "90\n",
            "STOP\n",
            "10-2 times\n",
            "20-2 times\n",
            "0-1 times\n",
            "30-1 times\n",
            "50-1 times\n",
            "90-1 times\n"
          ]
        }
      ],
      "source": [
        "#task 1\n",
        "l=[]\n",
        "nl=[]\n",
        "while True:\n",
        "  x= input()\n",
        "  if x==\"STOP\":\n",
        "    break\n",
        "  else:\n",
        "    l.append(int(x))\n",
        "for i in l:\n",
        " if i not in nl:\n",
        "   nl.append(i) \n",
        "for j in nl:\n",
        "  f=0\n",
        "  for k in l:\n",
        "    if j==k:\n",
        "      f+=1\n",
        "  print(f\"{j}-{f} times\") \n"
      ]
    },
    {
      "cell_type": "code",
      "execution_count": null,
      "metadata": {
        "colab": {
          "base_uri": "https://localhost:8080/"
        },
        "id": "BRwMaQ8Sq0o_",
        "outputId": "c68f55b5-675c-490c-982e-4057d2e745f4"
      },
      "outputs": [
        {
          "name": "stdout",
          "output_type": "stream",
          "text": [
            "4\n",
            "1 2 3\n",
            "4 5 6\n",
            "10 11 12\n",
            "7 8 9\n",
            "33\n",
            "[10, 11, 12]\n"
          ]
        }
      ],
      "source": [
        "#TASK 2\n",
        "n=int(input())\n",
        "count=0\n",
        "sum=0\n",
        "pv_sum=0\n",
        "pv_l=[]\n",
        "final=[]\n",
        "while count<n:\n",
        "  x= input().split(\" \")\n",
        "  for i in x:\n",
        "    sum=sum+int(i)\n",
        "  if sum>pv_sum:\n",
        "    pv_sum=sum\n",
        "    pv_l=x\n",
        "    sum=0\n",
        "  count+=1\n",
        "print(pv_sum)\n",
        "for i in pv_l:\n",
        "  final.append(int(i))\n",
        "print(final)\n"
      ]
    },
    {
      "cell_type": "code",
      "execution_count": null,
      "metadata": {
        "colab": {
          "base_uri": "https://localhost:8080/"
        },
        "id": "ZCDFlOwME7Xw",
        "outputId": "6dc83260-adad-41a4-91f8-832cd355792c"
      },
      "outputs": [
        {
          "name": "stdout",
          "output_type": "stream",
          "text": [
            "2 3 6\n",
            "3 4 5\n",
            "[6, 8, 10, 9, 12, 15, 18, 24, 30]\n"
          ]
        }
      ],
      "source": [
        "#task 3\n",
        "x=input().split(\" \")\n",
        "y=input().split(\" \")\n",
        "l=[]\n",
        "for i in x:\n",
        "  for j in y:\n",
        "    l.append(int(i)*int(j))\n",
        "print(l)"
      ]
    },
    {
      "cell_type": "code",
      "execution_count": null,
      "metadata": {
        "colab": {
          "base_uri": "https://localhost:8080/"
        },
        "id": "6d99TCf9tw40",
        "outputId": "91979823-0dbc-4c84-d3d6-b2a14bd68f6b"
      },
      "outputs": [
        {
          "name": "stdout",
          "output_type": "stream",
          "text": [
            "1 4 2 3\n",
            "UB Jumper\n",
            "1 4 2 -1 6\n",
            "Not UB Jumper\n",
            "STOP\n"
          ]
        }
      ],
      "source": [
        "#task 4\n",
        "while True:\n",
        "  x=input()\n",
        "  if x==\"STOP\":\n",
        "    break\n",
        "  x=x.split(\" \")\n",
        "  l=[]\n",
        "  for i in x:\n",
        "    l.append(int(i))\n",
        "  n=len(l)\n",
        "  flag=1\n",
        "  for j in range (len(l)-1):\n",
        "    dif=l[j]-l[j+1]\n",
        "    if dif <0:\n",
        "      dif=dif*-1\n",
        "      if dif>len(l):\n",
        "        print(\"Not UB Jumper\")\n",
        "        flag=0\n",
        "        break\n",
        "    else:\n",
        "      if dif<=len(l):\n",
        "        flag=1\n",
        "  if flag==1:\n",
        "    print(\"UB Jumper\")"
      ]
    },
    {
      "cell_type": "code",
      "execution_count": null,
      "metadata": {
        "colab": {
          "base_uri": "https://localhost:8080/"
        },
        "id": "Gy4zrNbdDphT",
        "outputId": "3f03ca12-5857-43e9-cb97-194d6aa59ef7"
      },
      "outputs": [
        {
          "name": "stdout",
          "output_type": "stream",
          "text": [
            "6 4\n",
            "1 2 3 5 4 0\n",
            "0\n",
            "[5, 4]\n"
          ]
        }
      ],
      "source": [
        "#task 5\n",
        "n,k=input().split(\" \")\n",
        "n=int(n)\n",
        "k=int(k)\n",
        "y=input().split(\" \")\n",
        "l=[]\n",
        "for i in y:\n",
        "  i=int(i)+k\n",
        "  if int(i)<=5:\n",
        "    l.append(int(i))\n",
        "print(len(l)//3)\n",
        "print(l)"
      ]
    },
    {
      "cell_type": "code",
      "execution_count": null,
      "metadata": {
        "colab": {
          "base_uri": "https://localhost:8080/"
        },
        "id": "PIqoUQN5H_Gy",
        "outputId": "d9d9f1ca-4c2c-4e0a-8853-f844d8b2e9a5"
      },
      "outputs": [
        {
          "name": "stdout",
          "output_type": "stream",
          "text": [
            "0\n"
          ]
        }
      ],
      "source": [
        "print(2//3)"
      ]
    },
    {
      "attachments": {},
      "cell_type": "markdown",
      "metadata": {
        "id": "KOYNNcKR9jKA"
      },
      "source": [
        "# **Dictionary & Tuple**"
      ]
    },
    {
      "cell_type": "code",
      "execution_count": null,
      "metadata": {
        "colab": {
          "base_uri": "https://localhost:8080/"
        },
        "id": "xS_G6Rjf9wbo",
        "outputId": "62f0cac4-2334-4bd0-eaa9-267676b73903"
      },
      "outputs": [
        {
          "name": "stdout",
          "output_type": "stream",
          "text": [
            "1st dictionary: a: 100, b: 100, c: 200, d: 300\n",
            "2nd dictionary: a: 300, b: 200, d: 400, e: 200\n",
            "{'a': 400, 'b': 300, 'c': 200, 'd': 700, 'e': 200}\n",
            "Values: (200, 300, 400, 700)\n"
          ]
        }
      ],
      "source": [
        "#task 1\n",
        "dic1=input(\"1st dictionary: \").split(\", \")\n",
        "dic2=input(\"2nd dictionary: \").split(\", \")\n",
        "d1={}\n",
        "d2={}\n",
        "d={}\n",
        "t=()\n",
        "for i in dic1:\n",
        "  d1[i[0:1]]=int(i[3:])\n",
        "for i in dic2:\n",
        "  d2[i[0:1]]=int(i[3:])\n",
        "for i in d1:\n",
        "  if i in d2:\n",
        "    d[i]=d1[i]+d2[i]\n",
        "  else:\n",
        "    d[i]=d1[i]\n",
        "for i in d2:\n",
        "  if i not in d:\n",
        "    d[i]=d2[i]\n",
        "print(d)\n",
        "for i in d.values():\n",
        "  if i not in t:\n",
        "    t=t+(i,)\n",
        "print(\"Values:\",tuple(sorted(t)))\n"
      ]
    },
    {
      "cell_type": "code",
      "execution_count": null,
      "metadata": {
        "colab": {
          "base_uri": "https://localhost:8080/"
        },
        "id": "ICBJjBUcRGsY",
        "outputId": "a46f15c8-6e38-4114-fa36-09c14bba1683"
      },
      "outputs": [
        {
          "name": "stdout",
          "output_type": "stream",
          "text": [
            "Frequency: 10\n",
            "Frequency: 20\n",
            "Frequency: 20\n",
            "Frequency: 30\n",
            "Frequency: 10\n",
            "Frequency: 0\n",
            "Frequency: 50\n",
            "Frequency: 90\n",
            "Frequency: STOP\n",
            "10 - 2 times\n",
            "20 - 2 times\n",
            "30 - 1 times\n",
            "0 - 1 times\n",
            "50 - 1 times\n",
            "90 - 1 times\n"
          ]
        }
      ],
      "source": [
        "#task 2\n",
        "d={}\n",
        "while True:\n",
        "  x=input(\"Frequency: \")\n",
        "  if x==\"STOP\":\n",
        "    break\n",
        "  elif x not in d:\n",
        "    d[x]=1\n",
        "  elif x in d:\n",
        "    d[x]=int(d[x])+1\n",
        "for i in d:\n",
        "  print(f\"{int(i)} - {d[i]} times\")  "
      ]
    },
    {
      "cell_type": "code",
      "execution_count": null,
      "metadata": {
        "colab": {
          "base_uri": "https://localhost:8080/"
        },
        "id": "rIYGZ1MClRC2",
        "outputId": "08f98c2e-768f-4834-d456-0f2b641c80ab"
      },
      "outputs": [
        {
          "name": "stdout",
          "output_type": "stream",
          "text": [
            "key1:value1, key2:value2, key3:value1\n",
            "{'value1': ['key1', 'key3'], 'value2': ['key2']}\n"
          ]
        }
      ],
      "source": [
        "#task 3\n",
        "x= input().split(\",\")\n",
        "old_dict = {}\n",
        "for i in x:\n",
        "  i=i.strip()\n",
        "  old_dict[i[0:i.index(\":\")]]= i[i.index(\":\")+1:]\n",
        "new_dict={}\n",
        "for i,j in old_dict.items():\n",
        "  if j not in new_dict:\n",
        "    new_dict[j]=[i]\n",
        "  else:\n",
        "    new_dict[j].append(i)\n",
        "print(new_dict)"
      ]
    },
    {
      "cell_type": "code",
      "execution_count": null,
      "metadata": {
        "colab": {
          "base_uri": "https://localhost:8080/"
        },
        "id": "UcZsh7SNsarv",
        "outputId": "69b9c17d-4bdd-47ed-d70d-2859124afb0e"
      },
      "outputs": [
        {
          "name": "stdout",
          "output_type": "stream",
          "text": [
            "Hello, World!\n",
            "4433555555666110966677755531111"
          ]
        }
      ],
      "source": [
        "#task 4\n",
        "user_input = input().upper()\n",
        "key_map = {\n",
        "    \".\": 1, \",\": 11, \"?\": 111, \"!\": 1111, \":\": 11111,\n",
        "    \"A\": 2, \"B\": 22, \"C\": 222,\n",
        "    \"D\": 3, \"E\": 33, \"F\": 333,\n",
        "    \"G\": 4, \"H\": 44, \"I\": 444,\n",
        "    \"J\": 5, \"K\": 55, \"L\": 555,\n",
        "    \"M\": 6, \"N\": 66, \"O\": 666,\n",
        "    \"P\": 7, \"Q\": 77, \"R\": 777, \"S\": 7777,\n",
        "    \"T\": 8, \"U\": 88, \"V\": 888,\n",
        "    \"W\": 9, \"X\": 99, \"Y\": 999, \"Z\": 9999,\n",
        "    \" \": 0}\n",
        "for char in user_input:\n",
        "    key = key_map[char]\n",
        "    print(key, end=\"\")"
      ]
    },
    {
      "attachments": {},
      "cell_type": "markdown",
      "metadata": {
        "id": "8kr5dJ0mznSv"
      },
      "source": [
        "# **Functions**"
      ]
    },
    {
      "cell_type": "code",
      "execution_count": null,
      "metadata": {
        "id": "41-Ww5K0zmz9"
      },
      "outputs": [],
      "source": [
        "#task 1\n",
        "def bmi(a,b):\n",
        "  BMI= a/b**2\n",
        "  if BMI<18.5:\n",
        "    s=f\"Score is {BMI}. You are Obese\"\n",
        "  elif 18.5<BMI<24.9:\n",
        "    s=f\"Score is {BMI}. You are Normal\"\n",
        "  elif 25<BMI<"
      ]
    }
  ],
  "metadata": {
    "colab": {
      "provenance": []
    },
    "kernelspec": {
      "display_name": "Python 3",
      "name": "python3"
    },
    "language_info": {
      "name": "python"
    }
  },
  "nbformat": 4,
  "nbformat_minor": 0
}
