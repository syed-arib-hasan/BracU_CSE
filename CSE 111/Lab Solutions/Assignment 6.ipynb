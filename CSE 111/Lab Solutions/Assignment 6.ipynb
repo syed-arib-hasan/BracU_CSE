{
  "cells": [
    {
      "attachments": {},
      "cell_type": "markdown",
      "metadata": {
        "id": "kUfM8gywpjcQ"
      },
      "source": [
        "# **WEEK 6**"
      ]
    },
    {
      "cell_type": "code",
      "execution_count": null,
      "metadata": {
        "colab": {
          "base_uri": "https://localhost:8080/"
        },
        "id": "PpVsR7D6mb2B",
        "outputId": "4e64b17a-04db-4bc9-8da9-ca116673027d"
      },
      "outputs": [
        {
          "name": "stdout",
          "output_type": "stream",
          "text": [
            "ID: 1 \n",
            "Name: Samin \n",
            "Department: CSE \n",
            "Age: 21 \n",
            "CGPA: 3.91\n",
            "-----------------------\n",
            "ID: 2 \n",
            "Name: Fahim \n",
            "Department: ECE \n",
            "Age: 21 \n",
            "CGPA: 3.85\n",
            "-----------------------\n",
            "ID: 3 \n",
            "Name: Tahura \n",
            "Department: EEE \n",
            "Age: 22 \n",
            "CGPA: 3.01\n",
            "-----------------------\n",
            "ID: 4 \n",
            "Name: Sumaiya \n",
            "Department: BBA \n",
            "Age: 23 \n",
            "CGPA: 3.96\n"
          ]
        }
      ],
      "source": [
        "#task 1\n",
        "class Student:\n",
        "  ID=0\n",
        "  def __init__(self,name,dept,age,cg):\n",
        "    self.n=name\n",
        "    self.dept=dept\n",
        "    self.age=age\n",
        "    self.cg=cg\n",
        "    Student.ID+=1\n",
        "\n",
        "  def showDetails(self):\n",
        "    print(f\"ID: {Student.ID} \\nName: {self.n} \\nDepartment: {self.dept} \\nAge: {self.age} \\nCGPA: {self.cg}\")\n",
        "\n",
        "  \n",
        "  @classmethod\n",
        "  def from_String(cls,info):\n",
        "    temp=info.split(\"-\")\n",
        "    return cls(temp[0],temp[1],temp[2],temp[3])\n",
        "\n",
        "\n",
        "s1 = Student(\"Samin\", \"CSE\", 21, 3.91)\n",
        "s1.showDetails()\n",
        "print(\"-----------------------\")\n",
        "s2 = Student(\"Fahim\", \"ECE\", 21, 3.85)\n",
        "s2.showDetails()\n",
        "print(\"-----------------------\")\n",
        "s3 = Student(\"Tahura\", \"EEE\", 22, 3.01)\n",
        "s3.showDetails() \n",
        "print(\"-----------------------\")\n",
        "s4 = Student.from_String(\"Sumaiya-BBA-23-3.96\")\n",
        "s4.showDetails() \n"
      ]
    },
    {
      "cell_type": "code",
      "execution_count": null,
      "metadata": {
        "colab": {
          "base_uri": "https://localhost:8080/"
        },
        "id": "0ESgDovhpg6Y",
        "outputId": "d98d6e5f-f830-4a06-b004-015ce0a82efa"
      },
      "outputs": [
        {
          "name": "stdout",
          "output_type": "stream",
          "text": [
            "Name: John Wick \n",
            "Success rate: 100% \n",
            "Total number of Assassin: 1\n",
            "================================\n",
            "Name: Nagisa \n",
            "Success rate: 80% \n",
            "Total number of Assassin: 2\n",
            "================================\n",
            "Name: Akabane \n",
            "Success rate: 90% \n",
            "Total number of Assassin: 3\n"
          ]
        }
      ],
      "source": [
        "#task 2\n",
        "class Assassin:\n",
        "  total_assa=0\n",
        "  def __init__(self,name,s_rate):\n",
        "    self.n=name\n",
        "    self.s_rate=s_rate\n",
        "    Assassin.total_assa+=1\n",
        "\n",
        "  def printDetails(self):\n",
        "    print(f\"Name: {self.n} \\nSuccess rate: {self.s_rate}% \\nTotal number of Assassin: {Assassin.total_assa}\")\n",
        "  \n",
        "  @classmethod\n",
        "  def failureRate (cls,name,rate):\n",
        "    return cls(name,(100-rate))\n",
        "\n",
        "  @classmethod\n",
        "  def failurePercentage(cls,name,per):\n",
        "    return cls(name,100-int(per[:-1]))\n",
        "\n",
        "john_wick = Assassin('John Wick', 100)\n",
        "john_wick.printDetails()\n",
        "print('================================')\n",
        "nagisa = Assassin.failureRate(\"Nagisa\", 20)\n",
        "nagisa.printDetails()\n",
        "print('================================')\n",
        "akabane = Assassin.failurePercentage(\"Akabane\", \"10%\")\n",
        "akabane.printDetails()\n"
      ]
    },
    {
      "cell_type": "code",
      "execution_count": null,
      "metadata": {
        "colab": {
          "base_uri": "https://localhost:8080/"
        },
        "id": "X2917DqiSugb",
        "outputId": "1f9def6e-18d0-4c77-f9fe-fc5a1711b2dd"
      },
      "outputs": [
        {
          "name": "stdout",
          "output_type": "stream",
          "text": [
            "Total Passenger: 0\n",
            "=========================\n",
            "Name: Jack \n",
            "Bus Fare: 550\n",
            "=========================\n",
            "Name: Carol \n",
            "Bus Fare: 450\n",
            "=========================\n",
            "Name: Mike \n",
            "Bus Fare: 500\n",
            "=========================\n",
            "Total Passenger: 3\n"
          ]
        }
      ],
      "source": [
        "#task 3\n",
        "class Passenger:\n",
        "  count=0\n",
        "  def __init__(self,n):\n",
        "    self.name=n\n",
        "    self.fare=0\n",
        "    Passenger.count+=1\n",
        "\n",
        "  def set_bag_weight(self,w):\n",
        "    if w<=20:\n",
        "      self.fare=450\n",
        "    elif 21<=w<=50:\n",
        "      self.fare=500\n",
        "    elif w>50:\n",
        "      self.fare=550\n",
        "  \n",
        "  def printDetail(self):\n",
        "    print(f\"Name: {self.name} \\nBus Fare: {self.fare}\")\n",
        "\n",
        "\n",
        "print('Total Passenger:', Passenger.count)\n",
        "p1 = Passenger('Jack')\n",
        "p1.set_bag_weight(90)\n",
        "p2 = Passenger('Carol')\n",
        "p2.set_bag_weight(10)\n",
        "p3 = Passenger('Mike')\n",
        "p3.set_bag_weight(25)\n",
        "print(\"=========================\")\n",
        "p1.printDetail()\n",
        "print(\"=========================\")\n",
        "p2.printDetail()\n",
        "print(\"=========================\")\n",
        "p3.printDetail()\n",
        "print(\"=========================\")\n",
        "print('Total Passenger:', Passenger.count)\n"
      ]
    },
    {
      "cell_type": "code",
      "execution_count": null,
      "metadata": {
        "colab": {
          "base_uri": "https://localhost:8080/"
        },
        "id": "h4phKPLXUiwv",
        "outputId": "e33bf28b-a449-4ad4-bed8-3a5366d13fae"
      },
      "outputs": [
        {
          "name": "stdout",
          "output_type": "stream",
          "text": [
            "No. of Traveller = 0\n",
            "=======================\n",
            "Source: Dhaka \n",
            "Destination: India \n",
            "Flight Time: 1:00\n",
            "=======================\n",
            "Source: Kuala Lampur \n",
            "Destination: Dhaka \n",
            "Flight Time: 23:00\n",
            "=======================\n",
            "Source: Dhaka \n",
            "Destination: Germany \n",
            "Flight Time: 15:00\n",
            "=======================\n",
            "Source: Malaysia \n",
            "Destination: Canada \n",
            "Flight Time: 9:00\n",
            "=======================\n",
            "No. of Traveller = 4\n"
          ]
        }
      ],
      "source": [
        "#task 4\n",
        "class Travel:\n",
        "  count=0\n",
        "  def __init__(self,s,d):\n",
        "    self.source=s\n",
        "    self.des=d\n",
        "    self.time=\"1:00\"\n",
        "    Travel.count+=1\n",
        "\n",
        "  def set_time(self,t):\n",
        "    self.time=str(t)+\":00\"\n",
        "\n",
        "  def set_destination(self,d):\n",
        "    self.des=d\n",
        "  def set_source(self,s):\n",
        "    self.source=s\n",
        "\n",
        "  def display_travel_info(self):\n",
        "    return(f\"Source: {self.source} \\nDestination: {self.des} \\nFlight Time: {self.time}\")\n",
        "\n",
        "\n",
        "print('No. of Traveller =', Travel.count)\n",
        "print(\"=======================\")\n",
        "t1 = Travel(\"Dhaka\",\"India\")\n",
        "print(t1.display_travel_info())\n",
        "print(\"=======================\")\n",
        "t2 = Travel(\"Kuala Lampur\",\"Dhaka\")\n",
        "t2.set_time(23)\n",
        "print(t2.display_travel_info())\n",
        "print(\"=======================\")\n",
        "t3 = Travel(\"Dhaka\",\"New_Zealand\")\n",
        "t3.set_time(15)\n",
        "t3.set_destination(\"Germany\")\n",
        "print(t3.display_travel_info())\n",
        "print(\"=======================\")\n",
        "t4 = Travel(\"Dhaka\",\"India\")\n",
        "t4.set_time(9)\n",
        "t4.set_source(\"Malaysia\")\n",
        "t4.set_destination(\"Canada\")\n",
        "print(t4.display_travel_info())\n",
        "print(\"=======================\")\n",
        "print('No. of Traveller =', Travel.count)"
      ]
    },
    {
      "cell_type": "code",
      "execution_count": null,
      "metadata": {
        "colab": {
          "base_uri": "https://localhost:8080/"
        },
        "id": "qDYwmvxhr2QH",
        "outputId": "4ce0a155-5930-40d3-bbe1-105fcbbe5fbb"
      },
      "outputs": [
        {
          "name": "stdout",
          "output_type": "stream",
          "text": [
            "3\n",
            "6\n",
            "Dororo\n",
            "Harry\n",
            "He is not experienced\n",
            "She is experienced\n"
          ]
        }
      ],
      "source": [
        "#task 5\n",
        "class Employee:\n",
        "  def __init__(self,name,wp):\n",
        "    self.name=name\n",
        "    self.workingPeriod=wp\n",
        "\n",
        "  @classmethod\n",
        "  def employeeByJoiningYear(cls,name,year):\n",
        "    return cls(name,2022-year)\n",
        "\n",
        "  @staticmethod\n",
        "  def experienceCheck(y,g):\n",
        "    if y>2 and g==\"male\":\n",
        "      return(\"He is experienced\")\n",
        "    elif y<3 and g==\"male\":\n",
        "      return(\"He is not experienced\")\n",
        "    elif y>2 and g==\"female\":\n",
        "      return(\"She is experienced\")\n",
        "    elif y<3 and g==\"female\":\n",
        "      return(\"She is experienced\")\n",
        "\n",
        "\n",
        "employee1 = Employee('Dororo', 3)\n",
        "employee2 = Employee.employeeByJoiningYear('Harry', 2016)\n",
        "print(employee1.workingPeriod)\n",
        "print(employee2.workingPeriod)\n",
        "print(employee1.name)\n",
        "print(employee2.name)\n",
        "print(Employee.experienceCheck(2, \"male\"))\n",
        "print(Employee.experienceCheck(3, \"female\"))\n"
      ]
    },
    {
      "cell_type": "code",
      "execution_count": null,
      "metadata": {
        "colab": {
          "base_uri": "https://localhost:8080/"
        },
        "id": "45n6XFmxbsuE",
        "outputId": "763bdb75-5137-47b7-8dfc-25fd2efeb6d3"
      },
      "outputs": [
        {
          "name": "stdout",
          "output_type": "stream",
          "text": [
            "Lenovo 5\n",
            "Dell 7\n",
            "Total number of Laptops 12\n",
            "Laptops are portable\n",
            "Total number of Laptops 0\n"
          ]
        }
      ],
      "source": [
        "#task6\n",
        "class Laptop:\n",
        "  laptopCount=0\n",
        "  def __init__(self,name,count):\n",
        "    self.name=name\n",
        "    self.count=count\n",
        "    Laptop.laptopCount+=count\n",
        "\n",
        "  @classmethod\n",
        "  def advantage(cls):\n",
        "    print(\"Laptops are portable\")\n",
        "\n",
        "  @classmethod\n",
        "  def resetCount(cls):\n",
        "    Laptop.laptopCount=0\n",
        "\n",
        "lenovo = Laptop(\"Lenovo\", 5)\n",
        "dell = Laptop(\"Dell\", 7)\n",
        "print(lenovo.name, lenovo.count)\n",
        "print(dell.name, dell.count)\n",
        "print(\"Total number of Laptops\", Laptop.laptopCount)\n",
        "Laptop.advantage()\n",
        "Laptop.resetCount()\n",
        "print(\"Total number of Laptops\", Laptop.laptopCount) "
      ]
    },
    {
      "cell_type": "code",
      "execution_count": null,
      "metadata": {
        "colab": {
          "base_uri": "https://localhost:8080/"
        },
        "id": "Hn40zQ9quJW9",
        "outputId": "03875728-883e-4e50-d9eb-bb9587c33e1c"
      },
      "outputs": [
        {
          "name": "stdout",
          "output_type": "stream",
          "text": [
            "Total number of cats: 0\n",
            "=======================\n",
            "White cat is sitting\n",
            "Black cat is sitting\n",
            "Brown cat is jumping\n",
            "Red cat is purring\n",
            "Grey cat is playing\n",
            "Blue cat is sitting\n",
            "Purple cat is jumping\n",
            "=======================\n",
            "Total number of cats: 5\n"
          ]
        }
      ],
      "source": [
        "#task 7\n",
        "class  Cat:\n",
        "  Number_of_cats=0\n",
        "  def __init__(self,cl,x):\n",
        "    self.color=cl\n",
        "    self.doing=x\n",
        "    Cat.Number_of_cats+=1\n",
        "\n",
        "  def printCat(self):\n",
        "    print(f\"{self.color} cat is {self.doing}\")\n",
        "\n",
        "  def changeColor(self,cl):\n",
        "    self.color=cl\n",
        "  @classmethod\n",
        "  def no_parameter(cls):\n",
        "    return cls(\"White\",\"sitting\")\n",
        "\n",
        "  @classmethod\n",
        "  def first_parameter(cls,cl):\n",
        "    return cls(cl,\"sitting\")\n",
        "\n",
        "  @classmethod\n",
        "  def second_parameter(cls,x):\n",
        "    return cls(\"Grey\",x)\n",
        "\n",
        "print(\"Total number of cats:\", Cat.Number_of_cats)\n",
        "c1 = Cat.no_parameter()\n",
        "c2 = Cat.first_parameter(\"Black\")\n",
        "c3 = Cat(\"Brown\", \"jumping\")\n",
        "c4 = Cat(\"Red\", \"purring\")\n",
        "c5 = Cat.second_parameter(\"playing\")\n",
        "print(\"=======================\")\n",
        "c1.printCat()\n",
        "c2.printCat()\n",
        "c3.printCat()\n",
        "c4.printCat()\n",
        "c5.printCat()\n",
        "c1.changeColor(\"Blue\")\n",
        "c3.changeColor(\"Purple\")\n",
        "c1.printCat()\n",
        "c3.printCat()\n",
        "print(\"=======================\")\n",
        "print(\"Total number of cats:\", Cat.Number_of_cats)\n"
      ]
    },
    {
      "cell_type": "code",
      "execution_count": null,
      "metadata": {
        "colab": {
          "base_uri": "https://localhost:8080/"
        },
        "id": "OCXppMIExXMw",
        "outputId": "14aca98e-998e-4bea-ce10-6536fa00c680"
      },
      "outputs": [
        {
          "name": "stdout",
          "output_type": "stream",
          "text": [
            "Default radius=5 and height=18.\n",
            "Updated: radius=0 and height=0.\n",
            "Area: 0.0\n",
            "Volume: 0.0\n",
            "===============================\n",
            "Default radius=0 and height=0.\n",
            "Updated: radius=3 and height=8.\n",
            "Area: 207.34511513692635\n",
            "Volume: 226.1946710584651\n",
            "===============================\n",
            "Default radius=3 and height=8.\n",
            "Updated: radius=7 and height=13.\n",
            "Area: 879.645943005142\n",
            "Volume: 2001.1945203366981\n",
            "===============================\n",
            "Default radius=7 and height=13.\n",
            "Updated: radius=0.3 and height=5.56.\n",
            "Area: 11.045839770021713\n",
            "===============================\n",
            "Default radius=0.3 and height=5.56.\n",
            "Updated: radius=3 and height=5.\n",
            "Volume: 141.3716694115407\n"
          ]
        }
      ],
      "source": [
        "#task 8\n",
        "import math\n",
        "class Cylinder:\n",
        "  radius=5\n",
        "  height=18\n",
        "  def __init__(self,r,h):\n",
        "    self.radius=r\n",
        "    self.height=h\n",
        "    print(f'Default radius={Cylinder.radius} and height={Cylinder.height}.')\n",
        "    Cylinder.radius=self.radius\n",
        "    Cylinder.height=self.height\n",
        "    print(f'Updated: radius={Cylinder.radius} and height={Cylinder.height}.')\n",
        "\n",
        "  @classmethod\n",
        "  def swap(cls,a,b):\n",
        "    return cls(b,a)\n",
        "  @classmethod\n",
        "  def changeFormat(cls,a):\n",
        "    l=a.split(\"-\")\n",
        "    return cls(int(l[0]),int(l[1]))\n",
        "\n",
        "  @staticmethod\n",
        "  def area (a,b):\n",
        "    print(\"Area:\", 2*math.pi*pow(a,2)+2*math.pi*a*b )\n",
        "\n",
        "  @staticmethod\n",
        "  def volume(a,b):\n",
        "    print(\"Volume:\", math.pi*pow(a,2)*b)\n",
        "\n",
        "\n",
        "c1 = Cylinder(0,0)\n",
        "Cylinder.area(c1.radius,c1.height)\n",
        "Cylinder.volume(c1.radius,c1.height)\n",
        "print(\"===============================\")\n",
        "c2 = Cylinder.swap(8,3)\n",
        "c2.area(c2.radius,c2.height)\n",
        "c2.volume(c2.radius,c2.height)\n",
        "print(\"===============================\")\n",
        "c3 = Cylinder.changeFormat(\"7-13\")\n",
        "c3.area(c3.radius,c3.height)\n",
        "c3.volume(c3.radius,c3.height)\n",
        "print(\"===============================\")\n",
        "Cylinder(0.3,5.56).area(Cylinder.radius,Cylinder.height)\n",
        "print(\"===============================\")\n",
        "Cylinder(3,5).volume(Cylinder.radius,Cylinder.height)\n",
        "\n"
      ]
    },
    {
      "cell_type": "code",
      "execution_count": null,
      "metadata": {
        "colab": {
          "base_uri": "https://localhost:8080/"
        },
        "id": "MyIEV81BgrHr",
        "outputId": "1a57f98c-b4de-4079-c305-402d31cdaf32"
      },
      "outputs": [
        {
          "name": "stdout",
          "output_type": "stream",
          "text": [
            "Total Student(s): 0 \n",
            "BRAC University Student(s): 0 \n",
            "Other Institution Student(s): 0\n",
            "#########################\n",
            "Name: Mikasa Ackerman \n",
            "Department: CSE \n",
            "Institution: BRAC University\n",
            "------------------------------------------\n",
            "Total Student(s): 1 \n",
            "BRAC University Student(s): 1 \n",
            "Other Institution Student(s): 0\n",
            "========================\n",
            "Name: Harry Potter \n",
            "Department: Defence Against Dark Arts \n",
            "Institution: Hogwarts School\n",
            "-------------------------------------------\n",
            "Total Student(s): 2 \n",
            "BRAC University Student(s): 1 \n",
            "Other Institution Student(s): 1\n",
            "=========================\n",
            "Name: Levi Ackerman \n",
            "Department: CSE \n",
            "Institution: BRAC University\n",
            "--------------------------------------------\n",
            "Total Student(s): 3 \n",
            "BRAC University Student(s): 2 \n",
            "Other Institution Student(s): 1\n"
          ]
        }
      ],
      "source": [
        "#task 9\n",
        "class Student:\n",
        "  total_stu=0\n",
        "  bracu_stu=0\n",
        "  oth_stu=0\n",
        "  def __init__(self,name,dept,ins=\"BRAC University\"):\n",
        "    self.name=name\n",
        "    self.dept=dept\n",
        "    self.ins=ins\n",
        "    if ins=='BRAC University':\n",
        "      Student.bracu_stu+=1\n",
        "    else:\n",
        "      Student.oth_stu+=1\n",
        "    Student.total_stu+=1\n",
        "\n",
        "  def individualDetail(self):\n",
        "    print(f\"Name: {self.name} \\nDepartment: {self.dept} \\nInstitution: {self.ins}\")\n",
        "\n",
        "  @classmethod\n",
        "  def createStudent(cls,name,dept,ins=\"BRAC University\"):\n",
        "    return cls(name,dept,ins)\n",
        "\n",
        "  @classmethod\n",
        "  def printDetails(cls):\n",
        "    print(f\"Total Student(s): {Student.total_stu} \\nBRAC University Student(s): {Student.bracu_stu} \\nOther Institution Student(s): {Student.oth_stu}\")\n",
        "\n",
        "\n",
        "Student.printDetails()\n",
        "print('#########################')\n",
        "\n",
        "mikasa = Student('Mikasa Ackerman', \"CSE\")\n",
        "mikasa.individualDetail()\n",
        "print('------------------------------------------')\n",
        "Student.printDetails()\n",
        "\n",
        "print('========================')\n",
        "\n",
        "harry = Student.createStudent('Harry Potter', \"Defence Against Dark Arts\", \"Hogwarts School\")\n",
        "harry.individualDetail()\n",
        "print('-------------------------------------------')\n",
        "Student.printDetails()\n",
        "\n",
        "print('=========================')\n",
        "\n",
        "levi = Student.createStudent(\"Levi Ackerman\", \"CSE\")\n",
        "levi.individualDetail()\n",
        "print('--------------------------------------------')\n",
        "Student.printDetails()\n"
      ]
    },
    {
      "cell_type": "code",
      "execution_count": null,
      "metadata": {
        "colab": {
          "base_uri": "https://localhost:8080/"
        },
        "id": "AvVxvnbEqHJ1",
        "outputId": "f12bd236-5d69-41a4-8a20-d1375afd9eb5"
      },
      "outputs": [
        {
          "name": "stdout",
          "output_type": "stream",
          "text": [
            "Total Number of branch(s): 0 \n",
            "Total Sell: 0 Taka\n",
            "########################\n",
            "Branch Name: Dhanmondi \n",
            "Branch Sell: 10000 Taka\n",
            "-----------------------------------------\n",
            "Total Number of branch(s): 1 \n",
            "Total Sell: 10000 Taka\n",
            "Branch Name: Dhanmondi, Branch Sell: 10000 Taka \n",
            "Branch consists of total sell's: 100.00%\n",
            "========================\n",
            "Branch Name: Baily Road \n",
            "Branch Sell: 5250 Taka\n",
            "-----------------------------------------\n",
            "Total Number of branch(s): 2 \n",
            "Total Sell: 15250 Taka\n",
            "Branch Name: Dhanmondi, Branch Sell: 10000 Taka \n",
            "Branch consists of total sell's: 65.57%\n",
            "Branch Name: Baily Road, Branch Sell: 5250 Taka \n",
            "Branch consists of total sell's: 34.43%\n",
            "========================\n",
            "Branch Name: Gulshan \n",
            "Branch Sell: 2700 Taka\n",
            "-----------------------------------------\n",
            "Total Number of branch(s): 3 \n",
            "Total Sell: 17950 Taka\n",
            "Branch Name: Dhanmondi, Branch Sell: 10000 Taka \n",
            "Branch consists of total sell's: 55.71%\n",
            "Branch Name: Baily Road, Branch Sell: 5250 Taka \n",
            "Branch consists of total sell's: 29.25%\n",
            "Branch Name: Gulshan, Branch Sell: 2700 Taka \n",
            "Branch consists of total sell's: 15.04%\n"
          ]
        }
      ],
      "source": [
        "#task 10\n",
        "class SultansDine:\n",
        "  total_branch=0\n",
        "  sell=0\n",
        "  branch_list=[]\n",
        "  \n",
        "  def __init__(self,name):\n",
        "    self.name=name\n",
        "    self.sell=0\n",
        "    SultansDine.branch_list.append(self)\n",
        "    SultansDine.total_branch+=1\n",
        "\n",
        "  def sellQuantity(self,a):\n",
        "    if a<10:\n",
        "      self.sell=a*300\n",
        "    elif a<20:\n",
        "      self.sell=a*350\n",
        "    else:\n",
        "      self.sell=a*400   \n",
        "    SultansDine.sell+=self.sell\n",
        "\n",
        "  def branchInformation(self):\n",
        "    print(f\"Branch Name: {self.name} \\nBranch Sell: {self.sell} Taka\")\n",
        "\n",
        "  @classmethod\n",
        "  def details(cls):\n",
        "    if SultansDine.total_branch==0:\n",
        "      print(f\"Total Number of branch(s): {SultansDine.total_branch} \\nTotal Sell: {SultansDine.sell} Taka\")\n",
        "    else:\n",
        "      print(f\"Total Number of branch(s): {SultansDine.total_branch} \\nTotal Sell: {SultansDine.sell} Taka\")\n",
        "      #print(SultansDine.branch_list)\n",
        "      for i in SultansDine.branch_list:\n",
        "        print(f\"Branch Name: {i.name}, Branch Sell: {i.sell} Taka \\nBranch consists of total sell's: {'{:.2f}'.format((i.sell/SultansDine.sell)*100)}%\")\n",
        "\n",
        "SultansDine.details()\n",
        "print('########################')\n",
        "dhanmondi = SultansDine('Dhanmondi')\n",
        "dhanmondi.sellQuantity(25)\n",
        "dhanmondi.branchInformation()\n",
        "print('-----------------------------------------')\n",
        "SultansDine.details()\n",
        "\n",
        "print('========================')\n",
        "\n",
        "baily_road = SultansDine('Baily Road')\n",
        "baily_road.sellQuantity(15)\n",
        "baily_road.branchInformation()\n",
        "print('-----------------------------------------')\n",
        "SultansDine.details()\n",
        "\n",
        "print('========================')\n",
        "\n",
        "gulshan = SultansDine('Gulshan')\n",
        "gulshan.sellQuantity(9)\n",
        "gulshan.branchInformation()\n",
        "print('-----------------------------------------')\n",
        "SultansDine.details()\n"
      ]
    }
  ],
  "metadata": {
    "colab": {
      "provenance": []
    },
    "kernelspec": {
      "display_name": "Python 3",
      "name": "python3"
    },
    "language_info": {
      "name": "python"
    }
  },
  "nbformat": 4,
  "nbformat_minor": 0
}
