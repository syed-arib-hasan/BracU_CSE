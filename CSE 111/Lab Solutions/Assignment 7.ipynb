{
  "cells": [
    {
      "attachments": {},
      "cell_type": "markdown",
      "metadata": {
        "id": "Vi5ambucutuw"
      },
      "source": [
        "# **Week 7**"
      ]
    },
    {
      "cell_type": "code",
      "execution_count": null,
      "metadata": {
        "colab": {
          "base_uri": "https://localhost:8080/"
        },
        "id": "57ouRjT8utS5",
        "outputId": "6b59ab11-e511-4cd4-ea75-c5b0883f3f0f"
      },
      "outputs": [
        {
          "name": "stdout",
          "output_type": "stream",
          "text": [
            "Name: default Department: BBA\n",
            "Name: Humpty Dumpty Department: BBA\n",
            "Name: Little Bo Peep Department: BBA\n"
          ]
        }
      ],
      "source": [
        "#task 1\n",
        "class Student:\n",
        "    def __init__(self, name='Just a student', dept='nothing'):\n",
        "        self.__name = name\n",
        "        self.__department = dept\n",
        "    def set_department(self, dept):\n",
        "        self.__department = dept\n",
        "    def get_name(self):\n",
        "        return self.__name\n",
        "    def set_name(self,name):\n",
        "        self.__name = name\n",
        "    def __str__(self):\n",
        "        return 'Name: '+self.__name+' Department: '+self.__department\n",
        "\n",
        "class BBA_Student(Student):\n",
        "  def __init__(self,name=\"default\",dept=\"BBA\"):\n",
        "    super().__init__(name,dept)\n",
        "\n",
        "\n",
        "\n",
        "\n",
        "print(BBA_Student())\n",
        "print(BBA_Student('Humpty Dumpty'))\n",
        "print(BBA_Student('Little Bo Peep'))"
      ]
    },
    {
      "cell_type": "code",
      "execution_count": null,
      "metadata": {
        "colab": {
          "base_uri": "https://localhost:8080/"
        },
        "id": "haZPE6_DzId-",
        "outputId": "dbe8528d-326e-4655-f606-43f4e15f453a"
      },
      "outputs": [
        {
          "name": "stdout",
          "output_type": "stream",
          "text": [
            "Part 1\n",
            "------\n",
            "(0 , 0)\n",
            "(0 , 1)\n",
            "(-1 , 1)\n",
            "(-1 , 0)\n",
            "(0 , 0)\n",
            "------\n",
            "Part 2\n",
            "------\n",
            "(0 , 0)\n",
            "(-1 , -1)\n",
            "False\n",
            "True\n"
          ]
        }
      ],
      "source": [
        "#task 2\n",
        "class Vehicle:\n",
        "    def __init__(self):\n",
        "        self.x = 0\n",
        "        self.y = 0\n",
        "    def moveUp(self):\n",
        "        self.y += 1\n",
        "    def moveDown(self):\n",
        "        self.y -= 1\n",
        "    def moveRight(self):\n",
        "        self.x += 1\n",
        "    def moveLeft(self):\n",
        "        self.x -= 1\n",
        "    def __str__(self):\n",
        "        return '('+str(self.x)+' , '+str(self.y)+')'\n",
        "\n",
        "class Vehicle2010(Vehicle):\n",
        "  def moveUpperRight(self):\n",
        "    super().moveUp()\n",
        "    super().moveRight()\n",
        "\n",
        "  def moveUpperLeft(self):\n",
        "    super().moveUp()\n",
        "    super().moveLeft()\n",
        "\n",
        "  def moveLowerRight(self):\n",
        "    super().moveDown()\n",
        "    super().moveRight()\n",
        "\n",
        "  def moveLowerLeft(self):\n",
        "    super().moveDown()\n",
        "    super().moveLeft()\n",
        "\n",
        "\n",
        "  def equals(self,obj):\n",
        "    if self.x==obj.x and self.y==obj.y:\n",
        "      return True\n",
        "    else:\n",
        "      return False\n",
        "\n",
        " \n",
        "print('Part 1')\n",
        "print('------')\n",
        "car = Vehicle()\n",
        "print(car)\n",
        "car.moveUp()\n",
        "print(car)\n",
        "car.moveLeft()\n",
        "print(car)\n",
        "car.moveDown()\n",
        "print(car)\n",
        "car.moveRight()\n",
        "print(car)\n",
        "print('------')\n",
        "print('Part 2')\n",
        "print('------')\n",
        "car1 = Vehicle2010()\n",
        "print(car1)\n",
        "car1.moveLowerLeft()\n",
        "print(car1)\n",
        "car2 = Vehicle2010()\n",
        "car2.moveLeft()\n",
        "print(car1.equals(car2))\n",
        "car2.moveDown()\n",
        "print(car1.equals(car2))"
      ]
    },
    {
      "cell_type": "code",
      "execution_count": null,
      "metadata": {
        "colab": {
          "base_uri": "https://localhost:8080/"
        },
        "id": "yTQZIhK610R_",
        "outputId": "9a0e13f1-9e37-4f19-c6d3-fdee0b1d30f6"
      },
      "outputs": [
        {
          "name": "stdout",
          "output_type": "stream",
          "text": [
            "Cricket Tournament Name: Default \n",
            "Number of Teams: 0 \n",
            "Type: No type\n",
            "-----------------------\n",
            "Cricket Tournament Name: IPL \n",
            "Number of Teams: 10 \n",
            "Type: t20\n",
            "-----------------------\n",
            "Tennis  Tournament Name: Roland Garros \n",
            "Number of Players: 128\n"
          ]
        }
      ],
      "source": [
        "#task 3\n",
        "class Tournament:\n",
        "    def __init__(self,name='Default'):\n",
        "        self.__name = name\n",
        "    def set_name(self,name):\n",
        "        self.__name = name\n",
        "    def get_name(self):\n",
        "        return self.__name\n",
        "\n",
        "class Cricket_Tournament(Tournament):\n",
        "  def __init__(self,n=\"Default\",team=0,typ=\"No type\"):\n",
        "    super().__init__(n)\n",
        "    self.no_of_team=team\n",
        "    self.type_of=typ\n",
        "\n",
        "  def detail(self):\n",
        "    return (f\"Cricket Tournament Name: {self.get_name()} \\nNumber of Teams: {self.no_of_team} \\nType: {self.type_of}\")\n",
        "\n",
        "class Tennis_Tournament (Tournament):\n",
        "  def __init__(self,n=\"Default\",p=0):\n",
        "    super().__init__(n)\n",
        "    self.no_of_p=p\n",
        "  \n",
        "  def detail(self):\n",
        "    return (f\"Tennis  Tournament Name: {self.get_name()} \\nNumber of Players: {self.no_of_p}\")\n",
        "\n",
        "\n",
        "ct1 = Cricket_Tournament()\n",
        "print(ct1.detail())\n",
        "print(\"-----------------------\")\n",
        "ct2 = Cricket_Tournament(\"IPL\",10,\"t20\")\n",
        "print(ct2.detail())\n",
        "print(\"-----------------------\")\n",
        "tt = Tennis_Tournament(\"Roland Garros\",128)\n",
        "print(tt.detail())\n"
      ]
    },
    {
      "cell_type": "code",
      "execution_count": null,
      "metadata": {
        "colab": {
          "base_uri": "https://localhost:8080/"
        },
        "id": "RKzTJu7T6P83",
        "outputId": "c686e006-4ecb-4873-8d3e-cb5974902d8e"
      },
      "outputs": [
        {
          "name": "stdout",
          "output_type": "stream",
          "text": [
            "ID: 1 Title:The Alchemist Price: 500 \n",
            "ISBN: 97806 Publisher: HarperCollins\n",
            "-----------------------\n",
            "ID: 2 Title:Shotto Price: 300 \n",
            "Band: Warfaze Duration: 50 Genre: Hard Rock\n"
          ]
        }
      ],
      "source": [
        "#task 4\n",
        "class Product:\n",
        "    def __init__(self,id, title, price):\n",
        "        self.__id = id\n",
        "        self.__title = title\n",
        "        self.__price = price\n",
        "    def get_id_title_price(self):\n",
        "        return \"ID: \"+str(self.__id)+\" Title:\"+self.__title+\" Price: \"+str(self.__price)\n",
        "\n",
        "class Book(Product):\n",
        "  def __init__(self,id,title,price,isbn,pub):\n",
        "    super().__init__(id,title,price)\n",
        "    self.isbn=isbn\n",
        "    self.pub=pub\n",
        "\n",
        "  def printDetail(self):\n",
        "    return(f\"{self.get_id_title_price()} \\nISBN: {self.isbn} Publisher: {self.pub}\")\n",
        "class CD(Product):\n",
        "  def __init__(self,id,title,price,band,duration,genre):\n",
        "    super().__init__(id,title,price)\n",
        "    self.band=band\n",
        "    self.duration=duration\n",
        "    self.genre=genre\n",
        "  \n",
        "  def printDetail(self):\n",
        "    return(f\"{self.get_id_title_price()} \\nBand: {self.band} Duration: {self.duration} Genre: {self.genre}\")\n",
        "\n",
        "\n",
        "book = Book(1,\"The Alchemist\",500,\"97806\",\"HarperCollins\")\n",
        "print(book.printDetail())\n",
        "print(\"-----------------------\")\n",
        "cd = CD(2,\"Shotto\",300,\"Warfaze\",50,\"Hard Rock\")\n",
        "print(cd.printDetail())\n"
      ]
    },
    {
      "cell_type": "code",
      "execution_count": null,
      "metadata": {
        "colab": {
          "base_uri": "https://localhost:8080/"
        },
        "id": "3vMdJC5a-BeW",
        "outputId": "f9beaf0d-b62e-48eb-c1d4-86c8385498ba"
      },
      "outputs": [
        {
          "name": "stdout",
          "output_type": "stream",
          "text": [
            "Animal does not make sound\n",
            "meow\n",
            "bark\n"
          ]
        }
      ],
      "source": [
        "#TASK 5\n",
        "class Animal:   \n",
        "    def __init__(self,sound):\n",
        "        self.__sound = sound\n",
        "        \n",
        "    def makeSound(self):\n",
        "        return self.__sound\n",
        "        \n",
        "\n",
        "\n",
        "class Printer:   \n",
        "    def printSound(self, a):\n",
        "        print(a.makeSound())\n",
        "\n",
        "class Dog(Animal):\n",
        "  def __init__(self,a):\n",
        "    super().__init__(a)\n",
        "\n",
        "class Cat(Animal):\n",
        "  def __init__(self,a):\n",
        "    super().__init__(a)\n",
        "\n",
        "d1 = Dog('bark')\n",
        "c1 = Cat('meow')\n",
        "a1 = Animal('Animal does not make sound')\n",
        "pr = Printer()\n",
        "pr.printSound(a1)\n",
        "pr.printSound(c1)\n",
        "pr.printSound(d1)"
      ]
    },
    {
      "cell_type": "code",
      "execution_count": null,
      "metadata": {
        "colab": {
          "base_uri": "https://localhost:8080/"
        },
        "id": "SMQU4PAM-FjX",
        "outputId": "72e95518-7b90-46dd-ef9d-b509a3132b51"
      },
      "outputs": [
        {
          "name": "stdout",
          "output_type": "stream",
          "text": [
            "Default \n",
            "Height: 0,Base: 0 \n",
            "Area: 0.0\n",
            "--------------------------\n",
            "Triangle \n",
            "Height: 10,Base: 5 \n",
            "Area: 25.0\n",
            "---------------------------\n",
            "Trapezoid \n",
            "Height: 10,Base: 6 \n",
            "Area: 50.0\n"
          ]
        }
      ],
      "source": [
        "#task 6\n",
        "class Shape:\n",
        "\n",
        "  def __init__(self, name='Default', height=0, base=0):\n",
        "    self.area = 0\n",
        "    self.name = name\n",
        "    self.height = height\n",
        "    self.base = base\n",
        "\n",
        "  def get_height_base(self):\n",
        "    return \"Height: \"+str(self.height)+\",Base: \"+str(self.base)\n",
        "\n",
        "class triangle(Shape):\n",
        "  def calcArea(self):\n",
        "    self.area=.5*self.base*self.height\n",
        "\n",
        "  def printDetail(self):\n",
        "    return (f\"{self.name} \\n{self.get_height_base()} \\nArea: {self.area}\")\n",
        "\n",
        "class trapezoid(Shape):\n",
        "  def __init__(self,n,h,b,s):\n",
        "    self.n=n\n",
        "    self.s=s\n",
        "    super().__init__(n,h,b)\n",
        "  def calcArea(self):\n",
        "    self.area=.5*(self.s+self.base)*self.height\n",
        "\n",
        "  def printDetail(self):\n",
        "    return(f\"{self.n} \\n{self.get_height_base()} \\nArea: {self.area}\")\n",
        "\n",
        "\n",
        "tri_default = triangle()\n",
        "tri_default.calcArea()\n",
        "print(tri_default.printDetail())\n",
        "print('--------------------------')\n",
        "tri = triangle('Triangle', 10, 5)\n",
        "tri.calcArea()\n",
        "print(tri.printDetail())\n",
        "print('---------------------------')\n",
        "trap = trapezoid('Trapezoid', 10, 6, 4)\n",
        "trap.calcArea()\n",
        "print(trap.printDetail())\n"
      ]
    },
    {
      "cell_type": "code",
      "execution_count": null,
      "metadata": {
        "id": "sQT6qLTTDN7P"
      },
      "outputs": [],
      "source": [
        "\n"
      ]
    }
  ],
  "metadata": {
    "colab": {
      "provenance": []
    },
    "kernelspec": {
      "display_name": "Python 3",
      "name": "python3"
    },
    "language_info": {
      "name": "python"
    }
  },
  "nbformat": 4,
  "nbformat_minor": 0
}
