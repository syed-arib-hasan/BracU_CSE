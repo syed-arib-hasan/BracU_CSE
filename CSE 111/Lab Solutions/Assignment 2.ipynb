{
  "cells": [
    {
      "attachments": {},
      "cell_type": "markdown",
      "metadata": {
        "id": "zeQ_gsQNNBoD"
      },
      "source": [
        "# **WEEK 2**"
      ]
    },
    {
      "cell_type": "code",
      "execution_count": null,
      "metadata": {
        "colab": {
          "base_uri": "https://localhost:8080/"
        },
        "id": "Mb5JRkY_NFI_",
        "outputId": "75417833-9874-4acb-c217-518b051fb759"
      },
      "outputs": [
        {
          "name": "stdout",
          "output_type": "stream",
          "text": [
            "0\n"
          ]
        }
      ],
      "source": [
        "#TASK 1\n",
        "def fraction (a,b):\n",
        "  try:\n",
        "    s=(a/b)-(a//b)\n",
        "    return (s)\n",
        "  except:\n",
        "    return (0)\n",
        "print(fraction(5,0))"
      ]
    },
    {
      "cell_type": "code",
      "execution_count": null,
      "metadata": {
        "colab": {
          "base_uri": "https://localhost:8080/"
        },
        "id": "Ua_Fj7BCPbgR",
        "outputId": "02f3e24e-a1fa-496c-b15f-46ad065d38d1"
      },
      "outputs": [
        {
          "name": "stdout",
          "output_type": "stream",
          "text": [
            "Score is 31.3. You are Obese\n"
          ]
        }
      ],
      "source": [
        "#task 2\n",
        "def bmi(h,w):\n",
        "  b=w/(h/100)**2\n",
        "  if b<18.5:\n",
        "    return(f\"Score is {round(b,1)}. You are Underweight\")\n",
        "  elif 18.5<b<24.9:\n",
        "    return(f\"Score is {round(b,1)}. You are Normal\")\n",
        "  elif 25<b<30:\n",
        "    return(f\"Score is {round(b,1)}. You are Overweight\")\n",
        "  elif b>30:\n",
        "    return(f\"Score is {round(b,1)}. You are Obese\")\n",
        "print(bmi(175,96))"
      ]
    },
    {
      "cell_type": "code",
      "execution_count": null,
      "metadata": {
        "colab": {
          "base_uri": "https://localhost:8080/"
        },
        "id": "xCOO89BTVOac",
        "outputId": "c57a1065-904d-4105-9443-d860a2eff6e7"
      },
      "outputs": [
        {
          "name": "stdout",
          "output_type": "stream",
          "text": [
            "45\n"
          ]
        }
      ],
      "source": [
        "#task 3\n",
        "def divi(a,b,c):\n",
        "  sum=0\n",
        "  for i in range (a,b):\n",
        "    if i%c==0:\n",
        "      sum+=i\n",
        "  return(sum)\n",
        "print(divi(3,16,3))"
      ]
    },
    {
      "cell_type": "code",
      "execution_count": null,
      "metadata": {
        "colab": {
          "base_uri": "https://localhost:8080/"
        },
        "id": "FVNJr9rhWKFI",
        "outputId": "953b5fd6-e220-497d-c985-0bfea62f4445"
      },
      "outputs": [
        {
          "name": "stdout",
          "output_type": "stream",
          "text": [
            "223.6\n"
          ]
        }
      ],
      "source": [
        "#task 4\n",
        "def order(food,place=\"Mohakhali\"):\n",
        "  menu={\"BBQ Chicken Cheese Burger\": 250,\"Beef Burger\":170,\"Naga Drums\": 200}\n",
        "  if place==\"Mohakhali\":\n",
        "    total=menu[food]+40+(menu[food]*.08)\n",
        "  else:\n",
        "    total=menu[food]+60+(menu[food]*.08)\n",
        "  return(total)\n",
        "print(order(\"Beef Burger\"))"
      ]
    },
    {
      "cell_type": "code",
      "execution_count": null,
      "metadata": {
        "colab": {
          "base_uri": "https://localhost:8080/"
        },
        "id": "bxIQwIl6bJB6",
        "outputId": "00730d10-121c-4d36-af5a-4f397d336718"
      },
      "outputs": [
        {
          "name": "stdout",
          "output_type": "stream",
          "text": [
            "Unchanged: bob@sheba.xyz\n"
          ]
        }
      ],
      "source": [
        "#task 5\n",
        "def replace_domain(a,b,c=\"sheba.xyz\"):\n",
        "  x=a.split(\"@\")\n",
        "  if c==b:\n",
        "    return (f\"Unchanged: {a}\")\n",
        "  else:\n",
        "    output=x[0]+\"@\"+b\n",
        "    return (f\"Changed: {output}\")\n",
        "print (replace_domain (\"bob@sheba.xyz\", \"sheba.xyz\"))"
      ]
    },
    {
      "cell_type": "code",
      "execution_count": null,
      "metadata": {
        "colab": {
          "base_uri": "https://localhost:8080/"
        },
        "id": "NxMUR4f1bj2J",
        "outputId": "dd790b42-957f-43aa-ab29-6456091230eb"
      },
      "outputs": [
        {
          "name": "stdout",
          "output_type": "stream",
          "text": [
            "AymN\n",
            "Vowels: A. Total number of vowels: 1\n"
          ]
        }
      ],
      "source": [
        "#task 6\n",
        "def name(a):\n",
        "  vowel=[\"a\",\"e\",\"i\",\"o\",\"u\",\"A\",\"e\",\"i\",\"O\",\"U\"]\n",
        "  l=[]\n",
        "  for i in a:\n",
        "    if i in vowel:\n",
        "      l.append(i)\n",
        "  if len(l)==0:\n",
        "    return(\"No vowels in the name\")\n",
        "  else:\n",
        "    out=\"\"\n",
        "    count=0\n",
        "    for i in l:\n",
        "      if count==len(l)-1:\n",
        "        out+=i\n",
        "      else:\n",
        "        out+=i\n",
        "        out+=\",\"\n",
        "        count+=1\n",
        "    return (f\"Vowels: {out}. Total number of vowels: {len(l)}\")\n",
        "n=input()\n",
        "print(name(n))\n"
      ]
    },
    {
      "cell_type": "code",
      "execution_count": null,
      "metadata": {
        "colab": {
          "base_uri": "https://localhost:8080/"
        },
        "id": "5MAdslQ8jsCQ",
        "outputId": "9a9f43c4-0d41-4d0f-908e-6335407fc5d1"
      },
      "outputs": [
        {
          "name": "stdout",
          "output_type": "stream",
          "text": [
            "Palindrome\n"
          ]
        }
      ],
      "source": [
        "#task 7\n",
        "def pali(a):\n",
        "  w=\"\"\n",
        "  for i in a:\n",
        "    if i==\" \":\n",
        "      continue\n",
        "    w+=i\n",
        "  w=w.lower()\n",
        "  if w[0:]==w[-1::-1]:\n",
        "    return(\"Palindrome\")\n",
        "  else:\n",
        "    return(\"Not a palindrome\")\n",
        "print(pali(\"bob\"))"
      ]
    },
    {
      "cell_type": "code",
      "execution_count": null,
      "metadata": {
        "colab": {
          "base_uri": "https://localhost:8080/"
        },
        "id": "0_sHQ1TInLwW",
        "outputId": "b1cff2ec-b949-445a-ebc8-442371ef7f9b"
      },
      "outputs": [
        {
          "name": "stdout",
          "output_type": "stream",
          "text": [
            "Days: 4320\n",
            "11 years, 10 months and 5 days\n"
          ]
        }
      ],
      "source": [
        "#task 8\n",
        "def cal(a):\n",
        "  years=a//365\n",
        "  months=(a%365)//30\n",
        "  days=(a%365)%30\n",
        "  return(f\"{years} years, {months} months and {days} days\")\n",
        "print(cal(int(input(\"Days: \"))))"
      ]
    },
    {
      "cell_type": "code",
      "execution_count": null,
      "metadata": {
        "colab": {
          "base_uri": "https://localhost:8080/"
        },
        "id": "M1zucYrMnVzV",
        "outputId": "79a69b97-1616-4e73-c728-54d2399877a0"
      },
      "outputs": [
        {
          "name": "stdout",
          "output_type": "stream",
          "text": [
            "My favourite animal is a dog. A dog has sharp teeth so that it can eat flesh very easily. Do you know my pet dog’s name? I love my pet very much.\n"
          ]
        }
      ],
      "source": [
        "#task 9\n",
        "def cap(a):\n",
        "  out=\"\"\n",
        "  flag=0\n",
        "  count=0\n",
        "  for i in a:\n",
        "    if i==\" \":\n",
        "      out+=i\n",
        "    elif flag==0:\n",
        "      out+=chr(ord(i)-32)\n",
        "      flag=1\n",
        "    elif i==\"i\" and a[count+1]==\" \"and a[count-1]!=\"i\":\n",
        "      out+=\"I\"\n",
        "    elif i==\".\"or i==\"?\"or i==\"!\":\n",
        "      out+=i\n",
        "      flag=0\n",
        "    else:\n",
        "      out+=i\n",
        "    count+=1\n",
        "  return(out)\n",
        "print(cap('my favourite animal is a dog. a dog has sharp teeth so that it can eat flesh very easily. do you know my pet dog’s name? i love my pet very much.'))"
      ]
    }
  ],
  "metadata": {
    "colab": {
      "provenance": []
    },
    "kernelspec": {
      "display_name": "Python 3",
      "name": "python3"
    },
    "language_info": {
      "name": "python"
    }
  },
  "nbformat": 4,
  "nbformat_minor": 0
}
