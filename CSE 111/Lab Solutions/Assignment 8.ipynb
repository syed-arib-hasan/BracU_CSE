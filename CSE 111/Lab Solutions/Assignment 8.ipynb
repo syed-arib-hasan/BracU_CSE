{
  "cells": [
    {
      "attachments": {},
      "cell_type": "markdown",
      "metadata": {
        "id": "NqbVOr87tKnI"
      },
      "source": [
        "# **Week 8**"
      ]
    },
    {
      "cell_type": "code",
      "execution_count": null,
      "metadata": {
        "colab": {
          "base_uri": "https://localhost:8080/"
        },
        "id": "ueGL0X2-tQjB",
        "outputId": "8383d59c-5ab8-449b-b372-509755a4d002"
      },
      "outputs": [
        {
          "name": "stdout",
          "output_type": "stream",
          "text": [
            "8\n",
            "2+1i\n",
            "3+5i\n",
            "5+6i\n",
            "-1-4i\n"
          ]
        }
      ],
      "source": [
        "#task 2\n",
        "class RealNumber:\n",
        "    def __init__(self, number=0):\n",
        "        self.number = number\n",
        "    def __add__(self, anotherRealNumber):\n",
        "        return self.number + anotherRealNumber.number\n",
        "    def __sub__(self, anotherRealNumber):\n",
        "        return self.number - anotherRealNumber.number\n",
        "    def __str__(self):\n",
        "        return str(self.number)\n",
        "class ComplexNumber(RealNumber):\n",
        "  def __init__(self,real,img):\n",
        "    if type(real)==int:\n",
        "      super().__init__(real)\n",
        "    else:\n",
        "      super().__init__(real.number)\n",
        "    self.img=img\n",
        "  def __str__(self):\n",
        "    return (f\"{self.number}+{self.img}i\")\n",
        "  def __add__(obj1,obj2):\n",
        "    return(f\"{obj1.number+obj2.number}+{obj1.img+obj2.img}i\")\n",
        "  def __sub__(obj1,obj2):\n",
        "    if obj1.img-obj2.img>0:\n",
        "      return(f\"{obj1.number-obj2.number}+{obj1.img-obj2.img}i\")\n",
        "    else:\n",
        "      return(f\"{obj1.number-obj2.number}{obj1.img-obj2.img}i\")\n",
        "\n",
        "r1 = RealNumber(3)\n",
        "r2 = RealNumber(5)\n",
        "print(r1+r2)\n",
        "cn1 = ComplexNumber(2, 1)\n",
        "print(cn1)\n",
        "cn2 = ComplexNumber(r1, 5)\n",
        "print(cn2)\n",
        "cn3 = cn1 + cn2\n",
        "print(cn3)\n",
        "cn4 = cn1 - cn2\n",
        "print(cn4)\n",
        "\n",
        "\n",
        "\n",
        "\n"
      ]
    },
    {
      "cell_type": "code",
      "execution_count": null,
      "metadata": {
        "colab": {
          "base_uri": "https://localhost:8080/"
        },
        "id": "iEMwQvCiz5RG",
        "outputId": "c244dda2-1e20-48b4-aab5-1ab5cca0f808"
      },
      "outputs": [
        {
          "name": "stdout",
          "output_type": "stream",
          "text": [
            "Shape name: Sphere, Area Formula: 4 * pi * r * r\n",
            "----------------------------------\n",
            "Radius: 5, Height: No need \n",
            "Area: 314.159\n",
            "==================================\n",
            "Shape name: Cylinder, Area Formula: 2 * pi * r * (r + h)\n",
            "----------------------------------\n",
            "Radius: 5, Height: 10 \n",
            "Area: 471.2385\n"
          ]
        }
      ],
      "source": [
        "#task 6\n",
        "class Shape3D:\n",
        "\n",
        "  pi = 3.14159\n",
        "  def __init__(self, name = 'Default', radius = 0):\n",
        "    self._area = 0\n",
        "    self._name = name\n",
        "    self._height = 'No need'\n",
        "    self._radius = radius   \n",
        "\n",
        "  def calc_surface_area(self):\n",
        "    return 2 * Shape3D.pi * self._radius\n",
        "\n",
        "  def __str__(self):\n",
        "      return \"Radius: \"+str(self._radius)\n",
        "\n",
        "class Sphere(Shape3D):\n",
        "  def __init__(self,n,r):\n",
        "    super().__init__(n,r)\n",
        "    print('Shape name: Sphere, Area Formula: 4 * pi * r * r')\n",
        "\n",
        "  def calc_surface_area(self):\n",
        "    self._area=4*Shape3D.pi*self._radius*self._radius\n",
        "  \n",
        "  def __str__(self):\n",
        "    return f\"Radius: {self._radius}, Height: {self._height} \\nArea: {self._area}\"\n",
        "\n",
        "class Cylinder(Shape3D):\n",
        "  def __init__(self,n,r,h):\n",
        "    super().__init__(n,r)\n",
        "    self._height=h\n",
        "    print('Shape name: Cylinder, Area Formula: 2 * pi * r * (r + h)')\n",
        "\n",
        "  def calc_surface_area(self):\n",
        "    self._area=2*Shape3D.pi*self._radius*(self._radius+self._height)\n",
        "  \n",
        "  def __str__(self):\n",
        "    return f\"Radius: {self._radius}, Height: {self._height} \\nArea: {self._area}\"\n",
        "\n",
        "sph = Sphere('Sphere', 5)\n",
        "print('----------------------------------')\n",
        "sph.calc_surface_area()\n",
        "print(sph)\n",
        "print('==================================')\n",
        "cyl = Cylinder('Cylinder', 5, 10)\n",
        "print('----------------------------------')\n",
        "cyl.calc_surface_area()\n",
        "print(cyl)\n"
      ]
    },
    {
      "cell_type": "code",
      "execution_count": null,
      "metadata": {
        "colab": {
          "base_uri": "https://localhost:8080/",
          "height": 269
        },
        "id": "8QXL9RJ-8na6",
        "outputId": "a4494796-126f-4971-fc30-0b94a5af7849"
      },
      "outputs": [
        {
          "name": "stdout",
          "output_type": "stream",
          "text": [
            "\n",
            "------------Basic Info:--------------\n"
          ]
        },
        {
          "ename": "TypeError",
          "evalue": "ignored",
          "output_type": "error",
          "traceback": [
            "\u001b[0;31m---------------------------------------------------------------------------\u001b[0m",
            "\u001b[0;31mTypeError\u001b[0m                                 Traceback (most recent call last)",
            "\u001b[0;32m<ipython-input-11-341bd2169996>\u001b[0m in \u001b[0;36m<cell line: 53>\u001b[0;34m()\u001b[0m\n\u001b[1;32m     51\u001b[0m \u001b[0mprint\u001b[0m\u001b[0;34m(\u001b[0m\u001b[0;34m'\\n------------Basic Info:--------------'\u001b[0m\u001b[0;34m)\u001b[0m\u001b[0;34m\u001b[0m\u001b[0;34m\u001b[0m\u001b[0m\n\u001b[1;32m     52\u001b[0m \u001b[0mpk\u001b[0m \u001b[0;34m=\u001b[0m \u001b[0mPokemonBasic\u001b[0m\u001b[0;34m(\u001b[0m\u001b[0;34m)\u001b[0m\u001b[0;34m\u001b[0m\u001b[0;34m\u001b[0m\u001b[0m\n\u001b[0;32m---> 53\u001b[0;31m \u001b[0mprint\u001b[0m\u001b[0;34m(\u001b[0m\u001b[0mpk\u001b[0m\u001b[0;34m)\u001b[0m\u001b[0;34m\u001b[0m\u001b[0;34m\u001b[0m\u001b[0m\n\u001b[0m\u001b[1;32m     54\u001b[0m \u001b[0mprint\u001b[0m\u001b[0;34m(\u001b[0m\u001b[0mpk\u001b[0m\u001b[0;34m.\u001b[0m\u001b[0mget_type\u001b[0m\u001b[0;34m(\u001b[0m\u001b[0;34m)\u001b[0m\u001b[0;34m)\u001b[0m\u001b[0;34m\u001b[0m\u001b[0;34m\u001b[0m\u001b[0m\n\u001b[1;32m     55\u001b[0m \u001b[0mprint\u001b[0m\u001b[0;34m(\u001b[0m\u001b[0mpk\u001b[0m\u001b[0;34m.\u001b[0m\u001b[0mget_move\u001b[0m\u001b[0;34m(\u001b[0m\u001b[0;34m)\u001b[0m\u001b[0;34m)\u001b[0m\u001b[0;34m\u001b[0m\u001b[0;34m\u001b[0m\u001b[0m\n",
            "\u001b[0;31mTypeError\u001b[0m: __str__ returned non-string (type tuple)"
          ]
        }
      ],
      "source": [
        "#task 7\n",
        "class PokemonBasic:\n",
        "\n",
        "  def __init__(self, name = 'Default', hp = 0, weakness = 'None', type = 'Unknown'):\n",
        "    self.name = name\n",
        "    self.hit_point = hp\n",
        "    self.weakness = weakness\n",
        "    self.type = type\n",
        "\n",
        "  def get_type(self):\n",
        "    return 'Main type: ' + self.type\n",
        "\n",
        "  def get_move(self):\n",
        "    return 'Basic move: ' + 'Quick Attack'\n",
        "\n",
        "  def __str__(self):\n",
        "    return \"Name: \" + self.name + \", HP: \" + str(self.hit_point) + \", Weakness: \" , self.weakness\n",
        "\n",
        "class PokemonExtra(PokemonBasic):\n",
        "  def __init__(self,n,hp,w,t,*args):\n",
        "    self.args=args\n",
        "    super().__init__(n,hp,w,t)\n",
        "    if len(args)==1:\n",
        "      self.secondtype=args[0]\n",
        "    elif len(args)==2:\n",
        "      self.secondtype=args[0]\n",
        "      self.othmove=args[1]\n",
        "\n",
        "  def get_type(self):\n",
        "    if len(self.args)==1:\n",
        "      return(f\"Main type: {self.type}, Secondary type: {self.args[0]}\")\n",
        "    else:\n",
        "      return 'Main type: ' + self.type\n",
        "  \n",
        "  def get_move(self):    \n",
        "    if len(self.args)==2:\n",
        "      m=\"\"\n",
        "      for i in range (len(self.args[1])):\n",
        "        if i==len(self.args[1])-1:\n",
        "          m+=self.args[1][i]\n",
        "        else:\n",
        "          m+=self.args[1][i]+\", \"\n",
        "      return f\"Basic move: Quick Attack \\nOther move: {m}\"\n",
        "    else:\n",
        "      return 'Basic move: ' + 'Quick Attack'\n",
        "\n",
        "      \n",
        "\n",
        "\n",
        "\n",
        "print('\\n------------Basic Info:--------------')\n",
        "pk = PokemonBasic()\n",
        "print(pk)\n",
        "print(pk.get_type())\n",
        "print(pk.get_move())\n",
        "\n",
        "print('\\n------------Pokemon 1 Info:-------------')\n",
        "charmander = PokemonExtra('Charmander', 39, 'Water', 'Fire')\n",
        "print(charmander)\n",
        "print(charmander.get_type())\n",
        "print(charmander.get_move())\n",
        "\n",
        "print('\\n------------Pokemon 2 Info:-------------')\n",
        "charizard = PokemonExtra('Charizard', 78, 'Water', 'Fire', 'Flying', ('Fire Spin', 'Fire Blaze'))\n",
        "print(charizard)\n",
        "print(charizard.get_type())\n",
        "print(charizard.get_move())\n",
        "\n",
        "\n",
        "print('\\n------------Basic Info:--------------')\n",
        "pk = PokemonBasic()\n",
        "print(pk)\n",
        "print(pk.get_type())\n",
        "print(pk.get_move())\n",
        "\n",
        "print('\\n------------Pokemon 1 Info:-------------')\n",
        "charmander = PokemonExtra('Charmander', 39, 'Water', 'Fire')\n",
        "print(charmander)\n",
        "print(charmander.get_type())\n",
        "print(charmander.get_move())\n",
        "\n",
        "print('\\n------------Pokemon 2 Info:-------------')\n",
        "charizard = PokemonExtra('Charizard', 78, 'Water', 'Fire', 'Flying', ('Fire Spin', 'Fire Blaze'))\n",
        "print(charizard)\n",
        "print(charizard.get_type())\n",
        "print(charizard.get_move())\n"
      ]
    }
  ],
  "metadata": {
    "colab": {
      "provenance": []
    },
    "kernelspec": {
      "display_name": "Python 3",
      "name": "python3"
    },
    "language_info": {
      "name": "python"
    }
  },
  "nbformat": 4,
  "nbformat_minor": 0
}
